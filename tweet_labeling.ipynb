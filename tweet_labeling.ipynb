{
  "nbformat": 4,
  "nbformat_minor": 0,
  "metadata": {
    "accelerator": "GPU",
    "colab": {
      "name": "tweet_labeling3.ipynb",
      "provenance": [],
      "collapsed_sections": [],
      "machine_shape": "hm"
    },
    "kernelspec": {
      "display_name": "Python 3",
      "name": "python3"
    },
    "language_info": {
      "name": "python"
    }
  },
  "cells": [
    {
      "cell_type": "code",
      "metadata": {
        "colab": {
          "base_uri": "https://localhost:8080/"
        },
        "id": "_RH0UqMuqGdc",
        "outputId": "587fe830-0b8e-4800-d421-eed782f4cd34"
      },
      "source": [
        "!pip install -q pickle5\n",
        "!pip install -q nltk\n",
        "!pip install -q tensorboardX\n",
        "!pip install -q transformers\n",
        "!pip install -q emoji"
      ],
      "execution_count": null,
      "outputs": [
        {
          "output_type": "stream",
          "name": "stdout",
          "text": [
            "\u001b[?25l\r\u001b[K     |██▌                             | 10 kB 33.8 MB/s eta 0:00:01\r\u001b[K     |█████                           | 20 kB 20.2 MB/s eta 0:00:01\r\u001b[K     |███████▍                        | 30 kB 11.5 MB/s eta 0:00:01\r\u001b[K     |██████████                      | 40 kB 9.4 MB/s eta 0:00:01\r\u001b[K     |████████████▍                   | 51 kB 4.3 MB/s eta 0:00:01\r\u001b[K     |██████████████▉                 | 61 kB 4.6 MB/s eta 0:00:01\r\u001b[K     |█████████████████▍              | 71 kB 4.5 MB/s eta 0:00:01\r\u001b[K     |███████████████████▉            | 81 kB 5.0 MB/s eta 0:00:01\r\u001b[K     |██████████████████████▎         | 92 kB 5.0 MB/s eta 0:00:01\r\u001b[K     |████████████████████████▉       | 102 kB 4.3 MB/s eta 0:00:01\r\u001b[K     |███████████████████████████▎    | 112 kB 4.3 MB/s eta 0:00:01\r\u001b[K     |█████████████████████████████▊  | 122 kB 4.3 MB/s eta 0:00:01\r\u001b[K     |████████████████████████████████| 132 kB 4.3 MB/s \n",
            "\u001b[?25h  Building wheel for pickle5 (setup.py) ... \u001b[?25l\u001b[?25hdone\n",
            "\u001b[K     |████████████████████████████████| 124 kB 4.3 MB/s \n",
            "\u001b[K     |████████████████████████████████| 3.1 MB 4.2 MB/s \n",
            "\u001b[K     |████████████████████████████████| 3.3 MB 65.7 MB/s \n",
            "\u001b[K     |████████████████████████████████| 596 kB 89.1 MB/s \n",
            "\u001b[K     |████████████████████████████████| 59 kB 8.2 MB/s \n",
            "\u001b[K     |████████████████████████████████| 895 kB 71.5 MB/s \n",
            "\u001b[K     |████████████████████████████████| 170 kB 4.2 MB/s \n",
            "\u001b[?25h  Building wheel for emoji (setup.py) ... \u001b[?25l\u001b[?25hdone\n"
          ]
        }
      ]
    },
    {
      "cell_type": "code",
      "metadata": {
        "id": "leIi5T-XqiKl"
      },
      "source": [
        "import os\n",
        "HOME = './drive/MyDrive/tvd5455/VvsNV'\n",
        "dimension = 'Relations_discrete'\n",
        "DIMENSION_HOME = './drive/MyDrive/tvd5455/VvsNV/Relations'"
      ],
      "execution_count": null,
      "outputs": []
    },
    {
      "cell_type": "markdown",
      "metadata": {
        "id": "kco1TsJPHj7I"
      },
      "source": [
        "### preprocess.py"
      ]
    },
    {
      "cell_type": "code",
      "metadata": {
        "id": "O_99PJGGHoYd"
      },
      "source": [
        "from nltk.tokenize import TweetTokenizer\n",
        "from emoji import demojize\n",
        "import re\n",
        "import csv\n",
        "import numpy as np\n",
        "import pandas as pd\n",
        "import pickle5 as pkl\n",
        "from numba import vectorize,njit\n",
        "\n",
        "tokenizer = TweetTokenizer()\n",
        "\n",
        "def normalizeToken(token):\n",
        "    lowercased_token = token.lower()\n",
        "    if token.startswith(\"@\"):\n",
        "        return \"@USER\"\n",
        "    elif lowercased_token.startswith(\"http\") or lowercased_token.startswith(\"www\"): \n",
        "        return \"HTTPURL\"\n",
        "    elif len(token) == 1:\n",
        "        return demojize(token)\n",
        "    else:\n",
        "        if token == \"’\":\n",
        "            return \"'\"\n",
        "        elif token == \"…\":\n",
        "            return \"...\"\n",
        "        else:\n",
        "            return token\n",
        "\n",
        "def normalizeTweet(tweet):\n",
        "    tweet = tweet.lower()\n",
        "    tokens = tokenizer.tokenize(tweet.replace(\"’\", \"'\").replace(\"…\", \"...\"))\n",
        "    normTweet = \" \".join([normalizeToken(token) for token in tokens])\n",
        "\n",
        "    normTweet = normTweet.replace(\"cannot \", \"can not \").replace(\"n't \", \" n't \").replace(\"n 't \", \" n't \").replace(\"ca n't\", \"can't\").replace(\"ai n't\", \"ain't\")\n",
        "    normTweet = normTweet.replace(\"'m \", \" 'm \").replace(\"'re \", \" 're \").replace(\"'s \", \" 's \").replace(\"'ll \", \" 'll \").replace(\"'d \", \" 'd \").replace(\"'ve \", \" 've \")\n",
        "    normTweet = normTweet.replace(\" p . m .\", \"  p.m.\") .replace(\" p . m \", \" p.m \").replace(\" a . m .\", \" a.m.\").replace(\" a . m \", \" a.m \")\n",
        "\n",
        "    normTweet = re.sub(r\",([0-9]{2,4}) , ([0-9]{2,4})\", r\",\\1,\\2\", normTweet)\n",
        "    normTweet = re.sub(r\"([0-9]{1,3}) / ([0-9]{2,4})\", r\"\\1/\\2\", normTweet)\n",
        "    normTweet = re.sub(r\"([0-9]{1,3})- ([0-9]{2,4})\", r\"\\1-\\2\", normTweet)\n",
        "    \n",
        "    return \" \".join(normTweet.split())\n"
      ],
      "execution_count": null,
      "outputs": []
    },
    {
      "cell_type": "code",
      "metadata": {
        "id": "raKTsSCgHyuM"
      },
      "source": [
        "verified_file = os.path.join(HOME, 'df_to_label3.pkl')\n",
        "with open(verified_file, 'rb') as handle:\n",
        "    df = pkl.load(handle)\n",
        "    df = df.dropna(subset=['Tweet'])\n",
        "    print(df.columns)\n",
        "    print(df.head())\n",
        "    print(df.shape)\n",
        "    df[\"ID\"] = df[\"TweetID\"].to_list()\n",
        "    # df[\"Text\"] = np.vectorize(normalizeTweet)(df[\"Tweet\"])\n",
        "    df['Text'] = df['Tweet'].apply(lambda x: normalizeTweet(x))\n",
        "    df = df.dropna(subset=['Text'])\n",
        "\n",
        "print(df.columns)\n",
        "print(df.head())\n",
        "print(df.shape)\n",
        "df.to_csv(os.path.join(HOME, 'common_data/df_to_label3.csv'), quoting=csv.QUOTE_NONNUMERIC)"
      ],
      "execution_count": null,
      "outputs": []
    },
    {
      "cell_type": "markdown",
      "metadata": {
        "id": "3oFAv-ZuG2F8"
      },
      "source": [
        "### make_data.py"
      ]
    },
    {
      "cell_type": "code",
      "metadata": {
        "id": "GRBE_jP9Gz62"
      },
      "source": [
        "import numpy as np\n",
        "import pandas as pd\n",
        "from sklearn.model_selection import train_test_split\n",
        "import os\n",
        "\n",
        "goldfile =  os.path.join(HOME, 'Gold_Standard.xlsx')\n",
        "\n",
        "\n",
        "# ### Make Train and Test dataset\n",
        "train_df = pd.read_excel(goldfile)\n",
        "\n",
        "# for consistency with unlabeled data\n",
        "train_df[\"ID\"] = train_df[\"TWEETID\"].to_list()\n",
        "train_df[\"Text\"] = train_df[\"Raw_Tweet\"].apply(lambda x: normalizeTweet(x))\n",
        "# train_df[\"Text\"] = list(np.vectorize(normalizeTweet)(train_df[\"Raw_Tweet\"]))\n",
        "\n",
        "train_df, test_df = train_test_split(train_df, test_size=0.20, random_state=47)\n",
        "train_df, dev_df = train_test_split(train_df, test_size=0.20, random_state=47)\n",
        "\n",
        "train_df.to_csv(os.path.join(HOME, \"common_data/train.csv\"))\n",
        "dev_df.to_csv(os.path.join(HOME, \"common_data/dev.csv\"))\n",
        "test_df.to_csv(os.path.join(HOME, \"common_data/test.csv\"))"
      ],
      "execution_count": null,
      "outputs": []
    },
    {
      "cell_type": "code",
      "metadata": {
        "id": "pS8_cJyVqj_6"
      },
      "source": [
        "import os\n",
        "import sys\n",
        "import logging\n",
        "import pandas as pd\n",
        "import pickle\n",
        "from tqdm import tqdm, trange\n",
        "from multiprocessing import Pool, cpu_count\n",
        "\n",
        "logger = logging.getLogger()\n",
        "\n",
        "\n",
        "class InputExample(object):\n",
        "    \"\"\"A single training/test example for simple sequence classification.\"\"\"\n",
        "\n",
        "    def __init__(self, guid, text, binary_label=None, level_label=None):\n",
        "        \"\"\"Constructs a InputExample.\n",
        "        Args:\n",
        "            guid: Unique id for the example.\n",
        "            text: string. The untokenized text of the tweet sentences. \n",
        "            label: (Optional) int. The label of the example. This should be\n",
        "            specified for train and dev examples, but not for test examples.\n",
        "        \"\"\"\n",
        "        self.guid = guid\n",
        "        self.text = text\n",
        "        self.binary_label = binary_label\n",
        "        self.level_label = level_label\n",
        "\n",
        "\n",
        "class DataProcessor(object):\n",
        "    \"\"\"Base class for data converters for sequence classification data sets.\"\"\"\n",
        "\n",
        "    def get_train_examples(self, data_dir):\n",
        "        \"\"\"Gets a collection of `InputExample`s for the train set.\"\"\"\n",
        "        raise NotImplementedError()\n",
        "\n",
        "    def get_dev_examples(self, data_dir):\n",
        "        \"\"\"Gets a collection of `InputExample`s for the dev set.\"\"\"\n",
        "        raise NotImplementedError()\n",
        "\n",
        "    def get_labels(self):\n",
        "        \"\"\"Gets the list of labels for this data set.\"\"\"\n",
        "        raise NotImplementedError()\n",
        "\n",
        "    @classmethod\n",
        "    def _read_pkl(cls, input_file, quotechar=None):\n",
        "        \"\"\"Reads a tab separated value file.\"\"\"\n",
        "        with open(input_file, 'rb') as handle:\n",
        "            return pickle.load(handle)\n",
        "    \n",
        "    @classmethod\n",
        "    def _read_csv(cls, input_file, quotechar=None):\n",
        "        \"\"\"Reads a tab separated value file.\"\"\"\n",
        "        return pd.read_csv(input_file)\n",
        "\n",
        "\n",
        "class BinaryClassificationProcessor(DataProcessor):\n",
        "    \"\"\"Processor for binary classification dataset.\"\"\"\n",
        "\n",
        "    def get_train_examples(self, data_dir, dimension):\n",
        "        \"\"\"See base class.\"\"\"\n",
        "        return self._create_examples(\n",
        "            self._read_csv(os.path.join(data_dir, \"train.csv\")), \"train\", dimension)\n",
        "\n",
        "    def get_dev_examples(self, data_dir, dimension):\n",
        "        \"\"\"See base class.\"\"\"\n",
        "        return self._create_examples(\n",
        "            self._read_csv(os.path.join(data_dir, \"dev.csv\")), \"dev\", dimension)\n",
        "\n",
        "    def get_test_examples(self, data_dir, dimension):\n",
        "        \"\"\"See base class.\"\"\"\n",
        "        return self._create_examples(\n",
        "            self._read_csv(os.path.join(data_dir, \"test.csv\")), \"test\", dimension)\n",
        "    \n",
        "    def get_unlabeled_examples(self, data_dir, dimension, filename):\n",
        "        \"\"\"See base class.\"\"\"\n",
        "        return self._create_examples(\n",
        "            self._read_csv(os.path.join(data_dir, filename)), \"unlabeled\", dimension)\n",
        "    \n",
        "    def get_unlabeled_pickles(self, data_dir):\n",
        "        return self._create_examples_from_pkl(\n",
        "            self._read_pkl(os.path.join(data_dir, \"tweet_txt.pkl\")), \"unlabeled\")\n",
        "\n",
        "    def get_labels(self):\n",
        "        \"\"\"See base class.\"\"\"\n",
        "        return [0, 1]\n",
        "\n",
        "    def _preprocess_label(self, label):\n",
        "        binary_label, level_label = 0, 0\n",
        "        if label > 1:\n",
        "            binary_label = 1\n",
        "            level_label = (label - 4) / 3\n",
        "        return binary_label, level_label\n",
        "    \n",
        "    def _create_examples(self, tweets_list, set_type, dimension):\n",
        "        \"\"\"Creates examples for the training and dev sets.\"\"\"\n",
        "        assert \"discrete\" in dimension\n",
        "        examples = []\n",
        "        # for _, tweet in tqdm(tweets_list.iterrows(), desc=\"Creating examples\"):\n",
        "        for _, tweet in tweets_list.iterrows():\n",
        "            guid = tweet['ID']\n",
        "            text = tweet['Text']\n",
        "            # if 'Information_discrete' in tweet:\n",
        "            #     label = tweet['Information_discrete']\n",
        "            #     binary_label, level_label = self._preprocess_label(label)\n",
        "            #     example = InputExample(guid, text, binary_label, level_label)\n",
        "            if dimension in tweet:\n",
        "                label = tweet[dimension]\n",
        "                binary_label, level_label = self._preprocess_label(label)\n",
        "                example = InputExample(guid, text, binary_label, level_label)\n",
        "            else:\n",
        "                example = InputExample(guid, text)\n",
        "            examples.append(example)\n",
        "        \n",
        "        return examples\n",
        "    \n",
        "    def _create_examples_from_pkl(self, tweets_dict, set_type):\n",
        "        \"\"\"Creates examples for the training and dev sets.\"\"\"\n",
        "        examples = []\n",
        "        \n",
        "        for guid, text in tweets_dict.items():\n",
        "            example = InputExample(guid, text)\n",
        "            examples.append(example)\n",
        "        \n",
        "        return examples\n",
        "\n",
        "\n",
        "class InputFeatures(object):\n",
        "    \"\"\"A single set of features of data.\"\"\"\n",
        "\n",
        "    def __init__(self, input_ids, input_mask, segment_ids, binary_label, level_label):\n",
        "        self.input_ids = input_ids\n",
        "        self.input_mask = input_mask\n",
        "        self.segment_ids = segment_ids\n",
        "        self.binary_label = binary_label\n",
        "        self.level_label = level_label\n",
        "\n",
        "\n",
        "def convert_example_to_feature(example_row):\n",
        "    # return example_row\n",
        "    example, label_map, max_seq_length, tokenizer, output_mode = example_row\n",
        "    \n",
        "    # text = normalizeTweet(example.text)\n",
        "    text = example.text\n",
        "    tokens = tokenizer.tokenize(text)\n",
        "\n",
        "    # Account for [CLS] and [SEP] with \"- 2\"\n",
        "    if len(tokens) > max_seq_length - 2:\n",
        "        tokens = tokens[:(max_seq_length - 2)]\n",
        "\n",
        "    tokens = [tokenizer.cls_token] + tokens + [tokenizer.sep_token] \n",
        "    segment_ids = [0] * len(tokens) \n",
        "\n",
        "#     ####\n",
        "#     text = \"I disclosed my personal information.\"\n",
        "#     tokens_q = tokenizer.tokenize(text)\n",
        "\n",
        "#     # Account for [SEP] with \"- 1\"\n",
        "#     if len(tokens) > 50 - 1:\n",
        "#         tokens_q = tokens_q[:(50 - 1)]\n",
        "\n",
        "#     tokens = tokens + tokens_q + [tokenizer.sep_token] \n",
        "#     segment_ids += [1] * (len(tokens_q) + 1)\n",
        "#     ####\n",
        "    \n",
        "    input_ids = tokenizer.convert_tokens_to_ids(tokens)\n",
        "\n",
        "    # The mask has 1 for real tokens and 0 for padding tokens. Only real\n",
        "    # tokens are attended to.\n",
        "    input_mask = [1] * len(input_ids)\n",
        "\n",
        "    # Zero-pad up to the sequence length.\n",
        "#     padding = [0] * (max_seq_length + 50 - len(input_ids))\n",
        "    padding = [0] * (max_seq_length - len(input_ids))\n",
        "    input_ids += padding\n",
        "    input_mask += padding\n",
        "    segment_ids += padding\n",
        "\n",
        "    # if len(input_ids) != (max_seq_length):\n",
        "        # pdb.set_trace()\n",
        "    \n",
        "    assert len(input_ids) == (max_seq_length)\n",
        "    assert len(input_mask) == (max_seq_length)\n",
        "    assert len(segment_ids) == (max_seq_length)\n",
        "\n",
        "    binary_label = example.binary_label\n",
        "    level_label = example.level_label\n",
        "    \n",
        "    feature = InputFeatures(input_ids=input_ids,\n",
        "                 input_mask=input_mask,\n",
        "                 segment_ids=segment_ids,\n",
        "                 binary_label=binary_label,\n",
        "                 level_label=level_label)\n",
        "    \n",
        "    return feature\n",
        "\n",
        "\n",
        "def convert_examples_to_features(examples, label_list, max_seq_length, tokenizer, output_mode):\n",
        "    label_map = {label: i for i, label in enumerate(label_list)}\n",
        "    \n",
        "    examples = [(example, label_map, max_seq_length, tokenizer, output_mode) for example in examples]\n",
        "    \n",
        "#     process_count = cpu_count() - 2\n",
        "    \n",
        "#     with Pool(process_count) as p:\n",
        "#         features = list(tqdm(p.imap(convert_example_to_feature, examples, chunksize=100), total=len(examples)))\n",
        "#         # features = list(p.imap(convert_example_to_feature, examples, chunksize=100))\n",
        "    \n",
        "    features = [convert_example_to_feature(ex) for ex in examples]\n",
        "    \n",
        "    return features"
      ],
      "execution_count": null,
      "outputs": []
    },
    {
      "cell_type": "markdown",
      "metadata": {
        "id": "Oej_EXDFra74"
      },
      "source": [
        "### classification.py"
      ]
    },
    {
      "cell_type": "code",
      "metadata": {
        "id": "plA6eK21rLId"
      },
      "source": [
        "import math\n",
        "import numpy as np\n",
        "import torch\n",
        "import json\n",
        "from torch.utils.data import (DataLoader, WeightedRandomSampler, SequentialSampler, TensorDataset)\n",
        "from torch import nn\n",
        "from torch.nn import CrossEntropyLoss, MSELoss, ReLU\n",
        "import torch.nn.functional as F\n",
        "\n",
        "from tqdm import tqdm, trange\n",
        "from tensorboardX import SummaryWriter\n",
        "import os\n",
        "from transformers import (WEIGHTS_NAME, BertConfig, BertModel, BertTokenizer,\n",
        "                                  XLMConfig, XLMModel, XLMTokenizer, \n",
        "                                  XLNetConfig, XLNetModel, XLNetTokenizer,\n",
        "                                  RobertaConfig, RobertaModel, RobertaTokenizer)\n",
        "from transformers import AdamW, get_linear_schedule_with_warmup\n",
        "\n",
        "def load_and_cache_examples(task, tokenizer, evaluate=False, final=False):\n",
        "    processor = processors[task]()\n",
        "    output_mode = args['output_mode']\n",
        "    \n",
        "    mode = 'dev' if (evaluate and not final) else ('test' if (evaluate and final) else 'train')\n",
        "    cached_features_file = os.path.join(args['processed_data_dir'], f\"cached_{mode}_{args['model_name']}_{args['max_seq_length']}_{task}\")\n",
        "    \n",
        "    if os.path.exists(cached_features_file) and not args['reprocess_input_data']:\n",
        "        logger.info(\"Loading features from cached file %s\", cached_features_file)\n",
        "        features = torch.load(cached_features_file)\n",
        "               \n",
        "    else:\n",
        "        logger.info(\"Creating features from dataset file at %s\", args['data_dir'])\n",
        "        label_list = processor.get_labels()\n",
        "        examples = processor.get_dev_examples(args['data_dir'], dimension=dimension) if (evaluate and not final) else\\\n",
        "                    (processor.get_test_examples(args['data_dir'], dimension=dimension) if (evaluate and final) else\\\n",
        "                     processor.get_train_examples(args['data_dir'], dimension=dimension))\n",
        "        \n",
        "        features = convert_examples_to_features(examples, label_list, args['max_seq_length'], tokenizer, output_mode)\n",
        "        \n",
        "        filedir = args['processed_data_dir']\n",
        "        if not os.path.exists(filedir):\n",
        "            os.makedirs(filedir)\n",
        "        logger.info(\"Saving features into cached file %s\", cached_features_file)\n",
        "        torch.save(features, cached_features_file)\n",
        "    \n",
        "    all_input_ids = torch.tensor([f.input_ids for f in features], dtype=torch.long)\n",
        "    all_input_mask = torch.tensor([f.input_mask for f in features], dtype=torch.long)\n",
        "    all_segment_ids = torch.tensor([f.segment_ids for f in features], dtype=torch.long)\n",
        "    if output_mode == \"both\":\n",
        "        all_binary_labels = torch.tensor([f.binary_label for f in features], dtype=torch.long)\n",
        "        all_level_labels = torch.tensor([f.level_label for f in features], dtype=torch.float)\n",
        "    else:\n",
        "        raise KeyError(output_mode)\n",
        "\n",
        "    dataset = TensorDataset(all_input_ids, all_input_mask, all_segment_ids, all_binary_labels, all_level_labels)\n",
        "    return dataset"
      ],
      "execution_count": null,
      "outputs": []
    },
    {
      "cell_type": "code",
      "metadata": {
        "colab": {
          "base_uri": "https://localhost:8080/"
        },
        "id": "mnR7ftSIrpi_",
        "outputId": "e3735b01-cc14-4b2f-e4aa-0699654ca03d"
      },
      "source": [
        "processors = {\n",
        "    \"both\": BinaryClassificationProcessor\n",
        "}\n",
        "\n",
        "output_modes = {\n",
        "    \"both\": \"classification|regression\"\n",
        "}\n",
        "\n",
        "# OPTIONAL: if you want to have more information on what's happening, activate the logger as follows\n",
        "import logging\n",
        "logging.basicConfig(level=logging.INFO)\n",
        "\n",
        "\n",
        "args = {\n",
        "    'data_dir': os.path.join(HOME, 'common_data/'),\n",
        "    'processed_data_dir': os.path.join(DIMENSION_HOME, 'processed_data/'),\n",
        "    'model_type':  'roberta',\n",
        "    'model_name': 'roberta-large',\n",
        "    'task_name': 'both',\n",
        "    'output_dir': os.path.join(DIMENSION_HOME, 'outputs_roberta/'),\n",
        "    'cache_dir': os.path.join(DIMENSION_HOME,'cache/'),\n",
        "    'do_train': True,\n",
        "    'do_eval': True,\n",
        "    'fp16': False,\n",
        "    'fp16_opt_level': 'O1',\n",
        "    'max_seq_length': 128,\n",
        "    'output_mode': 'both',\n",
        "    'train_batch_size': 16,\n",
        "    'eval_batch_size': 128,\n",
        "\n",
        "    'gradient_accumulation_steps': 1,\n",
        "    'num_train_epochs': 4,\n",
        "    'weight_decay': 0,\n",
        "    'learning_rate': 1e-5,\n",
        "    'adam_epsilon': 1e-8,\n",
        "    'warmup_ratio': 0.06,\n",
        "    'warmup_steps': 0,\n",
        "    'max_grad_norm': 1.0,\n",
        "\n",
        "    'logging_steps': 100,\n",
        "    'evaluate_during_training': True,\n",
        "    'save_steps': 200,\n",
        "    'eval_all_checkpoints': True,\n",
        "\n",
        "    'overwrite_output_dir': True,\n",
        "    'reprocess_input_data': True,\n",
        "    'notes': 'Using Twitter disclosure dataset'\n",
        "}\n",
        "\n",
        "device = torch.device(\"cuda\" if torch.cuda.is_available() else \"cpu\")\n",
        "\n",
        "\n",
        "with open(os.path.join(HOME, 'args.json'), 'w') as f:\n",
        "    json.dump(args, f)\n",
        "\n",
        "\n",
        "if os.path.exists(args['output_dir']) and os.listdir(args['output_dir']) and args['do_train'] and not args['overwrite_output_dir']:\n",
        "    raise ValueError(\"Output directory ({}) already exists and is not empty. Use --overwrite_output_dir to overcome.\".format(args['output_dir']))\n",
        "\n",
        "\n",
        "\n",
        "MODEL_CLASSES = {\n",
        "    'bert': (BertConfig, BertModel, BertTokenizer),\n",
        "    'xlnet': (XLNetConfig, XLNetModel, XLNetTokenizer),\n",
        "    'xlm': (XLMConfig, XLMModel, XLMTokenizer),\n",
        "    'roberta': (RobertaConfig, RobertaModel, RobertaTokenizer)\n",
        "}\n",
        "\n",
        "config_class, model_class, tokenizer_class = MODEL_CLASSES[args['model_type']]\n",
        "\n",
        "\n",
        "config = config_class.from_pretrained(args['model_name'], num_labels=2, finetuning_task=args['task_name'])\n",
        "tokenizer = tokenizer_class.from_pretrained(args['model_name'])\n",
        "\n",
        "\n",
        "base_model = model_class.from_pretrained(args['model_name'])"
      ],
      "execution_count": null,
      "outputs": [
        {
          "output_type": "stream",
          "name": "stderr",
          "text": [
            "Some weights of the model checkpoint at roberta-large were not used when initializing RobertaModel: ['lm_head.layer_norm.weight', 'lm_head.dense.weight', 'lm_head.decoder.weight', 'lm_head.bias', 'lm_head.layer_norm.bias', 'lm_head.dense.bias']\n",
            "- This IS expected if you are initializing RobertaModel from the checkpoint of a model trained on another task or with another architecture (e.g. initializing a BertForSequenceClassification model from a BertForPreTraining model).\n",
            "- This IS NOT expected if you are initializing RobertaModel from the checkpoint of a model that you expect to be exactly identical (initializing a BertForSequenceClassification model from a BertForSequenceClassification model).\n"
          ]
        }
      ]
    },
    {
      "cell_type": "code",
      "metadata": {
        "id": "J_KjUoCQtivL"
      },
      "source": [
        "@torch.jit.script\n",
        "def mish(input):\n",
        "    return input * torch.tanh(F.softplus(input))\n",
        "  \n",
        "class Mish(nn.Module):\n",
        "    def forward(self, input):\n",
        "        return mish(input)\n",
        "\n",
        "\n",
        "class ClassificationHead(nn.Module):\n",
        "    \"\"\"Head for sentence-level classification tasks.\"\"\"\n",
        "\n",
        "    def __init__(self, hidden_size, dropout, num_labels):\n",
        "        super().__init__()\n",
        "        # self.dense = nn.Linear(hidden_size, 192)\n",
        "        self.dropout = nn.Dropout(dropout)\n",
        "        self.out_proj = nn.Linear(hidden_size, num_labels)\n",
        "\n",
        "    def forward(self, features, **kwargs):\n",
        "        x = features\n",
        "        # x = self.dropout(x)\n",
        "        # x = self.dense(x)\n",
        "        # x = torch.relu(x)\n",
        "        x = self.dropout(x)\n",
        "        x = self.out_proj(x)\n",
        "        return x\n",
        "    \n",
        "\n",
        "class ClassificationModel(nn.Module):\n",
        "    def __init__(self, base_model, base_model_output_size=1024, dropout=0.1):\n",
        "        super().__init__()\n",
        "        self.base_model = base_model\n",
        "        \n",
        "        self.dropout = nn.Dropout(dropout)\n",
        "        self._lambda = 1.0\n",
        "        self.classifier = ClassificationHead(base_model_output_size, dropout, 2)\n",
        "        self.regressor = nn.Linear(base_model_output_size, 1)\n",
        "        # for param in self.base_model.parameters():\n",
        "        #     param.requires_grad = False\n",
        "\n",
        "    def forward(self, input_ids, attention_mask, token_type_ids, binary_labels=None, level_labels=None, do_binary=True):\n",
        "        X, attention_mask = input_ids, attention_mask\n",
        "        outputs = self.base_model(X, attention_mask=attention_mask, token_type_ids=token_type_ids)\n",
        "        \n",
        "        pooled_output = outputs[1]\n",
        "\n",
        "        # pooled_output = self.dropout(pooled_output)\n",
        "        binary_logits = self.classifier(pooled_output)\n",
        "        level_logit = self.regressor(pooled_output)\n",
        "\n",
        "        if binary_labels is not None:\n",
        "            outputs = (binary_logits, level_logit,) + outputs[2:]  # add hidden states and attention if they are here\n",
        "            \n",
        "            binary_loss_fct = CrossEntropyLoss()\n",
        "            binary_loss = binary_loss_fct(binary_logits.view(-1, 2), binary_labels.view(-1))\n",
        "            \n",
        "            regression_loss_fct = MSELoss()\n",
        "#             regression_loss = regression_loss_fct(\n",
        "#                 level_logit[binary_labels==1, :].view(-1), \n",
        "#                 level_labels[binary_labels==1].view(-1)\n",
        "#             )\n",
        "            regression_loss = 0\n",
        "            # pdb.set_trace()\n",
        "            print(\"\\r{:.5f} {:.5f}\".format(binary_loss, regression_loss), end='')\n",
        "            loss = binary_loss + self._lambda * regression_loss\n",
        "            \n",
        "            outputs = (loss,) + outputs\n",
        "        else:\n",
        "            level_logits = torch.clamp(level_logit, min=0, max=1)\n",
        "            outputs = (binary_logits, level_logit,) + outputs[2:]  # add hidden states and attention if they are here\n",
        "\n",
        "        return outputs  # (loss), binary_logits, level_logits, (hidden_states), (attentions)\n",
        "\n"
      ],
      "execution_count": null,
      "outputs": []
    },
    {
      "cell_type": "code",
      "metadata": {
        "id": "-j53LmQSt4H6"
      },
      "source": [
        "model = ClassificationModel(base_model=base_model)\n",
        "model.to(device);\n",
        "\n",
        "\n",
        "task = args['task_name']\n",
        "\n",
        "if task in processors.keys() and task in output_modes.keys():\n",
        "    processor = processors[task]()\n",
        "    label_list = processor.get_labels()\n",
        "    num_labels = len(label_list)\n",
        "else:\n",
        "    raise KeyError(f'{task} not found in processors or in output_modes. Please check utils.py.')\n"
      ],
      "execution_count": null,
      "outputs": []
    },
    {
      "cell_type": "code",
      "metadata": {
        "id": "2mdyxxKtt8HU"
      },
      "source": [
        "def get_weights_for_sampler(dataset):\n",
        "    sampler = SequentialSampler(dataset)\n",
        "    dataloader = DataLoader(dataset, sampler=sampler, batch_size=len(dataset))\n",
        "    batch = None\n",
        "    for _batch in dataloader:\n",
        "        batch = _batch\n",
        "    labels = batch[3].numpy()\n",
        "    num_neg = len(labels[labels == 0])\n",
        "    num_pos = len(labels[labels == 1])\n",
        "    weights = [1./num_neg if l == 0 else 1./num_pos for l in labels]\n",
        "    return weights\n",
        "    \n",
        "\n",
        "def train(train_dataset, model, tokenizer):\n",
        "    tb_writer = SummaryWriter(log_dir=os.path.join(DIMENSION_HOME, 'runs'))\n",
        "    \n",
        "    weights = get_weights_for_sampler(train_dataset)\n",
        "    train_sampler = WeightedRandomSampler(num_samples=len(train_dataset), weights=weights)\n",
        "    train_dataloader = DataLoader(train_dataset, sampler=train_sampler, batch_size=args['train_batch_size'])\n",
        "    \n",
        "    t_total = len(train_dataloader) // args['gradient_accumulation_steps'] * args['num_train_epochs']\n",
        "    \n",
        "    no_decay = ['bias', 'LayerNorm.weight']\n",
        "    optimizer_grouped_parameters = [\n",
        "        {'params': [p for n, p in model.named_parameters() if not any(nd in n for nd in no_decay)], 'weight_decay': args['weight_decay']},\n",
        "        {'params': [p for n, p in model.named_parameters() if any(nd in n for nd in no_decay)], 'weight_decay': 0.0}\n",
        "        ]\n",
        "    \n",
        "    warmup_steps = math.ceil(t_total * args['warmup_ratio'])\n",
        "    args['warmup_steps'] = warmup_steps if args['warmup_steps'] == 0 else args['warmup_steps']\n",
        "    \n",
        "    optimizer = AdamW(optimizer_grouped_parameters, lr=args['learning_rate'], eps=args['adam_epsilon'])\n",
        "    scheduler = get_linear_schedule_with_warmup(optimizer, num_warmup_steps=args['warmup_steps'], num_training_steps=t_total*2)\n",
        "    \n",
        "    if args['fp16']:\n",
        "        try:\n",
        "            from apex import amp\n",
        "        except ImportError:\n",
        "            raise ImportError(\"Please install apex from https://www.github.com/nvidia/apex to use fp16 training.\")\n",
        "        model, optimizer = amp.initialize(model, optimizer, opt_level=args['fp16_opt_level'])\n",
        "        \n",
        "    logger.info(\"***** Running training *****\")\n",
        "    logger.info(\"  Num examples = %d\", len(train_dataset))\n",
        "    logger.info(\"  Num Epochs = %d\", args['num_train_epochs'])\n",
        "    logger.info(\"  Total train batch size  = %d\", args['train_batch_size'])\n",
        "    logger.info(\"  Gradient Accumulation steps = %d\", args['gradient_accumulation_steps'])\n",
        "    logger.info(\"  Total optimization steps = %d\", t_total)\n",
        "\n",
        "    global_step = 0\n",
        "    tr_loss, logging_loss = 0.0, 0.0\n",
        "    model.zero_grad()\n",
        "    train_iterator = trange(int(args['num_train_epochs']), desc=\"Epoch\")\n",
        "    \n",
        "    for ee in train_iterator:\n",
        "        logger.info('\\n\\n')\n",
        "        epoch_iterator = tqdm(train_dataloader, desc=\"Iteration\")\n",
        "        for step, batch in enumerate(epoch_iterator):\n",
        "            model.train()\n",
        "            batch = tuple(t.to(device) for t in batch)\n",
        "            inputs = {'input_ids':      batch[0],\n",
        "                      'attention_mask': batch[1],\n",
        "                      'token_type_ids': batch[2] if args['model_type'] in ['bert', 'xlnet'] else None,  # XLM don't use segment_ids\n",
        "                      'binary_labels':  batch[3],\n",
        "                      'level_labels':   batch[4],\n",
        "                      'do_binary':      ee == 0}\n",
        "            outputs = model(**inputs)\n",
        "            loss = outputs[0]  # model outputs are always tuple in pytorch-transformers (see doc)\n",
        "            # print(\"\\r%f\" % loss, end='')\n",
        "\n",
        "            if args['gradient_accumulation_steps'] > 1:\n",
        "                loss = loss / args['gradient_accumulation_steps']\n",
        "\n",
        "            if args['fp16']:\n",
        "                with amp.scale_loss(loss, optimizer) as scaled_loss:\n",
        "                    scaled_loss.backward()\n",
        "                torch.nn.utils.clip_grad_norm_(amp.master_params(optimizer), args['max_grad_norm'])\n",
        "                \n",
        "            else:\n",
        "                loss.backward()\n",
        "                torch.nn.utils.clip_grad_norm_(model.parameters(), args['max_grad_norm'])\n",
        "\n",
        "            tr_loss += loss.item()\n",
        "            if (step + 1) % args['gradient_accumulation_steps'] == 0:\n",
        "                optimizer.step()\n",
        "                scheduler.step()\n",
        "                model.zero_grad()\n",
        "                global_step += 1\n",
        "\n",
        "                if args['logging_steps'] > 0 and global_step % args['logging_steps'] == 0:\n",
        "                    # Log metrics\n",
        "                    if args['evaluate_during_training']:  # Only evaluate when single GPU otherwise metrics may not average well\n",
        "                        results, _ = evaluate(model, tokenizer)\n",
        "                        for key, value in results.items():\n",
        "                            tb_writer.add_scalar('eval_{}'.format(key), value, global_step)\n",
        "                    tb_writer.add_scalar('lr', scheduler.get_lr()[0], global_step)\n",
        "                    tb_writer.add_scalar('loss', (tr_loss - logging_loss)/args['logging_steps'], global_step)\n",
        "                    logging_loss = tr_loss\n",
        "\n",
        "                if args['save_steps'] > 0 and global_step % args['save_steps'] == 0:\n",
        "                    # Save model checkpoint\n",
        "                    output_dir = os.path.join(args['output_dir'], 'checkpoint-{}'.format(global_step))\n",
        "                    if not os.path.exists(output_dir):\n",
        "                        os.makedirs(output_dir)\n",
        "                    model_to_save = model.module if hasattr(model, 'module') else model  # Take care of distributed/parallel training\n",
        "                    # model_to_save.save_pretrained(output_dir)\n",
        "                    torch.save(model_to_save.state_dict(), output_dir + '/' + WEIGHTS_NAME)\n",
        "                    logger.info(\"Saving model checkpoint to %s\", output_dir)\n",
        "\n",
        "\n",
        "    return global_step, tr_loss / global_step"
      ],
      "execution_count": null,
      "outputs": []
    },
    {
      "cell_type": "code",
      "metadata": {
        "id": "sf2F__h5uDX0"
      },
      "source": [
        "from sklearn.metrics import mean_squared_error, matthews_corrcoef, confusion_matrix, f1_score\n",
        "from scipy.stats import pearsonr\n",
        "\n",
        "def get_mismatched(labels, preds):\n",
        "    mismatched = labels != preds\n",
        "    examples = processor.get_dev_examples(args['data_dir'], dimension=dimension)\n",
        "    wrong = [i for (i, v) in zip(examples, mismatched) if v]\n",
        "    \n",
        "    return wrong\n",
        "\n",
        "def get_eval_report(labels, preds):\n",
        "    mcc = matthews_corrcoef(labels, preds)\n",
        "    tn, fp, fn, tp = confusion_matrix(labels, preds).ravel()\n",
        "    f1 = f1_score(labels, preds)\n",
        "    return {\n",
        "        \"mcc\": mcc,\n",
        "        \"f1\": f1,\n",
        "        \"tp\": tp,\n",
        "        \"tn\": tn,\n",
        "        \"fp\": fp,\n",
        "        \"fn\": fn\n",
        "    }, get_mismatched(labels, preds)\n",
        "\n",
        "def compute_metrics(task_name, preds, labels):\n",
        "    assert len(preds) == len(labels)\n",
        "    return get_eval_report(labels, preds)\n",
        "\n",
        "def get_eval_report_reg(labels, preds):\n",
        "    rmse = mean_squared_error(labels, preds, squared=False)\n",
        "    return {\n",
        "        \"rmse\": rmse\n",
        "    }\n",
        "\n",
        "def compute_regression_metrics(task_name, preds, labels):\n",
        "    assert len(preds) == len(labels)\n",
        "    return get_eval_report_reg(labels, preds)\n",
        "\n",
        "def evaluate(model, tokenizer, prefix=\"\", final=False):\n",
        "    model.eval()\n",
        "    \n",
        "    # Loop to handle MNLI double evaluation (matched, mis-matched)\n",
        "    eval_output_dir = args['output_dir']\n",
        "\n",
        "    results = {}\n",
        "    EVAL_TASK = args['task_name']\n",
        "\n",
        "    eval_dataset = load_and_cache_examples(EVAL_TASK, tokenizer, evaluate=True, final=final)\n",
        "    if not os.path.exists(eval_output_dir):\n",
        "        os.makedirs(eval_output_dir)\n",
        "\n",
        "\n",
        "    eval_sampler = SequentialSampler(eval_dataset)\n",
        "    eval_dataloader = DataLoader(eval_dataset, sampler=eval_sampler, batch_size=args['eval_batch_size'])\n",
        "\n",
        "    # Eval!\n",
        "    logger.info(\"***** Running evaluation {} *****\".format(prefix))\n",
        "    logger.info(\"  Num examples = %d\", len(eval_dataset))\n",
        "    logger.info(\"  Batch size = %d\", args['eval_batch_size'])\n",
        "    eval_loss = 0.0\n",
        "    nb_eval_steps = 0\n",
        "    binary_preds = None\n",
        "    level_preds = None\n",
        "    out_binary_labels = None\n",
        "    out_level_labels = None\n",
        "    # for batch in tqdm(eval_dataloader, desc=\"Evaluating\"):\n",
        "    for batch in eval_dataloader:\n",
        "        batch = tuple(t.to(device) for t in batch)\n",
        "\n",
        "        with torch.no_grad():\n",
        "            inputs = {'input_ids':      batch[0],\n",
        "                      'attention_mask': batch[1],\n",
        "                      'token_type_ids': batch[2] if args['model_type'] in ['bert', 'xlnet'] else None,  # XLM don't use segment_ids\n",
        "                      'binary_labels':  batch[3],\n",
        "                      'level_labels':   batch[4]}\n",
        "            outputs = model(**inputs)\n",
        "            tmp_eval_loss, binary_logits, level_logit = outputs[:3]\n",
        "\n",
        "            eval_loss += tmp_eval_loss.mean().item()\n",
        "        nb_eval_steps += 1\n",
        "        if binary_preds is None:\n",
        "            binary_preds = binary_logits.detach().cpu().numpy()\n",
        "            out_binary_labels = inputs['binary_labels'].detach().cpu().numpy()\n",
        "            \n",
        "            level_preds = level_logit.detach().cpu().numpy()\n",
        "            out_level_labels = inputs['level_labels'].detach().cpu().numpy()\n",
        "        \n",
        "        else:\n",
        "            binary_preds = np.append(binary_preds, binary_logits.detach().cpu().numpy(), axis=0)\n",
        "            out_binary_labels = np.append(out_binary_labels, inputs['binary_labels'].detach().cpu().numpy(), axis=0)\n",
        "        \n",
        "            level_preds = np.append(level_preds, level_logit.detach().cpu().numpy(), axis=0)\n",
        "            out_level_labels = np.append(out_level_labels, inputs['level_labels'].detach().cpu().numpy(), axis=0)\n",
        "\n",
        "    eval_loss = eval_loss / nb_eval_steps\n",
        "    \n",
        "    binary_preds = np.argmax(binary_preds, axis=1)\n",
        "    level_preds = np.squeeze(level_preds)\n",
        "    \n",
        "    result, wrong = compute_metrics(EVAL_TASK, binary_preds, out_binary_labels)\n",
        "    results.update(result)\n",
        "    \n",
        "    # pdb.set_trace()\n",
        "    \n",
        "    result = compute_regression_metrics(EVAL_TASK, level_preds[out_binary_labels==1], out_level_labels[out_binary_labels==1])\n",
        "    results = dict(list(results.items()) + list(result.items()))\n",
        "\n",
        "    output_eval_file = os.path.join(eval_output_dir, \"eval_results.txt\")\n",
        "    with open(output_eval_file, \"w\") as writer:\n",
        "        logger.info(\"***** Eval results {} *****\".format(prefix))\n",
        "        for key in sorted(results.keys()):\n",
        "            logger.info(\"  %s = %s\", key, str(results[key]))\n",
        "            writer.write(\"%s = %s\\n\" % (key, str(results[key])))\n",
        "\n",
        "    return results, wrong"
      ],
      "execution_count": null,
      "outputs": []
    },
    {
      "cell_type": "code",
      "metadata": {
        "colab": {
          "base_uri": "https://localhost:8080/"
        },
        "id": "aS1zk1Z5uN52",
        "outputId": "ce5285b1-b902-4957-9f32-577c7d671504"
      },
      "source": [
        "if args['do_train']:\n",
        "    train_dataset = load_and_cache_examples(task, tokenizer)\n",
        "    global_step, tr_loss = train(train_dataset, model, tokenizer)\n",
        "    logger.info(\" global_step = %s, average loss = %s\", global_step, tr_loss)\n",
        "\n",
        "\n",
        "\n",
        "if args['do_train']:\n",
        "    if not os.path.exists(args['output_dir']):\n",
        "        os.makedirs(args['output_dir'])\n",
        "    logger.info(\"Saving model checkpoint to %s\", args['output_dir'])\n",
        "    \n",
        "    model_to_save = model.module if hasattr(model, 'module') else model  # Take care of distributed/parallel training\n",
        "    # model_to_save.save_pretrained(args['output_dir'])\n",
        "    output_dir = os.path.join(args['output_dir'], 'checkpoint-{}'.format(global_step))\n",
        "    if not os.path.exists(output_dir):\n",
        "        os.makedirs(output_dir)\n",
        "    torch.save(model_to_save.state_dict(), output_dir + '/' + WEIGHTS_NAME)\n",
        "    tokenizer.save_pretrained(args['output_dir'])\n",
        "    torch.save(args, os.path.join(args['output_dir'], 'training_args.bin'))"
      ],
      "execution_count": null,
      "outputs": [
        {
          "output_type": "stream",
          "name": "stderr",
          "text": [
            "INFO:root:Creating features from dataset file at ./drive/MyDrive/tvd5455/VvsNV/common_data/\n",
            "INFO:root:Saving features into cached file ./drive/MyDrive/tvd5455/VvsNV/Relations/processed_data/cached_train_roberta-large_128_both\n",
            "INFO:root:***** Running training *****\n",
            "INFO:root:  Num examples = 3200\n",
            "INFO:root:  Num Epochs = 4\n",
            "INFO:root:  Total train batch size  = 16\n",
            "INFO:root:  Gradient Accumulation steps = 1\n",
            "INFO:root:  Total optimization steps = 800\n",
            "Epoch:   0%|          | 0/4 [00:00<?, ?it/s]INFO:root:\n",
            "\n",
            "\n",
            "\n",
            "Iteration:   0%|          | 0/200 [00:00<?, ?it/s]\u001b[A"
          ]
        },
        {
          "output_type": "stream",
          "name": "stdout",
          "text": [
            "\r0.69529 0.00000"
          ]
        },
        {
          "output_type": "stream",
          "name": "stderr",
          "text": [
            "\n",
            "Iteration:   0%|          | 1/200 [00:00<02:40,  1.24it/s]\u001b[A"
          ]
        },
        {
          "output_type": "stream",
          "name": "stdout",
          "text": [
            "\r0.68920 0.00000"
          ]
        },
        {
          "output_type": "stream",
          "name": "stderr",
          "text": [
            "\n",
            "Iteration:   1%|          | 2/200 [00:01<02:32,  1.30it/s]\u001b[A"
          ]
        },
        {
          "output_type": "stream",
          "name": "stdout",
          "text": [
            "\r0.82551 0.00000"
          ]
        },
        {
          "output_type": "stream",
          "name": "stderr",
          "text": [
            "\n",
            "Iteration:   2%|▏         | 3/200 [00:02<02:29,  1.32it/s]\u001b[A"
          ]
        },
        {
          "output_type": "stream",
          "name": "stdout",
          "text": [
            "\r0.67248 0.00000"
          ]
        },
        {
          "output_type": "stream",
          "name": "stderr",
          "text": [
            "\n",
            "Iteration:   2%|▏         | 4/200 [00:03<02:27,  1.33it/s]\u001b[A"
          ]
        },
        {
          "output_type": "stream",
          "name": "stdout",
          "text": [
            "\r0.81477 0.00000"
          ]
        },
        {
          "output_type": "stream",
          "name": "stderr",
          "text": [
            "\n",
            "Iteration:   2%|▎         | 5/200 [00:03<02:25,  1.34it/s]\u001b[A"
          ]
        },
        {
          "output_type": "stream",
          "name": "stdout",
          "text": [
            "\r0.74985 0.00000"
          ]
        },
        {
          "output_type": "stream",
          "name": "stderr",
          "text": [
            "\n",
            "Iteration:   3%|▎         | 6/200 [00:04<02:24,  1.34it/s]\u001b[A"
          ]
        },
        {
          "output_type": "stream",
          "name": "stdout",
          "text": [
            "\r0.70545 0.00000"
          ]
        },
        {
          "output_type": "stream",
          "name": "stderr",
          "text": [
            "\n",
            "Iteration:   4%|▎         | 7/200 [00:05<02:23,  1.34it/s]\u001b[A"
          ]
        },
        {
          "output_type": "stream",
          "name": "stdout",
          "text": [
            "\r0.69534 0.00000"
          ]
        },
        {
          "output_type": "stream",
          "name": "stderr",
          "text": [
            "\n",
            "Iteration:   4%|▍         | 8/200 [00:06<02:23,  1.34it/s]\u001b[A"
          ]
        },
        {
          "output_type": "stream",
          "name": "stdout",
          "text": [
            "\r0.82059 0.00000"
          ]
        },
        {
          "output_type": "stream",
          "name": "stderr",
          "text": [
            "\n",
            "Iteration:   4%|▍         | 9/200 [00:06<02:22,  1.34it/s]\u001b[A"
          ]
        },
        {
          "output_type": "stream",
          "name": "stdout",
          "text": [
            "\r0.64231 0.00000"
          ]
        },
        {
          "output_type": "stream",
          "name": "stderr",
          "text": [
            "\n",
            "Iteration:   5%|▌         | 10/200 [00:07<02:21,  1.34it/s]\u001b[A"
          ]
        },
        {
          "output_type": "stream",
          "name": "stdout",
          "text": [
            "\r0.67659 0.00000"
          ]
        },
        {
          "output_type": "stream",
          "name": "stderr",
          "text": [
            "\n",
            "Iteration:   6%|▌         | 11/200 [00:08<02:20,  1.34it/s]\u001b[A"
          ]
        },
        {
          "output_type": "stream",
          "name": "stdout",
          "text": [
            "\r0.63805 0.00000"
          ]
        },
        {
          "output_type": "stream",
          "name": "stderr",
          "text": [
            "\n",
            "Iteration:   6%|▌         | 12/200 [00:08<02:19,  1.34it/s]\u001b[A"
          ]
        },
        {
          "output_type": "stream",
          "name": "stdout",
          "text": [
            "\r0.71988 0.00000"
          ]
        },
        {
          "output_type": "stream",
          "name": "stderr",
          "text": [
            "\n",
            "Iteration:   6%|▋         | 13/200 [00:09<02:19,  1.34it/s]\u001b[A"
          ]
        },
        {
          "output_type": "stream",
          "name": "stdout",
          "text": [
            "\r0.81496 0.00000"
          ]
        },
        {
          "output_type": "stream",
          "name": "stderr",
          "text": [
            "\n",
            "Iteration:   7%|▋         | 14/200 [00:10<02:18,  1.34it/s]\u001b[A"
          ]
        },
        {
          "output_type": "stream",
          "name": "stdout",
          "text": [
            "\r0.78028 0.00000"
          ]
        },
        {
          "output_type": "stream",
          "name": "stderr",
          "text": [
            "\n",
            "Iteration:   8%|▊         | 15/200 [00:11<02:17,  1.34it/s]\u001b[A"
          ]
        },
        {
          "output_type": "stream",
          "name": "stdout",
          "text": [
            "\r0.70443 0.00000"
          ]
        },
        {
          "output_type": "stream",
          "name": "stderr",
          "text": [
            "\n",
            "Iteration:   8%|▊         | 16/200 [00:11<02:17,  1.34it/s]\u001b[A"
          ]
        },
        {
          "output_type": "stream",
          "name": "stdout",
          "text": [
            "\r0.80234 0.00000"
          ]
        },
        {
          "output_type": "stream",
          "name": "stderr",
          "text": [
            "\n",
            "Iteration:   8%|▊         | 17/200 [00:12<02:16,  1.34it/s]\u001b[A"
          ]
        },
        {
          "output_type": "stream",
          "name": "stdout",
          "text": [
            "\r0.69905 0.00000"
          ]
        },
        {
          "output_type": "stream",
          "name": "stderr",
          "text": [
            "\n",
            "Iteration:   9%|▉         | 18/200 [00:13<02:15,  1.34it/s]\u001b[A"
          ]
        },
        {
          "output_type": "stream",
          "name": "stdout",
          "text": [
            "\r0.67375 0.00000"
          ]
        },
        {
          "output_type": "stream",
          "name": "stderr",
          "text": [
            "\n",
            "Iteration:  10%|▉         | 19/200 [00:14<02:14,  1.35it/s]\u001b[A"
          ]
        },
        {
          "output_type": "stream",
          "name": "stdout",
          "text": [
            "\r0.75402 0.00000"
          ]
        },
        {
          "output_type": "stream",
          "name": "stderr",
          "text": [
            "\n",
            "Iteration:  10%|█         | 20/200 [00:14<02:13,  1.34it/s]\u001b[A"
          ]
        },
        {
          "output_type": "stream",
          "name": "stdout",
          "text": [
            "\r0.77613 0.00000"
          ]
        },
        {
          "output_type": "stream",
          "name": "stderr",
          "text": [
            "\n",
            "Iteration:  10%|█         | 21/200 [00:15<02:13,  1.34it/s]\u001b[A"
          ]
        },
        {
          "output_type": "stream",
          "name": "stdout",
          "text": [
            "\r0.66757 0.00000"
          ]
        },
        {
          "output_type": "stream",
          "name": "stderr",
          "text": [
            "\n",
            "Iteration:  11%|█         | 22/200 [00:16<02:12,  1.34it/s]\u001b[A"
          ]
        },
        {
          "output_type": "stream",
          "name": "stdout",
          "text": [
            "\r0.73436 0.00000"
          ]
        },
        {
          "output_type": "stream",
          "name": "stderr",
          "text": [
            "\n",
            "Iteration:  12%|█▏        | 23/200 [00:17<02:12,  1.34it/s]\u001b[A"
          ]
        },
        {
          "output_type": "stream",
          "name": "stdout",
          "text": [
            "\r0.71573 0.00000"
          ]
        },
        {
          "output_type": "stream",
          "name": "stderr",
          "text": [
            "\n",
            "Iteration:  12%|█▏        | 24/200 [00:17<02:11,  1.34it/s]\u001b[A"
          ]
        },
        {
          "output_type": "stream",
          "name": "stdout",
          "text": [
            "\r0.72345 0.00000"
          ]
        },
        {
          "output_type": "stream",
          "name": "stderr",
          "text": [
            "\n",
            "Iteration:  12%|█▎        | 25/200 [00:18<02:10,  1.34it/s]\u001b[A"
          ]
        },
        {
          "output_type": "stream",
          "name": "stdout",
          "text": [
            "\r0.67980 0.00000"
          ]
        },
        {
          "output_type": "stream",
          "name": "stderr",
          "text": [
            "\n",
            "Iteration:  13%|█▎        | 26/200 [00:19<02:10,  1.34it/s]\u001b[A"
          ]
        },
        {
          "output_type": "stream",
          "name": "stdout",
          "text": [
            "\r0.70060 0.00000"
          ]
        },
        {
          "output_type": "stream",
          "name": "stderr",
          "text": [
            "\n",
            "Iteration:  14%|█▎        | 27/200 [00:20<02:09,  1.34it/s]\u001b[A"
          ]
        },
        {
          "output_type": "stream",
          "name": "stdout",
          "text": [
            "\r0.67830 0.00000"
          ]
        },
        {
          "output_type": "stream",
          "name": "stderr",
          "text": [
            "\n",
            "Iteration:  14%|█▍        | 28/200 [00:20<02:08,  1.34it/s]\u001b[A"
          ]
        },
        {
          "output_type": "stream",
          "name": "stdout",
          "text": [
            "\r0.72288 0.00000"
          ]
        },
        {
          "output_type": "stream",
          "name": "stderr",
          "text": [
            "\n",
            "Iteration:  14%|█▍        | 29/200 [00:21<02:07,  1.34it/s]\u001b[A"
          ]
        },
        {
          "output_type": "stream",
          "name": "stdout",
          "text": [
            "\r0.70752 0.00000"
          ]
        },
        {
          "output_type": "stream",
          "name": "stderr",
          "text": [
            "\n",
            "Iteration:  15%|█▌        | 30/200 [00:22<02:07,  1.34it/s]\u001b[A"
          ]
        },
        {
          "output_type": "stream",
          "name": "stdout",
          "text": [
            "\r0.65982 0.00000"
          ]
        },
        {
          "output_type": "stream",
          "name": "stderr",
          "text": [
            "\n",
            "Iteration:  16%|█▌        | 31/200 [00:23<02:06,  1.34it/s]\u001b[A"
          ]
        },
        {
          "output_type": "stream",
          "name": "stdout",
          "text": [
            "\r0.66119 0.00000"
          ]
        },
        {
          "output_type": "stream",
          "name": "stderr",
          "text": [
            "\n",
            "Iteration:  16%|█▌        | 32/200 [00:23<02:05,  1.34it/s]\u001b[A"
          ]
        },
        {
          "output_type": "stream",
          "name": "stdout",
          "text": [
            "\r0.69778 0.00000"
          ]
        },
        {
          "output_type": "stream",
          "name": "stderr",
          "text": [
            "\n",
            "Iteration:  16%|█▋        | 33/200 [00:24<02:04,  1.34it/s]\u001b[A"
          ]
        },
        {
          "output_type": "stream",
          "name": "stdout",
          "text": [
            "\r0.71293 0.00000"
          ]
        },
        {
          "output_type": "stream",
          "name": "stderr",
          "text": [
            "\n",
            "Iteration:  17%|█▋        | 34/200 [00:25<02:03,  1.34it/s]\u001b[A"
          ]
        },
        {
          "output_type": "stream",
          "name": "stdout",
          "text": [
            "\r0.68882 0.00000"
          ]
        },
        {
          "output_type": "stream",
          "name": "stderr",
          "text": [
            "\n",
            "Iteration:  18%|█▊        | 35/200 [00:26<02:02,  1.34it/s]\u001b[A"
          ]
        },
        {
          "output_type": "stream",
          "name": "stdout",
          "text": [
            "\r0.64991 0.00000"
          ]
        },
        {
          "output_type": "stream",
          "name": "stderr",
          "text": [
            "\n",
            "Iteration:  18%|█▊        | 36/200 [00:26<02:01,  1.34it/s]\u001b[A"
          ]
        },
        {
          "output_type": "stream",
          "name": "stdout",
          "text": [
            "\r0.74408 0.00000"
          ]
        },
        {
          "output_type": "stream",
          "name": "stderr",
          "text": [
            "\n",
            "Iteration:  18%|█▊        | 37/200 [00:27<02:01,  1.34it/s]\u001b[A"
          ]
        },
        {
          "output_type": "stream",
          "name": "stdout",
          "text": [
            "\r0.67483 0.00000"
          ]
        },
        {
          "output_type": "stream",
          "name": "stderr",
          "text": [
            "\n",
            "Iteration:  19%|█▉        | 38/200 [00:28<02:00,  1.34it/s]\u001b[A"
          ]
        },
        {
          "output_type": "stream",
          "name": "stdout",
          "text": [
            "\r0.69670 0.00000"
          ]
        },
        {
          "output_type": "stream",
          "name": "stderr",
          "text": [
            "\n",
            "Iteration:  20%|█▉        | 39/200 [00:29<01:59,  1.34it/s]\u001b[A"
          ]
        },
        {
          "output_type": "stream",
          "name": "stdout",
          "text": [
            "\r0.66894 0.00000"
          ]
        },
        {
          "output_type": "stream",
          "name": "stderr",
          "text": [
            "\n",
            "Iteration:  20%|██        | 40/200 [00:29<01:58,  1.34it/s]\u001b[A"
          ]
        },
        {
          "output_type": "stream",
          "name": "stdout",
          "text": [
            "\r0.66442 0.00000"
          ]
        },
        {
          "output_type": "stream",
          "name": "stderr",
          "text": [
            "\n",
            "Iteration:  20%|██        | 41/200 [00:30<01:58,  1.34it/s]\u001b[A"
          ]
        },
        {
          "output_type": "stream",
          "name": "stdout",
          "text": [
            "\r0.68721 0.00000"
          ]
        },
        {
          "output_type": "stream",
          "name": "stderr",
          "text": [
            "\n",
            "Iteration:  21%|██        | 42/200 [00:31<01:57,  1.34it/s]\u001b[A"
          ]
        },
        {
          "output_type": "stream",
          "name": "stdout",
          "text": [
            "\r0.72931 0.00000"
          ]
        },
        {
          "output_type": "stream",
          "name": "stderr",
          "text": [
            "\n",
            "Iteration:  22%|██▏       | 43/200 [00:32<01:56,  1.35it/s]\u001b[A"
          ]
        },
        {
          "output_type": "stream",
          "name": "stdout",
          "text": [
            "\r0.69479 0.00000"
          ]
        },
        {
          "output_type": "stream",
          "name": "stderr",
          "text": [
            "\n",
            "Iteration:  22%|██▏       | 44/200 [00:32<01:56,  1.34it/s]\u001b[A"
          ]
        },
        {
          "output_type": "stream",
          "name": "stdout",
          "text": [
            "\r0.73598 0.00000"
          ]
        },
        {
          "output_type": "stream",
          "name": "stderr",
          "text": [
            "\n",
            "Iteration:  22%|██▎       | 45/200 [00:33<01:55,  1.34it/s]\u001b[A"
          ]
        },
        {
          "output_type": "stream",
          "name": "stdout",
          "text": [
            "\r0.65469 0.00000"
          ]
        },
        {
          "output_type": "stream",
          "name": "stderr",
          "text": [
            "\n",
            "Iteration:  23%|██▎       | 46/200 [00:34<01:55,  1.34it/s]\u001b[A"
          ]
        },
        {
          "output_type": "stream",
          "name": "stdout",
          "text": [
            "\r0.63683 0.00000"
          ]
        },
        {
          "output_type": "stream",
          "name": "stderr",
          "text": [
            "\n",
            "Iteration:  24%|██▎       | 47/200 [00:35<01:54,  1.34it/s]\u001b[A"
          ]
        },
        {
          "output_type": "stream",
          "name": "stdout",
          "text": [
            "\r0.64006 0.00000"
          ]
        },
        {
          "output_type": "stream",
          "name": "stderr",
          "text": [
            "\n",
            "Iteration:  24%|██▍       | 48/200 [00:35<01:53,  1.34it/s]\u001b[A"
          ]
        },
        {
          "output_type": "stream",
          "name": "stdout",
          "text": [
            "\r0.64228 0.00000"
          ]
        },
        {
          "output_type": "stream",
          "name": "stderr",
          "text": [
            "\n",
            "Iteration:  24%|██▍       | 49/200 [00:36<01:53,  1.33it/s]\u001b[A"
          ]
        },
        {
          "output_type": "stream",
          "name": "stdout",
          "text": [
            "\r0.64938 0.00000"
          ]
        },
        {
          "output_type": "stream",
          "name": "stderr",
          "text": [
            "\n",
            "Iteration:  25%|██▌       | 50/200 [00:37<01:52,  1.33it/s]\u001b[A"
          ]
        },
        {
          "output_type": "stream",
          "name": "stdout",
          "text": [
            "\r0.67271 0.00000"
          ]
        },
        {
          "output_type": "stream",
          "name": "stderr",
          "text": [
            "\n",
            "Iteration:  26%|██▌       | 51/200 [00:38<01:51,  1.34it/s]\u001b[A"
          ]
        },
        {
          "output_type": "stream",
          "name": "stdout",
          "text": [
            "\r0.67409 0.00000"
          ]
        },
        {
          "output_type": "stream",
          "name": "stderr",
          "text": [
            "\n",
            "Iteration:  26%|██▌       | 52/200 [00:38<01:50,  1.34it/s]\u001b[A"
          ]
        },
        {
          "output_type": "stream",
          "name": "stdout",
          "text": [
            "\r0.68321 0.00000"
          ]
        },
        {
          "output_type": "stream",
          "name": "stderr",
          "text": [
            "\n",
            "Iteration:  26%|██▋       | 53/200 [00:39<01:49,  1.34it/s]\u001b[A"
          ]
        },
        {
          "output_type": "stream",
          "name": "stdout",
          "text": [
            "\r0.63673 0.00000"
          ]
        },
        {
          "output_type": "stream",
          "name": "stderr",
          "text": [
            "\n",
            "Iteration:  27%|██▋       | 54/200 [00:40<01:49,  1.33it/s]\u001b[A"
          ]
        },
        {
          "output_type": "stream",
          "name": "stdout",
          "text": [
            "\r0.76819 0.00000"
          ]
        },
        {
          "output_type": "stream",
          "name": "stderr",
          "text": [
            "\n",
            "Iteration:  28%|██▊       | 55/200 [00:41<01:48,  1.34it/s]\u001b[A"
          ]
        },
        {
          "output_type": "stream",
          "name": "stdout",
          "text": [
            "\r0.70201 0.00000"
          ]
        },
        {
          "output_type": "stream",
          "name": "stderr",
          "text": [
            "\n",
            "Iteration:  28%|██▊       | 56/200 [00:41<01:47,  1.34it/s]\u001b[A"
          ]
        },
        {
          "output_type": "stream",
          "name": "stdout",
          "text": [
            "\r0.59441 0.00000"
          ]
        },
        {
          "output_type": "stream",
          "name": "stderr",
          "text": [
            "\n",
            "Iteration:  28%|██▊       | 57/200 [00:42<01:46,  1.34it/s]\u001b[A"
          ]
        },
        {
          "output_type": "stream",
          "name": "stdout",
          "text": [
            "\r0.66913 0.00000"
          ]
        },
        {
          "output_type": "stream",
          "name": "stderr",
          "text": [
            "\n",
            "Iteration:  29%|██▉       | 58/200 [00:43<01:46,  1.34it/s]\u001b[A"
          ]
        },
        {
          "output_type": "stream",
          "name": "stdout",
          "text": [
            "\r0.51160 0.00000"
          ]
        },
        {
          "output_type": "stream",
          "name": "stderr",
          "text": [
            "\n",
            "Iteration:  30%|██▉       | 59/200 [00:44<01:45,  1.34it/s]\u001b[A"
          ]
        },
        {
          "output_type": "stream",
          "name": "stdout",
          "text": [
            "\r0.60651 0.00000"
          ]
        },
        {
          "output_type": "stream",
          "name": "stderr",
          "text": [
            "\n",
            "Iteration:  30%|███       | 60/200 [00:44<01:44,  1.34it/s]\u001b[A"
          ]
        },
        {
          "output_type": "stream",
          "name": "stdout",
          "text": [
            "\r0.50142 0.00000"
          ]
        },
        {
          "output_type": "stream",
          "name": "stderr",
          "text": [
            "\n",
            "Iteration:  30%|███       | 61/200 [00:45<01:43,  1.34it/s]\u001b[A"
          ]
        },
        {
          "output_type": "stream",
          "name": "stdout",
          "text": [
            "\r0.57773 0.00000"
          ]
        },
        {
          "output_type": "stream",
          "name": "stderr",
          "text": [
            "\n",
            "Iteration:  31%|███       | 62/200 [00:46<01:42,  1.34it/s]\u001b[A"
          ]
        },
        {
          "output_type": "stream",
          "name": "stdout",
          "text": [
            "\r0.64398 0.00000"
          ]
        },
        {
          "output_type": "stream",
          "name": "stderr",
          "text": [
            "\n",
            "Iteration:  32%|███▏      | 63/200 [00:47<01:42,  1.34it/s]\u001b[A"
          ]
        },
        {
          "output_type": "stream",
          "name": "stdout",
          "text": [
            "\r0.53964 0.00000"
          ]
        },
        {
          "output_type": "stream",
          "name": "stderr",
          "text": [
            "\n",
            "Iteration:  32%|███▏      | 64/200 [00:47<01:41,  1.34it/s]\u001b[A"
          ]
        },
        {
          "output_type": "stream",
          "name": "stdout",
          "text": [
            "\r0.63685 0.00000"
          ]
        },
        {
          "output_type": "stream",
          "name": "stderr",
          "text": [
            "\n",
            "Iteration:  32%|███▎      | 65/200 [00:48<01:40,  1.34it/s]\u001b[A"
          ]
        },
        {
          "output_type": "stream",
          "name": "stdout",
          "text": [
            "\r0.55878 0.00000"
          ]
        },
        {
          "output_type": "stream",
          "name": "stderr",
          "text": [
            "\n",
            "Iteration:  33%|███▎      | 66/200 [00:49<01:40,  1.34it/s]\u001b[A"
          ]
        },
        {
          "output_type": "stream",
          "name": "stdout",
          "text": [
            "\r0.45971 0.00000"
          ]
        },
        {
          "output_type": "stream",
          "name": "stderr",
          "text": [
            "\n",
            "Iteration:  34%|███▎      | 67/200 [00:50<01:39,  1.34it/s]\u001b[A"
          ]
        },
        {
          "output_type": "stream",
          "name": "stdout",
          "text": [
            "\r0.57749 0.00000"
          ]
        },
        {
          "output_type": "stream",
          "name": "stderr",
          "text": [
            "\n",
            "Iteration:  34%|███▍      | 68/200 [00:50<01:38,  1.34it/s]\u001b[A"
          ]
        },
        {
          "output_type": "stream",
          "name": "stdout",
          "text": [
            "\r0.56274 0.00000"
          ]
        },
        {
          "output_type": "stream",
          "name": "stderr",
          "text": [
            "\n",
            "Iteration:  34%|███▍      | 69/200 [00:51<01:37,  1.34it/s]\u001b[A"
          ]
        },
        {
          "output_type": "stream",
          "name": "stdout",
          "text": [
            "\r0.59551 0.00000"
          ]
        },
        {
          "output_type": "stream",
          "name": "stderr",
          "text": [
            "\n",
            "Iteration:  35%|███▌      | 70/200 [00:52<01:36,  1.34it/s]\u001b[A"
          ]
        },
        {
          "output_type": "stream",
          "name": "stdout",
          "text": [
            "\r0.65575 0.00000"
          ]
        },
        {
          "output_type": "stream",
          "name": "stderr",
          "text": [
            "\n",
            "Iteration:  36%|███▌      | 71/200 [00:53<01:36,  1.34it/s]\u001b[A"
          ]
        },
        {
          "output_type": "stream",
          "name": "stdout",
          "text": [
            "\r0.56047 0.00000"
          ]
        },
        {
          "output_type": "stream",
          "name": "stderr",
          "text": [
            "\n",
            "Iteration:  36%|███▌      | 72/200 [00:53<01:35,  1.34it/s]\u001b[A"
          ]
        },
        {
          "output_type": "stream",
          "name": "stdout",
          "text": [
            "\r0.49839 0.00000"
          ]
        },
        {
          "output_type": "stream",
          "name": "stderr",
          "text": [
            "\n",
            "Iteration:  36%|███▋      | 73/200 [00:54<01:34,  1.34it/s]\u001b[A"
          ]
        },
        {
          "output_type": "stream",
          "name": "stdout",
          "text": [
            "\r0.60294 0.00000"
          ]
        },
        {
          "output_type": "stream",
          "name": "stderr",
          "text": [
            "\n",
            "Iteration:  37%|███▋      | 74/200 [00:55<01:33,  1.34it/s]\u001b[A"
          ]
        },
        {
          "output_type": "stream",
          "name": "stdout",
          "text": [
            "\r0.35008 0.00000"
          ]
        },
        {
          "output_type": "stream",
          "name": "stderr",
          "text": [
            "\n",
            "Iteration:  38%|███▊      | 75/200 [00:55<01:33,  1.34it/s]\u001b[A"
          ]
        },
        {
          "output_type": "stream",
          "name": "stdout",
          "text": [
            "\r0.56000 0.00000"
          ]
        },
        {
          "output_type": "stream",
          "name": "stderr",
          "text": [
            "\n",
            "Iteration:  38%|███▊      | 76/200 [00:56<01:32,  1.34it/s]\u001b[A"
          ]
        },
        {
          "output_type": "stream",
          "name": "stdout",
          "text": [
            "\r0.49106 0.00000"
          ]
        },
        {
          "output_type": "stream",
          "name": "stderr",
          "text": [
            "\n",
            "Iteration:  38%|███▊      | 77/200 [00:57<01:31,  1.34it/s]\u001b[A"
          ]
        },
        {
          "output_type": "stream",
          "name": "stdout",
          "text": [
            "\r0.37755 0.00000"
          ]
        },
        {
          "output_type": "stream",
          "name": "stderr",
          "text": [
            "\n",
            "Iteration:  39%|███▉      | 78/200 [00:58<01:30,  1.34it/s]\u001b[A"
          ]
        },
        {
          "output_type": "stream",
          "name": "stdout",
          "text": [
            "\r0.37187 0.00000"
          ]
        },
        {
          "output_type": "stream",
          "name": "stderr",
          "text": [
            "\n",
            "Iteration:  40%|███▉      | 79/200 [00:58<01:29,  1.34it/s]\u001b[A"
          ]
        },
        {
          "output_type": "stream",
          "name": "stdout",
          "text": [
            "\r0.17377 0.00000"
          ]
        },
        {
          "output_type": "stream",
          "name": "stderr",
          "text": [
            "\n",
            "Iteration:  40%|████      | 80/200 [00:59<01:29,  1.34it/s]\u001b[A"
          ]
        },
        {
          "output_type": "stream",
          "name": "stdout",
          "text": [
            "\r0.45025 0.00000"
          ]
        },
        {
          "output_type": "stream",
          "name": "stderr",
          "text": [
            "\n",
            "Iteration:  40%|████      | 81/200 [01:00<01:28,  1.34it/s]\u001b[A"
          ]
        },
        {
          "output_type": "stream",
          "name": "stdout",
          "text": [
            "\r0.21144 0.00000"
          ]
        },
        {
          "output_type": "stream",
          "name": "stderr",
          "text": [
            "\n",
            "Iteration:  41%|████      | 82/200 [01:01<01:28,  1.34it/s]\u001b[A"
          ]
        },
        {
          "output_type": "stream",
          "name": "stdout",
          "text": [
            "\r0.30541 0.00000"
          ]
        },
        {
          "output_type": "stream",
          "name": "stderr",
          "text": [
            "\n",
            "Iteration:  42%|████▏     | 83/200 [01:01<01:27,  1.34it/s]\u001b[A"
          ]
        },
        {
          "output_type": "stream",
          "name": "stdout",
          "text": [
            "\r0.23603 0.00000"
          ]
        },
        {
          "output_type": "stream",
          "name": "stderr",
          "text": [
            "\n",
            "Iteration:  42%|████▏     | 84/200 [01:02<01:26,  1.34it/s]\u001b[A"
          ]
        },
        {
          "output_type": "stream",
          "name": "stdout",
          "text": [
            "\r0.41048 0.00000"
          ]
        },
        {
          "output_type": "stream",
          "name": "stderr",
          "text": [
            "\n",
            "Iteration:  42%|████▎     | 85/200 [01:03<01:25,  1.34it/s]\u001b[A"
          ]
        },
        {
          "output_type": "stream",
          "name": "stdout",
          "text": [
            "\r0.68128 0.00000"
          ]
        },
        {
          "output_type": "stream",
          "name": "stderr",
          "text": [
            "\n",
            "Iteration:  43%|████▎     | 86/200 [01:04<01:24,  1.34it/s]\u001b[A"
          ]
        },
        {
          "output_type": "stream",
          "name": "stdout",
          "text": [
            "\r0.28723 0.00000"
          ]
        },
        {
          "output_type": "stream",
          "name": "stderr",
          "text": [
            "\n",
            "Iteration:  44%|████▎     | 87/200 [01:04<01:24,  1.34it/s]\u001b[A"
          ]
        },
        {
          "output_type": "stream",
          "name": "stdout",
          "text": [
            "\r0.60410 0.00000"
          ]
        },
        {
          "output_type": "stream",
          "name": "stderr",
          "text": [
            "\n",
            "Iteration:  44%|████▍     | 88/200 [01:05<01:23,  1.34it/s]\u001b[A"
          ]
        },
        {
          "output_type": "stream",
          "name": "stdout",
          "text": [
            "\r0.54143 0.00000"
          ]
        },
        {
          "output_type": "stream",
          "name": "stderr",
          "text": [
            "\n",
            "Iteration:  44%|████▍     | 89/200 [01:06<01:22,  1.34it/s]\u001b[A"
          ]
        },
        {
          "output_type": "stream",
          "name": "stdout",
          "text": [
            "\r0.69065 0.00000"
          ]
        },
        {
          "output_type": "stream",
          "name": "stderr",
          "text": [
            "\n",
            "Iteration:  45%|████▌     | 90/200 [01:07<01:21,  1.34it/s]\u001b[A"
          ]
        },
        {
          "output_type": "stream",
          "name": "stdout",
          "text": [
            "\r0.63032 0.00000"
          ]
        },
        {
          "output_type": "stream",
          "name": "stderr",
          "text": [
            "\n",
            "Iteration:  46%|████▌     | 91/200 [01:07<01:21,  1.34it/s]\u001b[A"
          ]
        },
        {
          "output_type": "stream",
          "name": "stdout",
          "text": [
            "\r0.74232 0.00000"
          ]
        },
        {
          "output_type": "stream",
          "name": "stderr",
          "text": [
            "\n",
            "Iteration:  46%|████▌     | 92/200 [01:08<01:20,  1.34it/s]\u001b[A"
          ]
        },
        {
          "output_type": "stream",
          "name": "stdout",
          "text": [
            "\r0.51669 0.00000"
          ]
        },
        {
          "output_type": "stream",
          "name": "stderr",
          "text": [
            "\n",
            "Iteration:  46%|████▋     | 93/200 [01:09<01:19,  1.35it/s]\u001b[A"
          ]
        },
        {
          "output_type": "stream",
          "name": "stdout",
          "text": [
            "\r0.22562 0.00000"
          ]
        },
        {
          "output_type": "stream",
          "name": "stderr",
          "text": [
            "\n",
            "Iteration:  47%|████▋     | 94/200 [01:10<01:18,  1.35it/s]\u001b[A"
          ]
        },
        {
          "output_type": "stream",
          "name": "stdout",
          "text": [
            "\r0.64851 0.00000"
          ]
        },
        {
          "output_type": "stream",
          "name": "stderr",
          "text": [
            "\n",
            "Iteration:  48%|████▊     | 95/200 [01:10<01:18,  1.34it/s]\u001b[A"
          ]
        },
        {
          "output_type": "stream",
          "name": "stdout",
          "text": [
            "\r0.37303 0.00000"
          ]
        },
        {
          "output_type": "stream",
          "name": "stderr",
          "text": [
            "\n",
            "Iteration:  48%|████▊     | 96/200 [01:11<01:17,  1.34it/s]\u001b[A"
          ]
        },
        {
          "output_type": "stream",
          "name": "stdout",
          "text": [
            "\r0.62820 0.00000"
          ]
        },
        {
          "output_type": "stream",
          "name": "stderr",
          "text": [
            "\n",
            "Iteration:  48%|████▊     | 97/200 [01:12<01:16,  1.34it/s]\u001b[A"
          ]
        },
        {
          "output_type": "stream",
          "name": "stdout",
          "text": [
            "\r0.42332 0.00000"
          ]
        },
        {
          "output_type": "stream",
          "name": "stderr",
          "text": [
            "\n",
            "Iteration:  49%|████▉     | 98/200 [01:13<01:15,  1.34it/s]\u001b[A"
          ]
        },
        {
          "output_type": "stream",
          "name": "stdout",
          "text": [
            "\r0.25191 0.00000"
          ]
        },
        {
          "output_type": "stream",
          "name": "stderr",
          "text": [
            "\n",
            "Iteration:  50%|████▉     | 99/200 [01:13<01:15,  1.34it/s]\u001b[A"
          ]
        },
        {
          "output_type": "stream",
          "name": "stdout",
          "text": [
            "\r0.29156 0.00000"
          ]
        },
        {
          "output_type": "stream",
          "name": "stderr",
          "text": [
            "INFO:root:Creating features from dataset file at ./drive/MyDrive/tvd5455/VvsNV/common_data/\n",
            "INFO:root:Saving features into cached file ./drive/MyDrive/tvd5455/VvsNV/Relations/processed_data/cached_dev_roberta-large_128_both\n",
            "INFO:root:***** Running evaluation  *****\n",
            "INFO:root:  Num examples = 800\n",
            "INFO:root:  Batch size = 128\n"
          ]
        },
        {
          "output_type": "stream",
          "name": "stdout",
          "text": [
            "0.36538 0.00000"
          ]
        },
        {
          "output_type": "stream",
          "name": "stderr",
          "text": [
            "INFO:root:***** Eval results  *****\n",
            "INFO:root:  f1 = 0.3902439024390244\n",
            "INFO:root:  fn = 4\n",
            "INFO:root:  fp = 121\n",
            "INFO:root:  mcc = 0.4259196913867982\n",
            "INFO:root:  rmse = 0.4708521\n",
            "INFO:root:  tn = 635\n",
            "INFO:root:  tp = 40\n",
            "/usr/local/lib/python3.7/dist-packages/torch/optim/lr_scheduler.py:247: UserWarning: To get the last learning rate computed by the scheduler, please use `get_last_lr()`.\n",
            "  warnings.warn(\"To get the last learning rate computed by the scheduler, \"\n",
            "\n",
            "Iteration:  50%|█████     | 100/200 [01:25<06:29,  3.90s/it]\u001b[A"
          ]
        },
        {
          "output_type": "stream",
          "name": "stdout",
          "text": [
            "0.31584 0.00000"
          ]
        },
        {
          "output_type": "stream",
          "name": "stderr",
          "text": [
            "\n",
            "Iteration:  50%|█████     | 101/200 [01:25<04:52,  2.95s/it]\u001b[A"
          ]
        },
        {
          "output_type": "stream",
          "name": "stdout",
          "text": [
            "\r0.29473 0.00000"
          ]
        },
        {
          "output_type": "stream",
          "name": "stderr",
          "text": [
            "\n",
            "Iteration:  51%|█████     | 102/200 [01:26<03:44,  2.29s/it]\u001b[A"
          ]
        },
        {
          "output_type": "stream",
          "name": "stdout",
          "text": [
            "\r0.18797 0.00000"
          ]
        },
        {
          "output_type": "stream",
          "name": "stderr",
          "text": [
            "\n",
            "Iteration:  52%|█████▏    | 103/200 [01:27<02:57,  1.83s/it]\u001b[A"
          ]
        },
        {
          "output_type": "stream",
          "name": "stdout",
          "text": [
            "\r0.25497 0.00000"
          ]
        },
        {
          "output_type": "stream",
          "name": "stderr",
          "text": [
            "\n",
            "Iteration:  52%|█████▏    | 104/200 [01:28<02:24,  1.50s/it]\u001b[A"
          ]
        },
        {
          "output_type": "stream",
          "name": "stdout",
          "text": [
            "\r0.39746 0.00000"
          ]
        },
        {
          "output_type": "stream",
          "name": "stderr",
          "text": [
            "\n",
            "Iteration:  52%|█████▎    | 105/200 [01:28<02:01,  1.27s/it]\u001b[A"
          ]
        },
        {
          "output_type": "stream",
          "name": "stdout",
          "text": [
            "\r0.65884 0.00000"
          ]
        },
        {
          "output_type": "stream",
          "name": "stderr",
          "text": [
            "\n",
            "Iteration:  53%|█████▎    | 106/200 [01:29<01:44,  1.12s/it]\u001b[A"
          ]
        },
        {
          "output_type": "stream",
          "name": "stdout",
          "text": [
            "\r0.63871 0.00000"
          ]
        },
        {
          "output_type": "stream",
          "name": "stderr",
          "text": [
            "\n",
            "Iteration:  54%|█████▎    | 107/200 [01:30<01:33,  1.00s/it]\u001b[A"
          ]
        },
        {
          "output_type": "stream",
          "name": "stdout",
          "text": [
            "\r0.45028 0.00000"
          ]
        },
        {
          "output_type": "stream",
          "name": "stderr",
          "text": [
            "\n",
            "Iteration:  54%|█████▍    | 108/200 [01:31<01:25,  1.08it/s]\u001b[A"
          ]
        },
        {
          "output_type": "stream",
          "name": "stdout",
          "text": [
            "\r0.52986 0.00000"
          ]
        },
        {
          "output_type": "stream",
          "name": "stderr",
          "text": [
            "\n",
            "Iteration:  55%|█████▍    | 109/200 [01:31<01:19,  1.15it/s]\u001b[A"
          ]
        },
        {
          "output_type": "stream",
          "name": "stdout",
          "text": [
            "\r0.41842 0.00000"
          ]
        },
        {
          "output_type": "stream",
          "name": "stderr",
          "text": [
            "\n",
            "Iteration:  55%|█████▌    | 110/200 [01:32<01:15,  1.19it/s]\u001b[A"
          ]
        },
        {
          "output_type": "stream",
          "name": "stdout",
          "text": [
            "\r0.58468 0.00000"
          ]
        },
        {
          "output_type": "stream",
          "name": "stderr",
          "text": [
            "\n",
            "Iteration:  56%|█████▌    | 111/200 [01:33<01:12,  1.24it/s]\u001b[A"
          ]
        },
        {
          "output_type": "stream",
          "name": "stdout",
          "text": [
            "\r0.46072 0.00000"
          ]
        },
        {
          "output_type": "stream",
          "name": "stderr",
          "text": [
            "\n",
            "Iteration:  56%|█████▌    | 112/200 [01:34<01:09,  1.27it/s]\u001b[A"
          ]
        },
        {
          "output_type": "stream",
          "name": "stdout",
          "text": [
            "\r0.38580 0.00000"
          ]
        },
        {
          "output_type": "stream",
          "name": "stderr",
          "text": [
            "\n",
            "Iteration:  56%|█████▋    | 113/200 [01:34<01:07,  1.29it/s]\u001b[A"
          ]
        },
        {
          "output_type": "stream",
          "name": "stdout",
          "text": [
            "\r0.22172 0.00000"
          ]
        },
        {
          "output_type": "stream",
          "name": "stderr",
          "text": [
            "\n",
            "Iteration:  57%|█████▋    | 114/200 [01:35<01:05,  1.30it/s]\u001b[A"
          ]
        },
        {
          "output_type": "stream",
          "name": "stdout",
          "text": [
            "\r0.26071 0.00000"
          ]
        },
        {
          "output_type": "stream",
          "name": "stderr",
          "text": [
            "\n",
            "Iteration:  57%|█████▊    | 115/200 [01:36<01:04,  1.31it/s]\u001b[A"
          ]
        },
        {
          "output_type": "stream",
          "name": "stdout",
          "text": [
            "\r0.43696 0.00000"
          ]
        },
        {
          "output_type": "stream",
          "name": "stderr",
          "text": [
            "\n",
            "Iteration:  58%|█████▊    | 116/200 [01:37<01:03,  1.32it/s]\u001b[A"
          ]
        },
        {
          "output_type": "stream",
          "name": "stdout",
          "text": [
            "\r0.16456 0.00000"
          ]
        },
        {
          "output_type": "stream",
          "name": "stderr",
          "text": [
            "\n",
            "Iteration:  58%|█████▊    | 117/200 [01:37<01:02,  1.33it/s]\u001b[A"
          ]
        },
        {
          "output_type": "stream",
          "name": "stdout",
          "text": [
            "\r0.21042 0.00000"
          ]
        },
        {
          "output_type": "stream",
          "name": "stderr",
          "text": [
            "\n",
            "Iteration:  59%|█████▉    | 118/200 [01:38<01:01,  1.33it/s]\u001b[A"
          ]
        },
        {
          "output_type": "stream",
          "name": "stdout",
          "text": [
            "\r0.61091 0.00000"
          ]
        },
        {
          "output_type": "stream",
          "name": "stderr",
          "text": [
            "\n",
            "Iteration:  60%|█████▉    | 119/200 [01:39<01:00,  1.33it/s]\u001b[A"
          ]
        },
        {
          "output_type": "stream",
          "name": "stdout",
          "text": [
            "\r0.48941 0.00000"
          ]
        },
        {
          "output_type": "stream",
          "name": "stderr",
          "text": [
            "\n",
            "Iteration:  60%|██████    | 120/200 [01:40<00:59,  1.34it/s]\u001b[A"
          ]
        },
        {
          "output_type": "stream",
          "name": "stdout",
          "text": [
            "\r0.33358 0.00000"
          ]
        },
        {
          "output_type": "stream",
          "name": "stderr",
          "text": [
            "\n",
            "Iteration:  60%|██████    | 121/200 [01:40<00:59,  1.34it/s]\u001b[A"
          ]
        },
        {
          "output_type": "stream",
          "name": "stdout",
          "text": [
            "\r0.31120 0.00000"
          ]
        },
        {
          "output_type": "stream",
          "name": "stderr",
          "text": [
            "\n",
            "Iteration:  61%|██████    | 122/200 [01:41<00:58,  1.34it/s]\u001b[A"
          ]
        },
        {
          "output_type": "stream",
          "name": "stdout",
          "text": [
            "\r0.25918 0.00000"
          ]
        },
        {
          "output_type": "stream",
          "name": "stderr",
          "text": [
            "\n",
            "Iteration:  62%|██████▏   | 123/200 [01:42<00:57,  1.34it/s]\u001b[A"
          ]
        },
        {
          "output_type": "stream",
          "name": "stdout",
          "text": [
            "\r0.58323 0.00000"
          ]
        },
        {
          "output_type": "stream",
          "name": "stderr",
          "text": [
            "\n",
            "Iteration:  62%|██████▏   | 124/200 [01:43<00:56,  1.34it/s]\u001b[A"
          ]
        },
        {
          "output_type": "stream",
          "name": "stdout",
          "text": [
            "\r0.37528 0.00000"
          ]
        },
        {
          "output_type": "stream",
          "name": "stderr",
          "text": [
            "\n",
            "Iteration:  62%|██████▎   | 125/200 [01:43<00:56,  1.34it/s]\u001b[A"
          ]
        },
        {
          "output_type": "stream",
          "name": "stdout",
          "text": [
            "\r0.22903 0.00000"
          ]
        },
        {
          "output_type": "stream",
          "name": "stderr",
          "text": [
            "\n",
            "Iteration:  63%|██████▎   | 126/200 [01:44<00:55,  1.34it/s]\u001b[A"
          ]
        },
        {
          "output_type": "stream",
          "name": "stdout",
          "text": [
            "\r0.14729 0.00000"
          ]
        },
        {
          "output_type": "stream",
          "name": "stderr",
          "text": [
            "\n",
            "Iteration:  64%|██████▎   | 127/200 [01:45<00:54,  1.34it/s]\u001b[A"
          ]
        },
        {
          "output_type": "stream",
          "name": "stdout",
          "text": [
            "\r0.29724 0.00000"
          ]
        },
        {
          "output_type": "stream",
          "name": "stderr",
          "text": [
            "\n",
            "Iteration:  64%|██████▍   | 128/200 [01:45<00:53,  1.34it/s]\u001b[A"
          ]
        },
        {
          "output_type": "stream",
          "name": "stdout",
          "text": [
            "\r0.40410 0.00000"
          ]
        },
        {
          "output_type": "stream",
          "name": "stderr",
          "text": [
            "\n",
            "Iteration:  64%|██████▍   | 129/200 [01:46<00:52,  1.34it/s]\u001b[A"
          ]
        },
        {
          "output_type": "stream",
          "name": "stdout",
          "text": [
            "\r0.26401 0.00000"
          ]
        },
        {
          "output_type": "stream",
          "name": "stderr",
          "text": [
            "\n",
            "Iteration:  65%|██████▌   | 130/200 [01:47<00:52,  1.34it/s]\u001b[A"
          ]
        },
        {
          "output_type": "stream",
          "name": "stdout",
          "text": [
            "\r0.19774 0.00000"
          ]
        },
        {
          "output_type": "stream",
          "name": "stderr",
          "text": [
            "\n",
            "Iteration:  66%|██████▌   | 131/200 [01:48<00:51,  1.34it/s]\u001b[A"
          ]
        },
        {
          "output_type": "stream",
          "name": "stdout",
          "text": [
            "\r0.45470 0.00000"
          ]
        },
        {
          "output_type": "stream",
          "name": "stderr",
          "text": [
            "\n",
            "Iteration:  66%|██████▌   | 132/200 [01:48<00:50,  1.34it/s]\u001b[A"
          ]
        },
        {
          "output_type": "stream",
          "name": "stdout",
          "text": [
            "\r0.10154 0.00000"
          ]
        },
        {
          "output_type": "stream",
          "name": "stderr",
          "text": [
            "\n",
            "Iteration:  66%|██████▋   | 133/200 [01:49<00:49,  1.34it/s]\u001b[A"
          ]
        },
        {
          "output_type": "stream",
          "name": "stdout",
          "text": [
            "\r0.07631 0.00000"
          ]
        },
        {
          "output_type": "stream",
          "name": "stderr",
          "text": [
            "\n",
            "Iteration:  67%|██████▋   | 134/200 [01:50<00:49,  1.34it/s]\u001b[A"
          ]
        },
        {
          "output_type": "stream",
          "name": "stdout",
          "text": [
            "\r0.47643 0.00000"
          ]
        },
        {
          "output_type": "stream",
          "name": "stderr",
          "text": [
            "\n",
            "Iteration:  68%|██████▊   | 135/200 [01:51<00:48,  1.34it/s]\u001b[A"
          ]
        },
        {
          "output_type": "stream",
          "name": "stdout",
          "text": [
            "\r0.26562 0.00000"
          ]
        },
        {
          "output_type": "stream",
          "name": "stderr",
          "text": [
            "\n",
            "Iteration:  68%|██████▊   | 136/200 [01:51<00:47,  1.34it/s]\u001b[A"
          ]
        },
        {
          "output_type": "stream",
          "name": "stdout",
          "text": [
            "\r0.56731 0.00000"
          ]
        },
        {
          "output_type": "stream",
          "name": "stderr",
          "text": [
            "\n",
            "Iteration:  68%|██████▊   | 137/200 [01:52<00:46,  1.34it/s]\u001b[A"
          ]
        },
        {
          "output_type": "stream",
          "name": "stdout",
          "text": [
            "\r0.07831 0.00000"
          ]
        },
        {
          "output_type": "stream",
          "name": "stderr",
          "text": [
            "\n",
            "Iteration:  69%|██████▉   | 138/200 [01:53<00:46,  1.34it/s]\u001b[A"
          ]
        },
        {
          "output_type": "stream",
          "name": "stdout",
          "text": [
            "\r0.03812 0.00000"
          ]
        },
        {
          "output_type": "stream",
          "name": "stderr",
          "text": [
            "\n",
            "Iteration:  70%|██████▉   | 139/200 [01:54<00:45,  1.34it/s]\u001b[A"
          ]
        },
        {
          "output_type": "stream",
          "name": "stdout",
          "text": [
            "\r0.39695 0.00000"
          ]
        },
        {
          "output_type": "stream",
          "name": "stderr",
          "text": [
            "\n",
            "Iteration:  70%|███████   | 140/200 [01:54<00:44,  1.34it/s]\u001b[A"
          ]
        },
        {
          "output_type": "stream",
          "name": "stdout",
          "text": [
            "\r0.34799 0.00000"
          ]
        },
        {
          "output_type": "stream",
          "name": "stderr",
          "text": [
            "\n",
            "Iteration:  70%|███████   | 141/200 [01:55<00:44,  1.34it/s]\u001b[A"
          ]
        },
        {
          "output_type": "stream",
          "name": "stdout",
          "text": [
            "\r0.06100 0.00000"
          ]
        },
        {
          "output_type": "stream",
          "name": "stderr",
          "text": [
            "\n",
            "Iteration:  71%|███████   | 142/200 [01:56<00:43,  1.34it/s]\u001b[A"
          ]
        },
        {
          "output_type": "stream",
          "name": "stdout",
          "text": [
            "\r0.05056 0.00000"
          ]
        },
        {
          "output_type": "stream",
          "name": "stderr",
          "text": [
            "\n",
            "Iteration:  72%|███████▏  | 143/200 [01:57<00:42,  1.34it/s]\u001b[A"
          ]
        },
        {
          "output_type": "stream",
          "name": "stdout",
          "text": [
            "\r0.28916 0.00000"
          ]
        },
        {
          "output_type": "stream",
          "name": "stderr",
          "text": [
            "\n",
            "Iteration:  72%|███████▏  | 144/200 [01:57<00:41,  1.34it/s]\u001b[A"
          ]
        },
        {
          "output_type": "stream",
          "name": "stdout",
          "text": [
            "\r0.05224 0.00000"
          ]
        },
        {
          "output_type": "stream",
          "name": "stderr",
          "text": [
            "\n",
            "Iteration:  72%|███████▎  | 145/200 [01:58<00:41,  1.34it/s]\u001b[A"
          ]
        },
        {
          "output_type": "stream",
          "name": "stdout",
          "text": [
            "\r0.03237 0.00000"
          ]
        },
        {
          "output_type": "stream",
          "name": "stderr",
          "text": [
            "\n",
            "Iteration:  73%|███████▎  | 146/200 [01:59<00:40,  1.34it/s]\u001b[A"
          ]
        },
        {
          "output_type": "stream",
          "name": "stdout",
          "text": [
            "\r0.19997 0.00000"
          ]
        },
        {
          "output_type": "stream",
          "name": "stderr",
          "text": [
            "\n",
            "Iteration:  74%|███████▎  | 147/200 [02:00<00:39,  1.34it/s]\u001b[A"
          ]
        },
        {
          "output_type": "stream",
          "name": "stdout",
          "text": [
            "\r0.22026 0.00000"
          ]
        },
        {
          "output_type": "stream",
          "name": "stderr",
          "text": [
            "\n",
            "Iteration:  74%|███████▍  | 148/200 [02:00<00:38,  1.34it/s]\u001b[A"
          ]
        },
        {
          "output_type": "stream",
          "name": "stdout",
          "text": [
            "\r0.23142 0.00000"
          ]
        },
        {
          "output_type": "stream",
          "name": "stderr",
          "text": [
            "\n",
            "Iteration:  74%|███████▍  | 149/200 [02:01<00:38,  1.34it/s]\u001b[A"
          ]
        },
        {
          "output_type": "stream",
          "name": "stdout",
          "text": [
            "\r0.09959 0.00000"
          ]
        },
        {
          "output_type": "stream",
          "name": "stderr",
          "text": [
            "\n",
            "Iteration:  75%|███████▌  | 150/200 [02:02<00:37,  1.34it/s]\u001b[A"
          ]
        },
        {
          "output_type": "stream",
          "name": "stdout",
          "text": [
            "\r0.02120 0.00000"
          ]
        },
        {
          "output_type": "stream",
          "name": "stderr",
          "text": [
            "\n",
            "Iteration:  76%|███████▌  | 151/200 [02:03<00:36,  1.34it/s]\u001b[A"
          ]
        },
        {
          "output_type": "stream",
          "name": "stdout",
          "text": [
            "\r0.45691 0.00000"
          ]
        },
        {
          "output_type": "stream",
          "name": "stderr",
          "text": [
            "\n",
            "Iteration:  76%|███████▌  | 152/200 [02:03<00:35,  1.34it/s]\u001b[A"
          ]
        },
        {
          "output_type": "stream",
          "name": "stdout",
          "text": [
            "\r0.83507 0.00000"
          ]
        },
        {
          "output_type": "stream",
          "name": "stderr",
          "text": [
            "\n",
            "Iteration:  76%|███████▋  | 153/200 [02:04<00:35,  1.33it/s]\u001b[A"
          ]
        },
        {
          "output_type": "stream",
          "name": "stdout",
          "text": [
            "\r0.39995 0.00000"
          ]
        },
        {
          "output_type": "stream",
          "name": "stderr",
          "text": [
            "\n",
            "Iteration:  77%|███████▋  | 154/200 [02:05<00:34,  1.34it/s]\u001b[A"
          ]
        },
        {
          "output_type": "stream",
          "name": "stdout",
          "text": [
            "\r0.86975 0.00000"
          ]
        },
        {
          "output_type": "stream",
          "name": "stderr",
          "text": [
            "\n",
            "Iteration:  78%|███████▊  | 155/200 [02:06<00:33,  1.34it/s]\u001b[A"
          ]
        },
        {
          "output_type": "stream",
          "name": "stdout",
          "text": [
            "\r0.66611 0.00000"
          ]
        },
        {
          "output_type": "stream",
          "name": "stderr",
          "text": [
            "\n",
            "Iteration:  78%|███████▊  | 156/200 [02:06<00:32,  1.34it/s]\u001b[A"
          ]
        },
        {
          "output_type": "stream",
          "name": "stdout",
          "text": [
            "\r0.31880 0.00000"
          ]
        },
        {
          "output_type": "stream",
          "name": "stderr",
          "text": [
            "\n",
            "Iteration:  78%|███████▊  | 157/200 [02:07<00:32,  1.34it/s]\u001b[A"
          ]
        },
        {
          "output_type": "stream",
          "name": "stdout",
          "text": [
            "\r0.14594 0.00000"
          ]
        },
        {
          "output_type": "stream",
          "name": "stderr",
          "text": [
            "\n",
            "Iteration:  79%|███████▉  | 158/200 [02:08<00:31,  1.34it/s]\u001b[A"
          ]
        },
        {
          "output_type": "stream",
          "name": "stdout",
          "text": [
            "\r0.04176 0.00000"
          ]
        },
        {
          "output_type": "stream",
          "name": "stderr",
          "text": [
            "\n",
            "Iteration:  80%|███████▉  | 159/200 [02:09<00:30,  1.34it/s]\u001b[A"
          ]
        },
        {
          "output_type": "stream",
          "name": "stdout",
          "text": [
            "\r0.14256 0.00000"
          ]
        },
        {
          "output_type": "stream",
          "name": "stderr",
          "text": [
            "\n",
            "Iteration:  80%|████████  | 160/200 [02:09<00:29,  1.34it/s]\u001b[A"
          ]
        },
        {
          "output_type": "stream",
          "name": "stdout",
          "text": [
            "\r0.03323 0.00000"
          ]
        },
        {
          "output_type": "stream",
          "name": "stderr",
          "text": [
            "\n",
            "Iteration:  80%|████████  | 161/200 [02:10<00:29,  1.34it/s]\u001b[A"
          ]
        },
        {
          "output_type": "stream",
          "name": "stdout",
          "text": [
            "\r0.04448 0.00000"
          ]
        },
        {
          "output_type": "stream",
          "name": "stderr",
          "text": [
            "\n",
            "Iteration:  81%|████████  | 162/200 [02:11<00:28,  1.34it/s]\u001b[A"
          ]
        },
        {
          "output_type": "stream",
          "name": "stdout",
          "text": [
            "\r0.06105 0.00000"
          ]
        },
        {
          "output_type": "stream",
          "name": "stderr",
          "text": [
            "\n",
            "Iteration:  82%|████████▏ | 163/200 [02:12<00:27,  1.34it/s]\u001b[A"
          ]
        },
        {
          "output_type": "stream",
          "name": "stdout",
          "text": [
            "\r0.01289 0.00000"
          ]
        },
        {
          "output_type": "stream",
          "name": "stderr",
          "text": [
            "\n",
            "Iteration:  82%|████████▏ | 164/200 [02:12<00:26,  1.34it/s]\u001b[A"
          ]
        },
        {
          "output_type": "stream",
          "name": "stdout",
          "text": [
            "\r0.19910 0.00000"
          ]
        },
        {
          "output_type": "stream",
          "name": "stderr",
          "text": [
            "\n",
            "Iteration:  82%|████████▎ | 165/200 [02:13<00:26,  1.34it/s]\u001b[A"
          ]
        },
        {
          "output_type": "stream",
          "name": "stdout",
          "text": [
            "\r0.33858 0.00000"
          ]
        },
        {
          "output_type": "stream",
          "name": "stderr",
          "text": [
            "\n",
            "Iteration:  83%|████████▎ | 166/200 [02:14<00:25,  1.34it/s]\u001b[A"
          ]
        },
        {
          "output_type": "stream",
          "name": "stdout",
          "text": [
            "\r0.01806 0.00000"
          ]
        },
        {
          "output_type": "stream",
          "name": "stderr",
          "text": [
            "\n",
            "Iteration:  84%|████████▎ | 167/200 [02:15<00:24,  1.34it/s]\u001b[A"
          ]
        },
        {
          "output_type": "stream",
          "name": "stdout",
          "text": [
            "\r0.01053 0.00000"
          ]
        },
        {
          "output_type": "stream",
          "name": "stderr",
          "text": [
            "\n",
            "Iteration:  84%|████████▍ | 168/200 [02:15<00:23,  1.34it/s]\u001b[A"
          ]
        },
        {
          "output_type": "stream",
          "name": "stdout",
          "text": [
            "\r0.01196 0.00000"
          ]
        },
        {
          "output_type": "stream",
          "name": "stderr",
          "text": [
            "\n",
            "Iteration:  84%|████████▍ | 169/200 [02:16<00:23,  1.34it/s]\u001b[A"
          ]
        },
        {
          "output_type": "stream",
          "name": "stdout",
          "text": [
            "\r0.02364 0.00000"
          ]
        },
        {
          "output_type": "stream",
          "name": "stderr",
          "text": [
            "\n",
            "Iteration:  85%|████████▌ | 170/200 [02:17<00:22,  1.33it/s]\u001b[A"
          ]
        },
        {
          "output_type": "stream",
          "name": "stdout",
          "text": [
            "\r0.30323 0.00000"
          ]
        },
        {
          "output_type": "stream",
          "name": "stderr",
          "text": [
            "\n",
            "Iteration:  86%|████████▌ | 171/200 [02:18<00:21,  1.34it/s]\u001b[A"
          ]
        },
        {
          "output_type": "stream",
          "name": "stdout",
          "text": [
            "\r0.17914 0.00000"
          ]
        },
        {
          "output_type": "stream",
          "name": "stderr",
          "text": [
            "\n",
            "Iteration:  86%|████████▌ | 172/200 [02:18<00:20,  1.33it/s]\u001b[A"
          ]
        },
        {
          "output_type": "stream",
          "name": "stdout",
          "text": [
            "\r0.15227 0.00000"
          ]
        },
        {
          "output_type": "stream",
          "name": "stderr",
          "text": [
            "\n",
            "Iteration:  86%|████████▋ | 173/200 [02:19<00:20,  1.34it/s]\u001b[A"
          ]
        },
        {
          "output_type": "stream",
          "name": "stdout",
          "text": [
            "\r0.26180 0.00000"
          ]
        },
        {
          "output_type": "stream",
          "name": "stderr",
          "text": [
            "\n",
            "Iteration:  87%|████████▋ | 174/200 [02:20<00:19,  1.34it/s]\u001b[A"
          ]
        },
        {
          "output_type": "stream",
          "name": "stdout",
          "text": [
            "\r0.83988 0.00000"
          ]
        },
        {
          "output_type": "stream",
          "name": "stderr",
          "text": [
            "\n",
            "Iteration:  88%|████████▊ | 175/200 [02:21<00:18,  1.34it/s]\u001b[A"
          ]
        },
        {
          "output_type": "stream",
          "name": "stdout",
          "text": [
            "\r0.33417 0.00000"
          ]
        },
        {
          "output_type": "stream",
          "name": "stderr",
          "text": [
            "\n",
            "Iteration:  88%|████████▊ | 176/200 [02:21<00:17,  1.34it/s]\u001b[A"
          ]
        },
        {
          "output_type": "stream",
          "name": "stdout",
          "text": [
            "\r0.03553 0.00000"
          ]
        },
        {
          "output_type": "stream",
          "name": "stderr",
          "text": [
            "\n",
            "Iteration:  88%|████████▊ | 177/200 [02:22<00:17,  1.34it/s]\u001b[A"
          ]
        },
        {
          "output_type": "stream",
          "name": "stdout",
          "text": [
            "\r0.04344 0.00000"
          ]
        },
        {
          "output_type": "stream",
          "name": "stderr",
          "text": [
            "\n",
            "Iteration:  89%|████████▉ | 178/200 [02:23<00:16,  1.34it/s]\u001b[A"
          ]
        },
        {
          "output_type": "stream",
          "name": "stdout",
          "text": [
            "\r0.36527 0.00000"
          ]
        },
        {
          "output_type": "stream",
          "name": "stderr",
          "text": [
            "\n",
            "Iteration:  90%|████████▉ | 179/200 [02:24<00:15,  1.34it/s]\u001b[A"
          ]
        },
        {
          "output_type": "stream",
          "name": "stdout",
          "text": [
            "\r0.08321 0.00000"
          ]
        },
        {
          "output_type": "stream",
          "name": "stderr",
          "text": [
            "\n",
            "Iteration:  90%|█████████ | 180/200 [02:24<00:14,  1.34it/s]\u001b[A"
          ]
        },
        {
          "output_type": "stream",
          "name": "stdout",
          "text": [
            "\r0.02948 0.00000"
          ]
        },
        {
          "output_type": "stream",
          "name": "stderr",
          "text": [
            "\n",
            "Iteration:  90%|█████████ | 181/200 [02:25<00:14,  1.34it/s]\u001b[A"
          ]
        },
        {
          "output_type": "stream",
          "name": "stdout",
          "text": [
            "\r0.54560 0.00000"
          ]
        },
        {
          "output_type": "stream",
          "name": "stderr",
          "text": [
            "\n",
            "Iteration:  91%|█████████ | 182/200 [02:26<00:13,  1.34it/s]\u001b[A"
          ]
        },
        {
          "output_type": "stream",
          "name": "stdout",
          "text": [
            "\r0.03000 0.00000"
          ]
        },
        {
          "output_type": "stream",
          "name": "stderr",
          "text": [
            "\n",
            "Iteration:  92%|█████████▏| 183/200 [02:27<00:12,  1.34it/s]\u001b[A"
          ]
        },
        {
          "output_type": "stream",
          "name": "stdout",
          "text": [
            "\r0.22739 0.00000"
          ]
        },
        {
          "output_type": "stream",
          "name": "stderr",
          "text": [
            "\n",
            "Iteration:  92%|█████████▏| 184/200 [02:27<00:11,  1.34it/s]\u001b[A"
          ]
        },
        {
          "output_type": "stream",
          "name": "stdout",
          "text": [
            "\r0.01985 0.00000"
          ]
        },
        {
          "output_type": "stream",
          "name": "stderr",
          "text": [
            "\n",
            "Iteration:  92%|█████████▎| 185/200 [02:28<00:11,  1.33it/s]\u001b[A"
          ]
        },
        {
          "output_type": "stream",
          "name": "stdout",
          "text": [
            "\r0.15555 0.00000"
          ]
        },
        {
          "output_type": "stream",
          "name": "stderr",
          "text": [
            "\n",
            "Iteration:  93%|█████████▎| 186/200 [02:29<00:10,  1.33it/s]\u001b[A"
          ]
        },
        {
          "output_type": "stream",
          "name": "stdout",
          "text": [
            "\r0.04329 0.00000"
          ]
        },
        {
          "output_type": "stream",
          "name": "stderr",
          "text": [
            "\n",
            "Iteration:  94%|█████████▎| 187/200 [02:30<00:09,  1.33it/s]\u001b[A"
          ]
        },
        {
          "output_type": "stream",
          "name": "stdout",
          "text": [
            "\r0.01498 0.00000"
          ]
        },
        {
          "output_type": "stream",
          "name": "stderr",
          "text": [
            "\n",
            "Iteration:  94%|█████████▍| 188/200 [02:30<00:08,  1.34it/s]\u001b[A"
          ]
        },
        {
          "output_type": "stream",
          "name": "stdout",
          "text": [
            "\r0.05368 0.00000"
          ]
        },
        {
          "output_type": "stream",
          "name": "stderr",
          "text": [
            "\n",
            "Iteration:  94%|█████████▍| 189/200 [02:31<00:08,  1.33it/s]\u001b[A"
          ]
        },
        {
          "output_type": "stream",
          "name": "stdout",
          "text": [
            "\r0.02432 0.00000"
          ]
        },
        {
          "output_type": "stream",
          "name": "stderr",
          "text": [
            "\n",
            "Iteration:  95%|█████████▌| 190/200 [02:32<00:07,  1.33it/s]\u001b[A"
          ]
        },
        {
          "output_type": "stream",
          "name": "stdout",
          "text": [
            "\r0.97245 0.00000"
          ]
        },
        {
          "output_type": "stream",
          "name": "stderr",
          "text": [
            "\n",
            "Iteration:  96%|█████████▌| 191/200 [02:33<00:06,  1.34it/s]\u001b[A"
          ]
        },
        {
          "output_type": "stream",
          "name": "stdout",
          "text": [
            "\r0.00835 0.00000"
          ]
        },
        {
          "output_type": "stream",
          "name": "stderr",
          "text": [
            "\n",
            "Iteration:  96%|█████████▌| 192/200 [02:33<00:05,  1.34it/s]\u001b[A"
          ]
        },
        {
          "output_type": "stream",
          "name": "stdout",
          "text": [
            "\r0.33552 0.00000"
          ]
        },
        {
          "output_type": "stream",
          "name": "stderr",
          "text": [
            "\n",
            "Iteration:  96%|█████████▋| 193/200 [02:34<00:05,  1.34it/s]\u001b[A"
          ]
        },
        {
          "output_type": "stream",
          "name": "stdout",
          "text": [
            "\r0.39468 0.00000"
          ]
        },
        {
          "output_type": "stream",
          "name": "stderr",
          "text": [
            "\n",
            "Iteration:  97%|█████████▋| 194/200 [02:35<00:04,  1.34it/s]\u001b[A"
          ]
        },
        {
          "output_type": "stream",
          "name": "stdout",
          "text": [
            "\r0.29968 0.00000"
          ]
        },
        {
          "output_type": "stream",
          "name": "stderr",
          "text": [
            "\n",
            "Iteration:  98%|█████████▊| 195/200 [02:36<00:03,  1.35it/s]\u001b[A"
          ]
        },
        {
          "output_type": "stream",
          "name": "stdout",
          "text": [
            "\r0.00379 0.00000"
          ]
        },
        {
          "output_type": "stream",
          "name": "stderr",
          "text": [
            "\n",
            "Iteration:  98%|█████████▊| 196/200 [02:36<00:02,  1.34it/s]\u001b[A"
          ]
        },
        {
          "output_type": "stream",
          "name": "stdout",
          "text": [
            "\r0.73479 0.00000"
          ]
        },
        {
          "output_type": "stream",
          "name": "stderr",
          "text": [
            "\n",
            "Iteration:  98%|█████████▊| 197/200 [02:37<00:02,  1.34it/s]\u001b[A"
          ]
        },
        {
          "output_type": "stream",
          "name": "stdout",
          "text": [
            "\r0.58226 0.00000"
          ]
        },
        {
          "output_type": "stream",
          "name": "stderr",
          "text": [
            "\n",
            "Iteration:  99%|█████████▉| 198/200 [02:38<00:01,  1.34it/s]\u001b[A"
          ]
        },
        {
          "output_type": "stream",
          "name": "stdout",
          "text": [
            "\r0.30727 0.00000"
          ]
        },
        {
          "output_type": "stream",
          "name": "stderr",
          "text": [
            "\n",
            "Iteration: 100%|█████████▉| 199/200 [02:39<00:00,  1.34it/s]\u001b[A"
          ]
        },
        {
          "output_type": "stream",
          "name": "stdout",
          "text": [
            "\r0.02752 0.00000"
          ]
        },
        {
          "output_type": "stream",
          "name": "stderr",
          "text": [
            "INFO:root:Creating features from dataset file at ./drive/MyDrive/tvd5455/VvsNV/common_data/\n",
            "INFO:root:Saving features into cached file ./drive/MyDrive/tvd5455/VvsNV/Relations/processed_data/cached_dev_roberta-large_128_both\n",
            "INFO:root:***** Running evaluation  *****\n",
            "INFO:root:  Num examples = 800\n",
            "INFO:root:  Batch size = 128\n"
          ]
        },
        {
          "output_type": "stream",
          "name": "stdout",
          "text": [
            "0.18684 0.00000"
          ]
        },
        {
          "output_type": "stream",
          "name": "stderr",
          "text": [
            "INFO:root:***** Eval results  *****\n",
            "INFO:root:  f1 = 0.5619834710743802\n",
            "INFO:root:  fn = 10\n",
            "INFO:root:  fp = 43\n",
            "INFO:root:  mcc = 0.5533426258245521\n",
            "INFO:root:  rmse = 0.48241472\n",
            "INFO:root:  tn = 713\n",
            "INFO:root:  tp = 34\n"
          ]
        },
        {
          "output_type": "stream",
          "name": "stdout",
          "text": [
            "\r0.85854 0.00000"
          ]
        },
        {
          "output_type": "stream",
          "name": "stderr",
          "text": [
            "/usr/local/lib/python3.7/dist-packages/torch/optim/lr_scheduler.py:247: UserWarning: To get the last learning rate computed by the scheduler, please use `get_last_lr()`.\n",
            "  warnings.warn(\"To get the last learning rate computed by the scheduler, \"\n",
            "INFO:root:Saving model checkpoint to ./drive/MyDrive/tvd5455/VvsNV/Relations/outputs_roberta/checkpoint-200\n",
            "\n",
            "Iteration: 100%|██████████| 200/200 [02:55<00:00,  1.14it/s]\n",
            "Epoch:  25%|██▌       | 1/4 [02:55<08:45, 175.31s/it]INFO:root:\n",
            "\n",
            "\n",
            "\n",
            "Iteration:   0%|          | 0/200 [00:00<?, ?it/s]\u001b[A"
          ]
        },
        {
          "output_type": "stream",
          "name": "stdout",
          "text": [
            "\r0.01668 0.00000"
          ]
        },
        {
          "output_type": "stream",
          "name": "stderr",
          "text": [
            "\n",
            "Iteration:   0%|          | 1/200 [00:00<02:30,  1.32it/s]\u001b[A"
          ]
        },
        {
          "output_type": "stream",
          "name": "stdout",
          "text": [
            "\r0.21093 0.00000"
          ]
        },
        {
          "output_type": "stream",
          "name": "stderr",
          "text": [
            "\n",
            "Iteration:   1%|          | 2/200 [00:01<02:28,  1.34it/s]\u001b[A"
          ]
        },
        {
          "output_type": "stream",
          "name": "stdout",
          "text": [
            "\r0.06835 0.00000"
          ]
        },
        {
          "output_type": "stream",
          "name": "stderr",
          "text": [
            "\n",
            "Iteration:   2%|▏         | 3/200 [00:02<02:27,  1.34it/s]\u001b[A"
          ]
        },
        {
          "output_type": "stream",
          "name": "stdout",
          "text": [
            "\r0.52580 0.00000"
          ]
        },
        {
          "output_type": "stream",
          "name": "stderr",
          "text": [
            "\n",
            "Iteration:   2%|▏         | 4/200 [00:02<02:26,  1.34it/s]\u001b[A"
          ]
        },
        {
          "output_type": "stream",
          "name": "stdout",
          "text": [
            "\r0.52472 0.00000"
          ]
        },
        {
          "output_type": "stream",
          "name": "stderr",
          "text": [
            "\n",
            "Iteration:   2%|▎         | 5/200 [00:03<02:25,  1.34it/s]\u001b[A"
          ]
        },
        {
          "output_type": "stream",
          "name": "stdout",
          "text": [
            "\r0.02793 0.00000"
          ]
        },
        {
          "output_type": "stream",
          "name": "stderr",
          "text": [
            "\n",
            "Iteration:   3%|▎         | 6/200 [00:04<02:24,  1.34it/s]\u001b[A"
          ]
        },
        {
          "output_type": "stream",
          "name": "stdout",
          "text": [
            "\r0.02243 0.00000"
          ]
        },
        {
          "output_type": "stream",
          "name": "stderr",
          "text": [
            "\n",
            "Iteration:   4%|▎         | 7/200 [00:05<02:24,  1.34it/s]\u001b[A"
          ]
        },
        {
          "output_type": "stream",
          "name": "stdout",
          "text": [
            "\r0.00589 0.00000"
          ]
        },
        {
          "output_type": "stream",
          "name": "stderr",
          "text": [
            "\n",
            "Iteration:   4%|▍         | 8/200 [00:05<02:22,  1.34it/s]\u001b[A"
          ]
        },
        {
          "output_type": "stream",
          "name": "stdout",
          "text": [
            "\r0.33929 0.00000"
          ]
        },
        {
          "output_type": "stream",
          "name": "stderr",
          "text": [
            "\n",
            "Iteration:   4%|▍         | 9/200 [00:06<02:22,  1.34it/s]\u001b[A"
          ]
        },
        {
          "output_type": "stream",
          "name": "stdout",
          "text": [
            "\r0.00782 0.00000"
          ]
        },
        {
          "output_type": "stream",
          "name": "stderr",
          "text": [
            "\n",
            "Iteration:   5%|▌         | 10/200 [00:07<02:21,  1.35it/s]\u001b[A"
          ]
        },
        {
          "output_type": "stream",
          "name": "stdout",
          "text": [
            "\r0.58204 0.00000"
          ]
        },
        {
          "output_type": "stream",
          "name": "stderr",
          "text": [
            "\n",
            "Iteration:   6%|▌         | 11/200 [00:08<02:20,  1.35it/s]\u001b[A"
          ]
        },
        {
          "output_type": "stream",
          "name": "stdout",
          "text": [
            "\r0.00325 0.00000"
          ]
        },
        {
          "output_type": "stream",
          "name": "stderr",
          "text": [
            "\n",
            "Iteration:   6%|▌         | 12/200 [00:08<02:19,  1.35it/s]\u001b[A"
          ]
        },
        {
          "output_type": "stream",
          "name": "stdout",
          "text": [
            "\r0.41206 0.00000"
          ]
        },
        {
          "output_type": "stream",
          "name": "stderr",
          "text": [
            "\n",
            "Iteration:   6%|▋         | 13/200 [00:09<02:18,  1.35it/s]\u001b[A"
          ]
        },
        {
          "output_type": "stream",
          "name": "stdout",
          "text": [
            "\r0.00670 0.00000"
          ]
        },
        {
          "output_type": "stream",
          "name": "stderr",
          "text": [
            "\n",
            "Iteration:   7%|▋         | 14/200 [00:10<02:19,  1.33it/s]\u001b[A"
          ]
        },
        {
          "output_type": "stream",
          "name": "stdout",
          "text": [
            "\r0.52131 0.00000"
          ]
        },
        {
          "output_type": "stream",
          "name": "stderr",
          "text": [
            "\n",
            "Iteration:   8%|▊         | 15/200 [00:11<02:19,  1.32it/s]\u001b[A"
          ]
        },
        {
          "output_type": "stream",
          "name": "stdout",
          "text": [
            "\r0.34158 0.00000"
          ]
        },
        {
          "output_type": "stream",
          "name": "stderr",
          "text": [
            "\n",
            "Iteration:   8%|▊         | 16/200 [00:11<02:18,  1.33it/s]\u001b[A"
          ]
        },
        {
          "output_type": "stream",
          "name": "stdout",
          "text": [
            "\r0.01373 0.00000"
          ]
        },
        {
          "output_type": "stream",
          "name": "stderr",
          "text": [
            "\n",
            "Iteration:   8%|▊         | 17/200 [00:12<02:17,  1.33it/s]\u001b[A"
          ]
        },
        {
          "output_type": "stream",
          "name": "stdout",
          "text": [
            "\r0.01451 0.00000"
          ]
        },
        {
          "output_type": "stream",
          "name": "stderr",
          "text": [
            "\n",
            "Iteration:   9%|▉         | 18/200 [00:13<02:17,  1.32it/s]\u001b[A"
          ]
        },
        {
          "output_type": "stream",
          "name": "stdout",
          "text": [
            "\r0.31039 0.00000"
          ]
        },
        {
          "output_type": "stream",
          "name": "stderr",
          "text": [
            "\n",
            "Iteration:  10%|▉         | 19/200 [00:14<02:16,  1.32it/s]\u001b[A"
          ]
        },
        {
          "output_type": "stream",
          "name": "stdout",
          "text": [
            "\r0.17697 0.00000"
          ]
        },
        {
          "output_type": "stream",
          "name": "stderr",
          "text": [
            "\n",
            "Iteration:  10%|█         | 20/200 [00:14<02:15,  1.33it/s]\u001b[A"
          ]
        },
        {
          "output_type": "stream",
          "name": "stdout",
          "text": [
            "\r0.40542 0.00000"
          ]
        },
        {
          "output_type": "stream",
          "name": "stderr",
          "text": [
            "\n",
            "Iteration:  10%|█         | 21/200 [00:15<02:14,  1.33it/s]\u001b[A"
          ]
        },
        {
          "output_type": "stream",
          "name": "stdout",
          "text": [
            "\r0.24763 0.00000"
          ]
        },
        {
          "output_type": "stream",
          "name": "stderr",
          "text": [
            "\n",
            "Iteration:  11%|█         | 22/200 [00:16<02:13,  1.33it/s]\u001b[A"
          ]
        },
        {
          "output_type": "stream",
          "name": "stdout",
          "text": [
            "\r0.32488 0.00000"
          ]
        },
        {
          "output_type": "stream",
          "name": "stderr",
          "text": [
            "\n",
            "Iteration:  12%|█▏        | 23/200 [00:17<02:12,  1.33it/s]\u001b[A"
          ]
        },
        {
          "output_type": "stream",
          "name": "stdout",
          "text": [
            "\r0.37547 0.00000"
          ]
        },
        {
          "output_type": "stream",
          "name": "stderr",
          "text": [
            "\n",
            "Iteration:  12%|█▏        | 24/200 [00:17<02:11,  1.33it/s]\u001b[A"
          ]
        },
        {
          "output_type": "stream",
          "name": "stdout",
          "text": [
            "\r0.04603 0.00000"
          ]
        },
        {
          "output_type": "stream",
          "name": "stderr",
          "text": [
            "\n",
            "Iteration:  12%|█▎        | 25/200 [00:18<02:11,  1.33it/s]\u001b[A"
          ]
        },
        {
          "output_type": "stream",
          "name": "stdout",
          "text": [
            "\r0.14016 0.00000"
          ]
        },
        {
          "output_type": "stream",
          "name": "stderr",
          "text": [
            "\n",
            "Iteration:  13%|█▎        | 26/200 [00:19<02:10,  1.34it/s]\u001b[A"
          ]
        },
        {
          "output_type": "stream",
          "name": "stdout",
          "text": [
            "\r0.17850 0.00000"
          ]
        },
        {
          "output_type": "stream",
          "name": "stderr",
          "text": [
            "\n",
            "Iteration:  14%|█▎        | 27/200 [00:20<02:09,  1.34it/s]\u001b[A"
          ]
        },
        {
          "output_type": "stream",
          "name": "stdout",
          "text": [
            "\r0.09331 0.00000"
          ]
        },
        {
          "output_type": "stream",
          "name": "stderr",
          "text": [
            "\n",
            "Iteration:  14%|█▍        | 28/200 [00:20<02:09,  1.33it/s]\u001b[A"
          ]
        },
        {
          "output_type": "stream",
          "name": "stdout",
          "text": [
            "\r0.26425 0.00000"
          ]
        },
        {
          "output_type": "stream",
          "name": "stderr",
          "text": [
            "\n",
            "Iteration:  14%|█▍        | 29/200 [00:21<02:08,  1.33it/s]\u001b[A"
          ]
        },
        {
          "output_type": "stream",
          "name": "stdout",
          "text": [
            "\r0.15830 0.00000"
          ]
        },
        {
          "output_type": "stream",
          "name": "stderr",
          "text": [
            "\n",
            "Iteration:  15%|█▌        | 30/200 [00:22<02:07,  1.33it/s]\u001b[A"
          ]
        },
        {
          "output_type": "stream",
          "name": "stdout",
          "text": [
            "\r0.23122 0.00000"
          ]
        },
        {
          "output_type": "stream",
          "name": "stderr",
          "text": [
            "\n",
            "Iteration:  16%|█▌        | 31/200 [00:23<02:06,  1.33it/s]\u001b[A"
          ]
        },
        {
          "output_type": "stream",
          "name": "stdout",
          "text": [
            "\r0.14506 0.00000"
          ]
        },
        {
          "output_type": "stream",
          "name": "stderr",
          "text": [
            "\n",
            "Iteration:  16%|█▌        | 32/200 [00:23<02:05,  1.33it/s]\u001b[A"
          ]
        },
        {
          "output_type": "stream",
          "name": "stdout",
          "text": [
            "\r0.12914 0.00000"
          ]
        },
        {
          "output_type": "stream",
          "name": "stderr",
          "text": [
            "\n",
            "Iteration:  16%|█▋        | 33/200 [00:24<02:04,  1.34it/s]\u001b[A"
          ]
        },
        {
          "output_type": "stream",
          "name": "stdout",
          "text": [
            "\r0.03691 0.00000"
          ]
        },
        {
          "output_type": "stream",
          "name": "stderr",
          "text": [
            "\n",
            "Iteration:  17%|█▋        | 34/200 [00:25<02:03,  1.34it/s]\u001b[A"
          ]
        },
        {
          "output_type": "stream",
          "name": "stdout",
          "text": [
            "\r0.14770 0.00000"
          ]
        },
        {
          "output_type": "stream",
          "name": "stderr",
          "text": [
            "\n",
            "Iteration:  18%|█▊        | 35/200 [00:26<02:03,  1.34it/s]\u001b[A"
          ]
        },
        {
          "output_type": "stream",
          "name": "stdout",
          "text": [
            "\r0.02356 0.00000"
          ]
        },
        {
          "output_type": "stream",
          "name": "stderr",
          "text": [
            "\n",
            "Iteration:  18%|█▊        | 36/200 [00:26<02:02,  1.34it/s]\u001b[A"
          ]
        },
        {
          "output_type": "stream",
          "name": "stdout",
          "text": [
            "\r0.21915 0.00000"
          ]
        },
        {
          "output_type": "stream",
          "name": "stderr",
          "text": [
            "\n",
            "Iteration:  18%|█▊        | 37/200 [00:27<02:01,  1.34it/s]\u001b[A"
          ]
        },
        {
          "output_type": "stream",
          "name": "stdout",
          "text": [
            "\r0.31846 0.00000"
          ]
        },
        {
          "output_type": "stream",
          "name": "stderr",
          "text": [
            "\n",
            "Iteration:  19%|█▉        | 38/200 [00:28<02:01,  1.34it/s]\u001b[A"
          ]
        },
        {
          "output_type": "stream",
          "name": "stdout",
          "text": [
            "\r0.02865 0.00000"
          ]
        },
        {
          "output_type": "stream",
          "name": "stderr",
          "text": [
            "\n",
            "Iteration:  20%|█▉        | 39/200 [00:29<02:00,  1.34it/s]\u001b[A"
          ]
        },
        {
          "output_type": "stream",
          "name": "stdout",
          "text": [
            "\r0.02491 0.00000"
          ]
        },
        {
          "output_type": "stream",
          "name": "stderr",
          "text": [
            "\n",
            "Iteration:  20%|██        | 40/200 [00:29<01:59,  1.34it/s]\u001b[A"
          ]
        },
        {
          "output_type": "stream",
          "name": "stdout",
          "text": [
            "\r0.34826 0.00000"
          ]
        },
        {
          "output_type": "stream",
          "name": "stderr",
          "text": [
            "\n",
            "Iteration:  20%|██        | 41/200 [00:30<01:58,  1.34it/s]\u001b[A"
          ]
        },
        {
          "output_type": "stream",
          "name": "stdout",
          "text": [
            "\r0.22634 0.00000"
          ]
        },
        {
          "output_type": "stream",
          "name": "stderr",
          "text": [
            "\n",
            "Iteration:  21%|██        | 42/200 [00:31<01:57,  1.34it/s]\u001b[A"
          ]
        },
        {
          "output_type": "stream",
          "name": "stdout",
          "text": [
            "\r0.05985 0.00000"
          ]
        },
        {
          "output_type": "stream",
          "name": "stderr",
          "text": [
            "\n",
            "Iteration:  22%|██▏       | 43/200 [00:32<01:56,  1.34it/s]\u001b[A"
          ]
        },
        {
          "output_type": "stream",
          "name": "stdout",
          "text": [
            "\r0.08292 0.00000"
          ]
        },
        {
          "output_type": "stream",
          "name": "stderr",
          "text": [
            "\n",
            "Iteration:  22%|██▏       | 44/200 [00:32<01:56,  1.34it/s]\u001b[A"
          ]
        },
        {
          "output_type": "stream",
          "name": "stdout",
          "text": [
            "\r0.00643 0.00000"
          ]
        },
        {
          "output_type": "stream",
          "name": "stderr",
          "text": [
            "\n",
            "Iteration:  22%|██▎       | 45/200 [00:33<01:55,  1.34it/s]\u001b[A"
          ]
        },
        {
          "output_type": "stream",
          "name": "stdout",
          "text": [
            "\r0.01547 0.00000"
          ]
        },
        {
          "output_type": "stream",
          "name": "stderr",
          "text": [
            "\n",
            "Iteration:  23%|██▎       | 46/200 [00:34<01:55,  1.34it/s]\u001b[A"
          ]
        },
        {
          "output_type": "stream",
          "name": "stdout",
          "text": [
            "\r0.01356 0.00000"
          ]
        },
        {
          "output_type": "stream",
          "name": "stderr",
          "text": [
            "\n",
            "Iteration:  24%|██▎       | 47/200 [00:35<01:54,  1.34it/s]\u001b[A"
          ]
        },
        {
          "output_type": "stream",
          "name": "stdout",
          "text": [
            "\r0.09541 0.00000"
          ]
        },
        {
          "output_type": "stream",
          "name": "stderr",
          "text": [
            "\n",
            "Iteration:  24%|██▍       | 48/200 [00:35<01:53,  1.34it/s]\u001b[A"
          ]
        },
        {
          "output_type": "stream",
          "name": "stdout",
          "text": [
            "\r0.23535 0.00000"
          ]
        },
        {
          "output_type": "stream",
          "name": "stderr",
          "text": [
            "\n",
            "Iteration:  24%|██▍       | 49/200 [00:36<01:52,  1.34it/s]\u001b[A"
          ]
        },
        {
          "output_type": "stream",
          "name": "stdout",
          "text": [
            "\r0.00548 0.00000"
          ]
        },
        {
          "output_type": "stream",
          "name": "stderr",
          "text": [
            "\n",
            "Iteration:  25%|██▌       | 50/200 [00:37<01:52,  1.34it/s]\u001b[A"
          ]
        },
        {
          "output_type": "stream",
          "name": "stdout",
          "text": [
            "\r0.00421 0.00000"
          ]
        },
        {
          "output_type": "stream",
          "name": "stderr",
          "text": [
            "\n",
            "Iteration:  26%|██▌       | 51/200 [00:38<01:50,  1.34it/s]\u001b[A"
          ]
        },
        {
          "output_type": "stream",
          "name": "stdout",
          "text": [
            "\r0.00310 0.00000"
          ]
        },
        {
          "output_type": "stream",
          "name": "stderr",
          "text": [
            "\n",
            "Iteration:  26%|██▌       | 52/200 [00:38<01:50,  1.34it/s]\u001b[A"
          ]
        },
        {
          "output_type": "stream",
          "name": "stdout",
          "text": [
            "\r0.24347 0.00000"
          ]
        },
        {
          "output_type": "stream",
          "name": "stderr",
          "text": [
            "\n",
            "Iteration:  26%|██▋       | 53/200 [00:39<01:49,  1.34it/s]\u001b[A"
          ]
        },
        {
          "output_type": "stream",
          "name": "stdout",
          "text": [
            "\r0.36663 0.00000"
          ]
        },
        {
          "output_type": "stream",
          "name": "stderr",
          "text": [
            "\n",
            "Iteration:  27%|██▋       | 54/200 [00:40<01:48,  1.34it/s]\u001b[A"
          ]
        },
        {
          "output_type": "stream",
          "name": "stdout",
          "text": [
            "\r0.00141 0.00000"
          ]
        },
        {
          "output_type": "stream",
          "name": "stderr",
          "text": [
            "\n",
            "Iteration:  28%|██▊       | 55/200 [00:41<01:47,  1.34it/s]\u001b[A"
          ]
        },
        {
          "output_type": "stream",
          "name": "stdout",
          "text": [
            "\r0.36195 0.00000"
          ]
        },
        {
          "output_type": "stream",
          "name": "stderr",
          "text": [
            "\n",
            "Iteration:  28%|██▊       | 56/200 [00:41<01:47,  1.34it/s]\u001b[A"
          ]
        },
        {
          "output_type": "stream",
          "name": "stdout",
          "text": [
            "\r0.20175 0.00000"
          ]
        },
        {
          "output_type": "stream",
          "name": "stderr",
          "text": [
            "\n",
            "Iteration:  28%|██▊       | 57/200 [00:42<01:46,  1.34it/s]\u001b[A"
          ]
        },
        {
          "output_type": "stream",
          "name": "stdout",
          "text": [
            "\r0.99403 0.00000"
          ]
        },
        {
          "output_type": "stream",
          "name": "stderr",
          "text": [
            "\n",
            "Iteration:  29%|██▉       | 58/200 [00:43<01:46,  1.34it/s]\u001b[A"
          ]
        },
        {
          "output_type": "stream",
          "name": "stdout",
          "text": [
            "\r0.00095 0.00000"
          ]
        },
        {
          "output_type": "stream",
          "name": "stderr",
          "text": [
            "\n",
            "Iteration:  30%|██▉       | 59/200 [00:44<01:44,  1.35it/s]\u001b[A"
          ]
        },
        {
          "output_type": "stream",
          "name": "stdout",
          "text": [
            "\r0.00227 0.00000"
          ]
        },
        {
          "output_type": "stream",
          "name": "stderr",
          "text": [
            "\n",
            "Iteration:  30%|███       | 60/200 [00:44<01:43,  1.35it/s]\u001b[A"
          ]
        },
        {
          "output_type": "stream",
          "name": "stdout",
          "text": [
            "\r0.00185 0.00000"
          ]
        },
        {
          "output_type": "stream",
          "name": "stderr",
          "text": [
            "\n",
            "Iteration:  30%|███       | 61/200 [00:45<01:43,  1.34it/s]\u001b[A"
          ]
        },
        {
          "output_type": "stream",
          "name": "stdout",
          "text": [
            "\r0.33974 0.00000"
          ]
        },
        {
          "output_type": "stream",
          "name": "stderr",
          "text": [
            "\n",
            "Iteration:  31%|███       | 62/200 [00:46<01:42,  1.34it/s]\u001b[A"
          ]
        },
        {
          "output_type": "stream",
          "name": "stdout",
          "text": [
            "\r0.00743 0.00000"
          ]
        },
        {
          "output_type": "stream",
          "name": "stderr",
          "text": [
            "\n",
            "Iteration:  32%|███▏      | 63/200 [00:47<01:42,  1.34it/s]\u001b[A"
          ]
        },
        {
          "output_type": "stream",
          "name": "stdout",
          "text": [
            "\r0.00587 0.00000"
          ]
        },
        {
          "output_type": "stream",
          "name": "stderr",
          "text": [
            "\n",
            "Iteration:  32%|███▏      | 64/200 [00:47<01:41,  1.34it/s]\u001b[A"
          ]
        },
        {
          "output_type": "stream",
          "name": "stdout",
          "text": [
            "\r0.00227 0.00000"
          ]
        },
        {
          "output_type": "stream",
          "name": "stderr",
          "text": [
            "\n",
            "Iteration:  32%|███▎      | 65/200 [00:48<01:40,  1.35it/s]\u001b[A"
          ]
        },
        {
          "output_type": "stream",
          "name": "stdout",
          "text": [
            "\r0.01638 0.00000"
          ]
        },
        {
          "output_type": "stream",
          "name": "stderr",
          "text": [
            "\n",
            "Iteration:  33%|███▎      | 66/200 [00:49<01:39,  1.34it/s]\u001b[A"
          ]
        },
        {
          "output_type": "stream",
          "name": "stdout",
          "text": [
            "\r0.00210 0.00000"
          ]
        },
        {
          "output_type": "stream",
          "name": "stderr",
          "text": [
            "\n",
            "Iteration:  34%|███▎      | 67/200 [00:50<01:38,  1.35it/s]\u001b[A"
          ]
        },
        {
          "output_type": "stream",
          "name": "stdout",
          "text": [
            "\r0.31634 0.00000"
          ]
        },
        {
          "output_type": "stream",
          "name": "stderr",
          "text": [
            "\n",
            "Iteration:  34%|███▍      | 68/200 [00:50<01:38,  1.34it/s]\u001b[A"
          ]
        },
        {
          "output_type": "stream",
          "name": "stdout",
          "text": [
            "\r0.37760 0.00000"
          ]
        },
        {
          "output_type": "stream",
          "name": "stderr",
          "text": [
            "\n",
            "Iteration:  34%|███▍      | 69/200 [00:51<01:37,  1.34it/s]\u001b[A"
          ]
        },
        {
          "output_type": "stream",
          "name": "stdout",
          "text": [
            "\r0.00138 0.00000"
          ]
        },
        {
          "output_type": "stream",
          "name": "stderr",
          "text": [
            "\n",
            "Iteration:  35%|███▌      | 70/200 [00:52<01:36,  1.35it/s]\u001b[A"
          ]
        },
        {
          "output_type": "stream",
          "name": "stdout",
          "text": [
            "\r0.36971 0.00000"
          ]
        },
        {
          "output_type": "stream",
          "name": "stderr",
          "text": [
            "\n",
            "Iteration:  36%|███▌      | 71/200 [00:53<01:36,  1.34it/s]\u001b[A"
          ]
        },
        {
          "output_type": "stream",
          "name": "stdout",
          "text": [
            "\r0.33589 0.00000"
          ]
        },
        {
          "output_type": "stream",
          "name": "stderr",
          "text": [
            "\n",
            "Iteration:  36%|███▌      | 72/200 [00:53<01:35,  1.34it/s]\u001b[A"
          ]
        },
        {
          "output_type": "stream",
          "name": "stdout",
          "text": [
            "\r0.00243 0.00000"
          ]
        },
        {
          "output_type": "stream",
          "name": "stderr",
          "text": [
            "\n",
            "Iteration:  36%|███▋      | 73/200 [00:54<01:34,  1.35it/s]\u001b[A"
          ]
        },
        {
          "output_type": "stream",
          "name": "stdout",
          "text": [
            "\r0.19224 0.00000"
          ]
        },
        {
          "output_type": "stream",
          "name": "stderr",
          "text": [
            "\n",
            "Iteration:  37%|███▋      | 74/200 [00:55<01:33,  1.35it/s]\u001b[A"
          ]
        },
        {
          "output_type": "stream",
          "name": "stdout",
          "text": [
            "\r0.00806 0.00000"
          ]
        },
        {
          "output_type": "stream",
          "name": "stderr",
          "text": [
            "\n",
            "Iteration:  38%|███▊      | 75/200 [00:56<01:33,  1.34it/s]\u001b[A"
          ]
        },
        {
          "output_type": "stream",
          "name": "stdout",
          "text": [
            "\r0.00759 0.00000"
          ]
        },
        {
          "output_type": "stream",
          "name": "stderr",
          "text": [
            "\n",
            "Iteration:  38%|███▊      | 76/200 [00:56<01:32,  1.34it/s]\u001b[A"
          ]
        },
        {
          "output_type": "stream",
          "name": "stdout",
          "text": [
            "\r0.00806 0.00000"
          ]
        },
        {
          "output_type": "stream",
          "name": "stderr",
          "text": [
            "\n",
            "Iteration:  38%|███▊      | 77/200 [00:57<01:31,  1.35it/s]\u001b[A"
          ]
        },
        {
          "output_type": "stream",
          "name": "stdout",
          "text": [
            "\r0.26041 0.00000"
          ]
        },
        {
          "output_type": "stream",
          "name": "stderr",
          "text": [
            "\n",
            "Iteration:  39%|███▉      | 78/200 [00:58<01:30,  1.35it/s]\u001b[A"
          ]
        },
        {
          "output_type": "stream",
          "name": "stdout",
          "text": [
            "\r0.07428 0.00000"
          ]
        },
        {
          "output_type": "stream",
          "name": "stderr",
          "text": [
            "\n",
            "Iteration:  40%|███▉      | 79/200 [00:58<01:29,  1.35it/s]\u001b[A"
          ]
        },
        {
          "output_type": "stream",
          "name": "stdout",
          "text": [
            "\r0.46817 0.00000"
          ]
        },
        {
          "output_type": "stream",
          "name": "stderr",
          "text": [
            "\n",
            "Iteration:  40%|████      | 80/200 [00:59<01:29,  1.35it/s]\u001b[A"
          ]
        },
        {
          "output_type": "stream",
          "name": "stdout",
          "text": [
            "\r0.00906 0.00000"
          ]
        },
        {
          "output_type": "stream",
          "name": "stderr",
          "text": [
            "\n",
            "Iteration:  40%|████      | 81/200 [01:00<01:28,  1.35it/s]\u001b[A"
          ]
        },
        {
          "output_type": "stream",
          "name": "stdout",
          "text": [
            "\r0.21022 0.00000"
          ]
        },
        {
          "output_type": "stream",
          "name": "stderr",
          "text": [
            "\n",
            "Iteration:  41%|████      | 82/200 [01:01<01:27,  1.34it/s]\u001b[A"
          ]
        },
        {
          "output_type": "stream",
          "name": "stdout",
          "text": [
            "\r0.42547 0.00000"
          ]
        },
        {
          "output_type": "stream",
          "name": "stderr",
          "text": [
            "\n",
            "Iteration:  42%|████▏     | 83/200 [01:01<01:27,  1.34it/s]\u001b[A"
          ]
        },
        {
          "output_type": "stream",
          "name": "stdout",
          "text": [
            "\r0.03746 0.00000"
          ]
        },
        {
          "output_type": "stream",
          "name": "stderr",
          "text": [
            "\n",
            "Iteration:  42%|████▏     | 84/200 [01:02<01:26,  1.34it/s]\u001b[A"
          ]
        },
        {
          "output_type": "stream",
          "name": "stdout",
          "text": [
            "\r0.01514 0.00000"
          ]
        },
        {
          "output_type": "stream",
          "name": "stderr",
          "text": [
            "\n",
            "Iteration:  42%|████▎     | 85/200 [01:03<01:25,  1.34it/s]\u001b[A"
          ]
        },
        {
          "output_type": "stream",
          "name": "stdout",
          "text": [
            "\r0.04147 0.00000"
          ]
        },
        {
          "output_type": "stream",
          "name": "stderr",
          "text": [
            "\n",
            "Iteration:  43%|████▎     | 86/200 [01:04<01:24,  1.34it/s]\u001b[A"
          ]
        },
        {
          "output_type": "stream",
          "name": "stdout",
          "text": [
            "\r0.04134 0.00000"
          ]
        },
        {
          "output_type": "stream",
          "name": "stderr",
          "text": [
            "\n",
            "Iteration:  44%|████▎     | 87/200 [01:04<01:24,  1.34it/s]\u001b[A"
          ]
        },
        {
          "output_type": "stream",
          "name": "stdout",
          "text": [
            "\r0.02245 0.00000"
          ]
        },
        {
          "output_type": "stream",
          "name": "stderr",
          "text": [
            "\n",
            "Iteration:  44%|████▍     | 88/200 [01:05<01:23,  1.34it/s]\u001b[A"
          ]
        },
        {
          "output_type": "stream",
          "name": "stdout",
          "text": [
            "\r0.01000 0.00000"
          ]
        },
        {
          "output_type": "stream",
          "name": "stderr",
          "text": [
            "\n",
            "Iteration:  44%|████▍     | 89/200 [01:06<01:22,  1.34it/s]\u001b[A"
          ]
        },
        {
          "output_type": "stream",
          "name": "stdout",
          "text": [
            "\r0.00433 0.00000"
          ]
        },
        {
          "output_type": "stream",
          "name": "stderr",
          "text": [
            "\n",
            "Iteration:  45%|████▌     | 90/200 [01:07<01:21,  1.35it/s]\u001b[A"
          ]
        },
        {
          "output_type": "stream",
          "name": "stdout",
          "text": [
            "\r0.00715 0.00000"
          ]
        },
        {
          "output_type": "stream",
          "name": "stderr",
          "text": [
            "\n",
            "Iteration:  46%|████▌     | 91/200 [01:07<01:20,  1.35it/s]\u001b[A"
          ]
        },
        {
          "output_type": "stream",
          "name": "stdout",
          "text": [
            "\r0.01451 0.00000"
          ]
        },
        {
          "output_type": "stream",
          "name": "stderr",
          "text": [
            "\n",
            "Iteration:  46%|████▌     | 92/200 [01:08<01:20,  1.35it/s]\u001b[A"
          ]
        },
        {
          "output_type": "stream",
          "name": "stdout",
          "text": [
            "\r0.56157 0.00000"
          ]
        },
        {
          "output_type": "stream",
          "name": "stderr",
          "text": [
            "\n",
            "Iteration:  46%|████▋     | 93/200 [01:09<01:19,  1.34it/s]\u001b[A"
          ]
        },
        {
          "output_type": "stream",
          "name": "stdout",
          "text": [
            "\r0.00308 0.00000"
          ]
        },
        {
          "output_type": "stream",
          "name": "stderr",
          "text": [
            "\n",
            "Iteration:  47%|████▋     | 94/200 [01:10<01:19,  1.34it/s]\u001b[A"
          ]
        },
        {
          "output_type": "stream",
          "name": "stdout",
          "text": [
            "\r0.00280 0.00000"
          ]
        },
        {
          "output_type": "stream",
          "name": "stderr",
          "text": [
            "\n",
            "Iteration:  48%|████▊     | 95/200 [01:10<01:18,  1.35it/s]\u001b[A"
          ]
        },
        {
          "output_type": "stream",
          "name": "stdout",
          "text": [
            "\r0.00366 0.00000"
          ]
        },
        {
          "output_type": "stream",
          "name": "stderr",
          "text": [
            "\n",
            "Iteration:  48%|████▊     | 96/200 [01:11<01:17,  1.35it/s]\u001b[A"
          ]
        },
        {
          "output_type": "stream",
          "name": "stdout",
          "text": [
            "\r0.35165 0.00000"
          ]
        },
        {
          "output_type": "stream",
          "name": "stderr",
          "text": [
            "\n",
            "Iteration:  48%|████▊     | 97/200 [01:12<01:16,  1.35it/s]\u001b[A"
          ]
        },
        {
          "output_type": "stream",
          "name": "stdout",
          "text": [
            "\r0.00103 0.00000"
          ]
        },
        {
          "output_type": "stream",
          "name": "stderr",
          "text": [
            "\n",
            "Iteration:  49%|████▉     | 98/200 [01:13<01:15,  1.35it/s]\u001b[A"
          ]
        },
        {
          "output_type": "stream",
          "name": "stdout",
          "text": [
            "\r0.00105 0.00000"
          ]
        },
        {
          "output_type": "stream",
          "name": "stderr",
          "text": [
            "\n",
            "Iteration:  50%|████▉     | 99/200 [01:13<01:14,  1.35it/s]\u001b[A"
          ]
        },
        {
          "output_type": "stream",
          "name": "stdout",
          "text": [
            "\r0.00289 0.00000"
          ]
        },
        {
          "output_type": "stream",
          "name": "stderr",
          "text": [
            "INFO:root:Creating features from dataset file at ./drive/MyDrive/tvd5455/VvsNV/common_data/\n",
            "INFO:root:Saving features into cached file ./drive/MyDrive/tvd5455/VvsNV/Relations/processed_data/cached_dev_roberta-large_128_both\n",
            "INFO:root:***** Running evaluation  *****\n",
            "INFO:root:  Num examples = 800\n",
            "INFO:root:  Batch size = 128\n"
          ]
        },
        {
          "output_type": "stream",
          "name": "stdout",
          "text": [
            "0.36436 0.00000"
          ]
        },
        {
          "output_type": "stream",
          "name": "stderr",
          "text": [
            "INFO:root:***** Eval results  *****\n",
            "INFO:root:  f1 = 0.5954198473282443\n",
            "INFO:root:  fn = 5\n",
            "INFO:root:  fp = 48\n",
            "INFO:root:  mcc = 0.6025802650375716\n",
            "INFO:root:  rmse = 0.49824527\n",
            "INFO:root:  tn = 708\n",
            "INFO:root:  tp = 39\n",
            "/usr/local/lib/python3.7/dist-packages/torch/optim/lr_scheduler.py:247: UserWarning: To get the last learning rate computed by the scheduler, please use `get_last_lr()`.\n",
            "  warnings.warn(\"To get the last learning rate computed by the scheduler, \"\n",
            "\n",
            "Iteration:  50%|█████     | 100/200 [01:24<06:18,  3.79s/it]\u001b[A"
          ]
        },
        {
          "output_type": "stream",
          "name": "stdout",
          "text": [
            "0.04934 0.00000"
          ]
        },
        {
          "output_type": "stream",
          "name": "stderr",
          "text": [
            "\n",
            "Iteration:  50%|█████     | 101/200 [01:25<04:44,  2.88s/it]\u001b[A"
          ]
        },
        {
          "output_type": "stream",
          "name": "stdout",
          "text": [
            "\r0.24373 0.00000"
          ]
        },
        {
          "output_type": "stream",
          "name": "stderr",
          "text": [
            "\n",
            "Iteration:  51%|█████     | 102/200 [01:26<03:39,  2.24s/it]\u001b[A"
          ]
        },
        {
          "output_type": "stream",
          "name": "stdout",
          "text": [
            "\r0.00078 0.00000"
          ]
        },
        {
          "output_type": "stream",
          "name": "stderr",
          "text": [
            "\n",
            "Iteration:  52%|█████▏    | 103/200 [01:26<02:53,  1.79s/it]\u001b[A"
          ]
        },
        {
          "output_type": "stream",
          "name": "stdout",
          "text": [
            "\r0.76485 0.00000"
          ]
        },
        {
          "output_type": "stream",
          "name": "stderr",
          "text": [
            "\n",
            "Iteration:  52%|█████▏    | 104/200 [01:27<02:21,  1.47s/it]\u001b[A"
          ]
        },
        {
          "output_type": "stream",
          "name": "stdout",
          "text": [
            "\r0.00057 0.00000"
          ]
        },
        {
          "output_type": "stream",
          "name": "stderr",
          "text": [
            "\n",
            "Iteration:  52%|█████▎    | 105/200 [01:28<01:59,  1.25s/it]\u001b[A"
          ]
        },
        {
          "output_type": "stream",
          "name": "stdout",
          "text": [
            "\r0.00132 0.00000"
          ]
        },
        {
          "output_type": "stream",
          "name": "stderr",
          "text": [
            "\n",
            "Iteration:  53%|█████▎    | 106/200 [01:29<01:43,  1.10s/it]\u001b[A"
          ]
        },
        {
          "output_type": "stream",
          "name": "stdout",
          "text": [
            "\r0.40668 0.00000"
          ]
        },
        {
          "output_type": "stream",
          "name": "stderr",
          "text": [
            "\n",
            "Iteration:  54%|█████▎    | 107/200 [01:29<01:32,  1.01it/s]\u001b[A"
          ]
        },
        {
          "output_type": "stream",
          "name": "stdout",
          "text": [
            "\r0.00118 0.00000"
          ]
        },
        {
          "output_type": "stream",
          "name": "stderr",
          "text": [
            "\n",
            "Iteration:  54%|█████▍    | 108/200 [01:30<01:24,  1.09it/s]\u001b[A"
          ]
        },
        {
          "output_type": "stream",
          "name": "stdout",
          "text": [
            "\r0.00095 0.00000"
          ]
        },
        {
          "output_type": "stream",
          "name": "stderr",
          "text": [
            "\n",
            "Iteration:  55%|█████▍    | 109/200 [01:31<01:18,  1.16it/s]\u001b[A"
          ]
        },
        {
          "output_type": "stream",
          "name": "stdout",
          "text": [
            "\r0.39764 0.00000"
          ]
        },
        {
          "output_type": "stream",
          "name": "stderr",
          "text": [
            "\n",
            "Iteration:  55%|█████▌    | 110/200 [01:32<01:14,  1.21it/s]\u001b[A"
          ]
        },
        {
          "output_type": "stream",
          "name": "stdout",
          "text": [
            "\r0.26532 0.00000"
          ]
        },
        {
          "output_type": "stream",
          "name": "stderr",
          "text": [
            "\n",
            "Iteration:  56%|█████▌    | 111/200 [01:32<01:11,  1.25it/s]\u001b[A"
          ]
        },
        {
          "output_type": "stream",
          "name": "stdout",
          "text": [
            "\r0.33472 0.00000"
          ]
        },
        {
          "output_type": "stream",
          "name": "stderr",
          "text": [
            "\n",
            "Iteration:  56%|█████▌    | 112/200 [01:33<01:09,  1.27it/s]\u001b[A"
          ]
        },
        {
          "output_type": "stream",
          "name": "stdout",
          "text": [
            "\r0.34748 0.00000"
          ]
        },
        {
          "output_type": "stream",
          "name": "stderr",
          "text": [
            "\n",
            "Iteration:  56%|█████▋    | 113/200 [01:34<01:07,  1.29it/s]\u001b[A"
          ]
        },
        {
          "output_type": "stream",
          "name": "stdout",
          "text": [
            "\r0.61274 0.00000"
          ]
        },
        {
          "output_type": "stream",
          "name": "stderr",
          "text": [
            "\n",
            "Iteration:  57%|█████▋    | 114/200 [01:35<01:05,  1.30it/s]\u001b[A"
          ]
        },
        {
          "output_type": "stream",
          "name": "stdout",
          "text": [
            "\r0.17271 0.00000"
          ]
        },
        {
          "output_type": "stream",
          "name": "stderr",
          "text": [
            "\n",
            "Iteration:  57%|█████▊    | 115/200 [01:35<01:04,  1.32it/s]\u001b[A"
          ]
        },
        {
          "output_type": "stream",
          "name": "stdout",
          "text": [
            "\r0.00278 0.00000"
          ]
        },
        {
          "output_type": "stream",
          "name": "stderr",
          "text": [
            "\n",
            "Iteration:  58%|█████▊    | 116/200 [01:36<01:03,  1.32it/s]\u001b[A"
          ]
        },
        {
          "output_type": "stream",
          "name": "stdout",
          "text": [
            "\r0.00632 0.00000"
          ]
        },
        {
          "output_type": "stream",
          "name": "stderr",
          "text": [
            "\n",
            "Iteration:  58%|█████▊    | 117/200 [01:37<01:02,  1.33it/s]\u001b[A"
          ]
        },
        {
          "output_type": "stream",
          "name": "stdout",
          "text": [
            "\r0.00900 0.00000"
          ]
        },
        {
          "output_type": "stream",
          "name": "stderr",
          "text": [
            "\n",
            "Iteration:  59%|█████▉    | 118/200 [01:38<01:01,  1.33it/s]\u001b[A"
          ]
        },
        {
          "output_type": "stream",
          "name": "stdout",
          "text": [
            "\r0.15499 0.00000"
          ]
        },
        {
          "output_type": "stream",
          "name": "stderr",
          "text": [
            "\n",
            "Iteration:  60%|█████▉    | 119/200 [01:38<01:00,  1.33it/s]\u001b[A"
          ]
        },
        {
          "output_type": "stream",
          "name": "stdout",
          "text": [
            "\r0.01620 0.00000"
          ]
        },
        {
          "output_type": "stream",
          "name": "stderr",
          "text": [
            "\n",
            "Iteration:  60%|██████    | 120/200 [01:39<01:00,  1.33it/s]\u001b[A"
          ]
        },
        {
          "output_type": "stream",
          "name": "stdout",
          "text": [
            "\r0.00524 0.00000"
          ]
        },
        {
          "output_type": "stream",
          "name": "stderr",
          "text": [
            "\n",
            "Iteration:  60%|██████    | 121/200 [01:40<00:59,  1.34it/s]\u001b[A"
          ]
        },
        {
          "output_type": "stream",
          "name": "stdout",
          "text": [
            "\r0.16469 0.00000"
          ]
        },
        {
          "output_type": "stream",
          "name": "stderr",
          "text": [
            "\n",
            "Iteration:  61%|██████    | 122/200 [01:41<00:58,  1.34it/s]\u001b[A"
          ]
        },
        {
          "output_type": "stream",
          "name": "stdout",
          "text": [
            "\r0.13319 0.00000"
          ]
        },
        {
          "output_type": "stream",
          "name": "stderr",
          "text": [
            "\n",
            "Iteration:  62%|██████▏   | 123/200 [01:41<00:57,  1.34it/s]\u001b[A"
          ]
        },
        {
          "output_type": "stream",
          "name": "stdout",
          "text": [
            "\r0.33080 0.00000"
          ]
        },
        {
          "output_type": "stream",
          "name": "stderr",
          "text": [
            "\n",
            "Iteration:  62%|██████▏   | 124/200 [01:42<00:56,  1.34it/s]\u001b[A"
          ]
        },
        {
          "output_type": "stream",
          "name": "stdout",
          "text": [
            "\r0.00444 0.00000"
          ]
        },
        {
          "output_type": "stream",
          "name": "stderr",
          "text": [
            "\n",
            "Iteration:  62%|██████▎   | 125/200 [01:43<00:56,  1.34it/s]\u001b[A"
          ]
        },
        {
          "output_type": "stream",
          "name": "stdout",
          "text": [
            "\r0.01304 0.00000"
          ]
        },
        {
          "output_type": "stream",
          "name": "stderr",
          "text": [
            "\n",
            "Iteration:  63%|██████▎   | 126/200 [01:44<00:55,  1.34it/s]\u001b[A"
          ]
        },
        {
          "output_type": "stream",
          "name": "stdout",
          "text": [
            "\r0.01082 0.00000"
          ]
        },
        {
          "output_type": "stream",
          "name": "stderr",
          "text": [
            "\n",
            "Iteration:  64%|██████▎   | 127/200 [01:44<00:54,  1.34it/s]\u001b[A"
          ]
        },
        {
          "output_type": "stream",
          "name": "stdout",
          "text": [
            "\r0.07910 0.00000"
          ]
        },
        {
          "output_type": "stream",
          "name": "stderr",
          "text": [
            "\n",
            "Iteration:  64%|██████▍   | 128/200 [01:45<00:53,  1.34it/s]\u001b[A"
          ]
        },
        {
          "output_type": "stream",
          "name": "stdout",
          "text": [
            "\r0.01180 0.00000"
          ]
        },
        {
          "output_type": "stream",
          "name": "stderr",
          "text": [
            "\n",
            "Iteration:  64%|██████▍   | 129/200 [01:46<00:52,  1.34it/s]\u001b[A"
          ]
        },
        {
          "output_type": "stream",
          "name": "stdout",
          "text": [
            "\r0.00290 0.00000"
          ]
        },
        {
          "output_type": "stream",
          "name": "stderr",
          "text": [
            "\n",
            "Iteration:  65%|██████▌   | 130/200 [01:47<00:52,  1.34it/s]\u001b[A"
          ]
        },
        {
          "output_type": "stream",
          "name": "stdout",
          "text": [
            "\r0.00396 0.00000"
          ]
        },
        {
          "output_type": "stream",
          "name": "stderr",
          "text": [
            "\n",
            "Iteration:  66%|██████▌   | 131/200 [01:47<00:51,  1.35it/s]\u001b[A"
          ]
        },
        {
          "output_type": "stream",
          "name": "stdout",
          "text": [
            "\r0.00446 0.00000"
          ]
        },
        {
          "output_type": "stream",
          "name": "stderr",
          "text": [
            "\n",
            "Iteration:  66%|██████▌   | 132/200 [01:48<00:50,  1.35it/s]\u001b[A"
          ]
        },
        {
          "output_type": "stream",
          "name": "stdout",
          "text": [
            "\r0.00211 0.00000"
          ]
        },
        {
          "output_type": "stream",
          "name": "stderr",
          "text": [
            "\n",
            "Iteration:  66%|██████▋   | 133/200 [01:49<00:49,  1.35it/s]\u001b[A"
          ]
        },
        {
          "output_type": "stream",
          "name": "stdout",
          "text": [
            "\r0.33651 0.00000"
          ]
        },
        {
          "output_type": "stream",
          "name": "stderr",
          "text": [
            "\n",
            "Iteration:  67%|██████▋   | 134/200 [01:50<00:49,  1.34it/s]\u001b[A"
          ]
        },
        {
          "output_type": "stream",
          "name": "stdout",
          "text": [
            "\r0.00187 0.00000"
          ]
        },
        {
          "output_type": "stream",
          "name": "stderr",
          "text": [
            "\n",
            "Iteration:  68%|██████▊   | 135/200 [01:50<00:48,  1.35it/s]\u001b[A"
          ]
        },
        {
          "output_type": "stream",
          "name": "stdout",
          "text": [
            "\r0.00201 0.00000"
          ]
        },
        {
          "output_type": "stream",
          "name": "stderr",
          "text": [
            "\n",
            "Iteration:  68%|██████▊   | 136/200 [01:51<00:47,  1.35it/s]\u001b[A"
          ]
        },
        {
          "output_type": "stream",
          "name": "stdout",
          "text": [
            "\r0.18095 0.00000"
          ]
        },
        {
          "output_type": "stream",
          "name": "stderr",
          "text": [
            "\n",
            "Iteration:  68%|██████▊   | 137/200 [01:52<00:46,  1.35it/s]\u001b[A"
          ]
        },
        {
          "output_type": "stream",
          "name": "stdout",
          "text": [
            "\r0.33722 0.00000"
          ]
        },
        {
          "output_type": "stream",
          "name": "stderr",
          "text": [
            "\n",
            "Iteration:  69%|██████▉   | 138/200 [01:53<00:46,  1.34it/s]\u001b[A"
          ]
        },
        {
          "output_type": "stream",
          "name": "stdout",
          "text": [
            "\r0.09431 0.00000"
          ]
        },
        {
          "output_type": "stream",
          "name": "stderr",
          "text": [
            "\n",
            "Iteration:  70%|██████▉   | 139/200 [01:53<00:45,  1.34it/s]\u001b[A"
          ]
        },
        {
          "output_type": "stream",
          "name": "stdout",
          "text": [
            "\r0.00226 0.00000"
          ]
        },
        {
          "output_type": "stream",
          "name": "stderr",
          "text": [
            "\n",
            "Iteration:  70%|███████   | 140/200 [01:54<00:44,  1.35it/s]\u001b[A"
          ]
        },
        {
          "output_type": "stream",
          "name": "stdout",
          "text": [
            "\r0.00466 0.00000"
          ]
        },
        {
          "output_type": "stream",
          "name": "stderr",
          "text": [
            "\n",
            "Iteration:  70%|███████   | 141/200 [01:55<00:43,  1.35it/s]\u001b[A"
          ]
        },
        {
          "output_type": "stream",
          "name": "stdout",
          "text": [
            "\r0.00482 0.00000"
          ]
        },
        {
          "output_type": "stream",
          "name": "stderr",
          "text": [
            "\n",
            "Iteration:  71%|███████   | 142/200 [01:55<00:42,  1.35it/s]\u001b[A"
          ]
        },
        {
          "output_type": "stream",
          "name": "stdout",
          "text": [
            "\r0.00230 0.00000"
          ]
        },
        {
          "output_type": "stream",
          "name": "stderr",
          "text": [
            "\n",
            "Iteration:  72%|███████▏  | 143/200 [01:56<00:42,  1.35it/s]\u001b[A"
          ]
        },
        {
          "output_type": "stream",
          "name": "stdout",
          "text": [
            "\r0.00216 0.00000"
          ]
        },
        {
          "output_type": "stream",
          "name": "stderr",
          "text": [
            "\n",
            "Iteration:  72%|███████▏  | 144/200 [01:57<00:41,  1.35it/s]\u001b[A"
          ]
        },
        {
          "output_type": "stream",
          "name": "stdout",
          "text": [
            "\r0.00370 0.00000"
          ]
        },
        {
          "output_type": "stream",
          "name": "stderr",
          "text": [
            "\n",
            "Iteration:  72%|███████▎  | 145/200 [01:58<00:40,  1.36it/s]\u001b[A"
          ]
        },
        {
          "output_type": "stream",
          "name": "stdout",
          "text": [
            "\r0.00234 0.00000"
          ]
        },
        {
          "output_type": "stream",
          "name": "stderr",
          "text": [
            "\n",
            "Iteration:  73%|███████▎  | 146/200 [01:58<00:39,  1.36it/s]\u001b[A"
          ]
        },
        {
          "output_type": "stream",
          "name": "stdout",
          "text": [
            "\r0.00139 0.00000"
          ]
        },
        {
          "output_type": "stream",
          "name": "stderr",
          "text": [
            "\n",
            "Iteration:  74%|███████▎  | 147/200 [01:59<00:39,  1.36it/s]\u001b[A"
          ]
        },
        {
          "output_type": "stream",
          "name": "stdout",
          "text": [
            "\r0.00248 0.00000"
          ]
        },
        {
          "output_type": "stream",
          "name": "stderr",
          "text": [
            "\n",
            "Iteration:  74%|███████▍  | 148/200 [02:00<00:38,  1.36it/s]\u001b[A"
          ]
        },
        {
          "output_type": "stream",
          "name": "stdout",
          "text": [
            "\r0.00213 0.00000"
          ]
        },
        {
          "output_type": "stream",
          "name": "stderr",
          "text": [
            "\n",
            "Iteration:  74%|███████▍  | 149/200 [02:01<00:37,  1.35it/s]\u001b[A"
          ]
        },
        {
          "output_type": "stream",
          "name": "stdout",
          "text": [
            "\r0.00142 0.00000"
          ]
        },
        {
          "output_type": "stream",
          "name": "stderr",
          "text": [
            "\n",
            "Iteration:  75%|███████▌  | 150/200 [02:01<00:36,  1.36it/s]\u001b[A"
          ]
        },
        {
          "output_type": "stream",
          "name": "stdout",
          "text": [
            "\r0.06731 0.00000"
          ]
        },
        {
          "output_type": "stream",
          "name": "stderr",
          "text": [
            "\n",
            "Iteration:  76%|███████▌  | 151/200 [02:02<00:36,  1.35it/s]\u001b[A"
          ]
        },
        {
          "output_type": "stream",
          "name": "stdout",
          "text": [
            "\r0.00091 0.00000"
          ]
        },
        {
          "output_type": "stream",
          "name": "stderr",
          "text": [
            "\n",
            "Iteration:  76%|███████▌  | 152/200 [02:03<00:35,  1.35it/s]\u001b[A"
          ]
        },
        {
          "output_type": "stream",
          "name": "stdout",
          "text": [
            "\r0.09432 0.00000"
          ]
        },
        {
          "output_type": "stream",
          "name": "stderr",
          "text": [
            "\n",
            "Iteration:  76%|███████▋  | 153/200 [02:04<00:34,  1.35it/s]\u001b[A"
          ]
        },
        {
          "output_type": "stream",
          "name": "stdout",
          "text": [
            "\r0.00123 0.00000"
          ]
        },
        {
          "output_type": "stream",
          "name": "stderr",
          "text": [
            "\n",
            "Iteration:  77%|███████▋  | 154/200 [02:04<00:34,  1.35it/s]\u001b[A"
          ]
        },
        {
          "output_type": "stream",
          "name": "stdout",
          "text": [
            "\r0.00102 0.00000"
          ]
        },
        {
          "output_type": "stream",
          "name": "stderr",
          "text": [
            "\n",
            "Iteration:  78%|███████▊  | 155/200 [02:05<00:33,  1.35it/s]\u001b[A"
          ]
        },
        {
          "output_type": "stream",
          "name": "stdout",
          "text": [
            "\r0.27668 0.00000"
          ]
        },
        {
          "output_type": "stream",
          "name": "stderr",
          "text": [
            "\n",
            "Iteration:  78%|███████▊  | 156/200 [02:06<00:32,  1.35it/s]\u001b[A"
          ]
        },
        {
          "output_type": "stream",
          "name": "stdout",
          "text": [
            "\r0.36383 0.00000"
          ]
        },
        {
          "output_type": "stream",
          "name": "stderr",
          "text": [
            "\n",
            "Iteration:  78%|███████▊  | 157/200 [02:07<00:31,  1.35it/s]\u001b[A"
          ]
        },
        {
          "output_type": "stream",
          "name": "stdout",
          "text": [
            "\r0.00161 0.00000"
          ]
        },
        {
          "output_type": "stream",
          "name": "stderr",
          "text": [
            "\n",
            "Iteration:  79%|███████▉  | 158/200 [02:07<00:31,  1.35it/s]\u001b[A"
          ]
        },
        {
          "output_type": "stream",
          "name": "stdout",
          "text": [
            "\r0.00129 0.00000"
          ]
        },
        {
          "output_type": "stream",
          "name": "stderr",
          "text": [
            "\n",
            "Iteration:  80%|███████▉  | 159/200 [02:08<00:30,  1.35it/s]\u001b[A"
          ]
        },
        {
          "output_type": "stream",
          "name": "stdout",
          "text": [
            "\r0.00209 0.00000"
          ]
        },
        {
          "output_type": "stream",
          "name": "stderr",
          "text": [
            "\n",
            "Iteration:  80%|████████  | 160/200 [02:09<00:29,  1.35it/s]\u001b[A"
          ]
        },
        {
          "output_type": "stream",
          "name": "stdout",
          "text": [
            "\r0.00127 0.00000"
          ]
        },
        {
          "output_type": "stream",
          "name": "stderr",
          "text": [
            "\n",
            "Iteration:  80%|████████  | 161/200 [02:10<00:28,  1.35it/s]\u001b[A"
          ]
        },
        {
          "output_type": "stream",
          "name": "stdout",
          "text": [
            "\r0.37776 0.00000"
          ]
        },
        {
          "output_type": "stream",
          "name": "stderr",
          "text": [
            "\n",
            "Iteration:  81%|████████  | 162/200 [02:10<00:28,  1.35it/s]\u001b[A"
          ]
        },
        {
          "output_type": "stream",
          "name": "stdout",
          "text": [
            "\r0.05379 0.00000"
          ]
        },
        {
          "output_type": "stream",
          "name": "stderr",
          "text": [
            "\n",
            "Iteration:  82%|████████▏ | 163/200 [02:11<00:27,  1.35it/s]\u001b[A"
          ]
        },
        {
          "output_type": "stream",
          "name": "stdout",
          "text": [
            "\r0.44533 0.00000"
          ]
        },
        {
          "output_type": "stream",
          "name": "stderr",
          "text": [
            "\n",
            "Iteration:  82%|████████▏ | 164/200 [02:12<00:26,  1.35it/s]\u001b[A"
          ]
        },
        {
          "output_type": "stream",
          "name": "stdout",
          "text": [
            "\r0.39053 0.00000"
          ]
        },
        {
          "output_type": "stream",
          "name": "stderr",
          "text": [
            "\n",
            "Iteration:  82%|████████▎ | 165/200 [02:13<00:25,  1.35it/s]\u001b[A"
          ]
        },
        {
          "output_type": "stream",
          "name": "stdout",
          "text": [
            "\r0.34194 0.00000"
          ]
        },
        {
          "output_type": "stream",
          "name": "stderr",
          "text": [
            "\n",
            "Iteration:  83%|████████▎ | 166/200 [02:13<00:25,  1.35it/s]\u001b[A"
          ]
        },
        {
          "output_type": "stream",
          "name": "stdout",
          "text": [
            "\r0.27095 0.00000"
          ]
        },
        {
          "output_type": "stream",
          "name": "stderr",
          "text": [
            "\n",
            "Iteration:  84%|████████▎ | 167/200 [02:14<00:24,  1.35it/s]\u001b[A"
          ]
        },
        {
          "output_type": "stream",
          "name": "stdout",
          "text": [
            "\r0.00385 0.00000"
          ]
        },
        {
          "output_type": "stream",
          "name": "stderr",
          "text": [
            "\n",
            "Iteration:  84%|████████▍ | 168/200 [02:15<00:23,  1.35it/s]\u001b[A"
          ]
        },
        {
          "output_type": "stream",
          "name": "stdout",
          "text": [
            "\r0.00194 0.00000"
          ]
        },
        {
          "output_type": "stream",
          "name": "stderr",
          "text": [
            "\n",
            "Iteration:  84%|████████▍ | 169/200 [02:15<00:22,  1.35it/s]\u001b[A"
          ]
        },
        {
          "output_type": "stream",
          "name": "stdout",
          "text": [
            "\r0.34342 0.00000"
          ]
        },
        {
          "output_type": "stream",
          "name": "stderr",
          "text": [
            "\n",
            "Iteration:  85%|████████▌ | 170/200 [02:16<00:22,  1.35it/s]\u001b[A"
          ]
        },
        {
          "output_type": "stream",
          "name": "stdout",
          "text": [
            "\r0.18224 0.00000"
          ]
        },
        {
          "output_type": "stream",
          "name": "stderr",
          "text": [
            "\n",
            "Iteration:  86%|████████▌ | 171/200 [02:17<00:21,  1.35it/s]\u001b[A"
          ]
        },
        {
          "output_type": "stream",
          "name": "stdout",
          "text": [
            "\r0.21827 0.00000"
          ]
        },
        {
          "output_type": "stream",
          "name": "stderr",
          "text": [
            "\n",
            "Iteration:  86%|████████▌ | 172/200 [02:18<00:20,  1.34it/s]\u001b[A"
          ]
        },
        {
          "output_type": "stream",
          "name": "stdout",
          "text": [
            "\r0.32539 0.00000"
          ]
        },
        {
          "output_type": "stream",
          "name": "stderr",
          "text": [
            "\n",
            "Iteration:  86%|████████▋ | 173/200 [02:18<00:20,  1.34it/s]\u001b[A"
          ]
        },
        {
          "output_type": "stream",
          "name": "stdout",
          "text": [
            "\r0.00284 0.00000"
          ]
        },
        {
          "output_type": "stream",
          "name": "stderr",
          "text": [
            "\n",
            "Iteration:  87%|████████▋ | 174/200 [02:19<00:19,  1.34it/s]\u001b[A"
          ]
        },
        {
          "output_type": "stream",
          "name": "stdout",
          "text": [
            "\r0.07750 0.00000"
          ]
        },
        {
          "output_type": "stream",
          "name": "stderr",
          "text": [
            "\n",
            "Iteration:  88%|████████▊ | 175/200 [02:20<00:18,  1.34it/s]\u001b[A"
          ]
        },
        {
          "output_type": "stream",
          "name": "stdout",
          "text": [
            "\r0.00967 0.00000"
          ]
        },
        {
          "output_type": "stream",
          "name": "stderr",
          "text": [
            "\n",
            "Iteration:  88%|████████▊ | 176/200 [02:21<00:17,  1.35it/s]\u001b[A"
          ]
        },
        {
          "output_type": "stream",
          "name": "stdout",
          "text": [
            "\r0.05583 0.00000"
          ]
        },
        {
          "output_type": "stream",
          "name": "stderr",
          "text": [
            "\n",
            "Iteration:  88%|████████▊ | 177/200 [02:21<00:17,  1.35it/s]\u001b[A"
          ]
        },
        {
          "output_type": "stream",
          "name": "stdout",
          "text": [
            "\r0.00226 0.00000"
          ]
        },
        {
          "output_type": "stream",
          "name": "stderr",
          "text": [
            "\n",
            "Iteration:  89%|████████▉ | 178/200 [02:22<00:16,  1.35it/s]\u001b[A"
          ]
        },
        {
          "output_type": "stream",
          "name": "stdout",
          "text": [
            "\r0.02821 0.00000"
          ]
        },
        {
          "output_type": "stream",
          "name": "stderr",
          "text": [
            "\n",
            "Iteration:  90%|████████▉ | 179/200 [02:23<00:15,  1.35it/s]\u001b[A"
          ]
        },
        {
          "output_type": "stream",
          "name": "stdout",
          "text": [
            "\r0.08693 0.00000"
          ]
        },
        {
          "output_type": "stream",
          "name": "stderr",
          "text": [
            "\n",
            "Iteration:  90%|█████████ | 180/200 [02:24<00:14,  1.35it/s]\u001b[A"
          ]
        },
        {
          "output_type": "stream",
          "name": "stdout",
          "text": [
            "\r0.00198 0.00000"
          ]
        },
        {
          "output_type": "stream",
          "name": "stderr",
          "text": [
            "\n",
            "Iteration:  90%|█████████ | 181/200 [02:24<00:14,  1.35it/s]\u001b[A"
          ]
        },
        {
          "output_type": "stream",
          "name": "stdout",
          "text": [
            "\r0.00078 0.00000"
          ]
        },
        {
          "output_type": "stream",
          "name": "stderr",
          "text": [
            "\n",
            "Iteration:  91%|█████████ | 182/200 [02:25<00:13,  1.35it/s]\u001b[A"
          ]
        },
        {
          "output_type": "stream",
          "name": "stdout",
          "text": [
            "\r0.38510 0.00000"
          ]
        },
        {
          "output_type": "stream",
          "name": "stderr",
          "text": [
            "\n",
            "Iteration:  92%|█████████▏| 183/200 [02:26<00:12,  1.34it/s]\u001b[A"
          ]
        },
        {
          "output_type": "stream",
          "name": "stdout",
          "text": [
            "\r0.00086 0.00000"
          ]
        },
        {
          "output_type": "stream",
          "name": "stderr",
          "text": [
            "\n",
            "Iteration:  92%|█████████▏| 184/200 [02:27<00:11,  1.35it/s]\u001b[A"
          ]
        },
        {
          "output_type": "stream",
          "name": "stdout",
          "text": [
            "\r0.00121 0.00000"
          ]
        },
        {
          "output_type": "stream",
          "name": "stderr",
          "text": [
            "\n",
            "Iteration:  92%|█████████▎| 185/200 [02:27<00:11,  1.35it/s]\u001b[A"
          ]
        },
        {
          "output_type": "stream",
          "name": "stdout",
          "text": [
            "\r0.00101 0.00000"
          ]
        },
        {
          "output_type": "stream",
          "name": "stderr",
          "text": [
            "\n",
            "Iteration:  93%|█████████▎| 186/200 [02:28<00:10,  1.35it/s]\u001b[A"
          ]
        },
        {
          "output_type": "stream",
          "name": "stdout",
          "text": [
            "\r0.00133 0.00000"
          ]
        },
        {
          "output_type": "stream",
          "name": "stderr",
          "text": [
            "\n",
            "Iteration:  94%|█████████▎| 187/200 [02:29<00:09,  1.35it/s]\u001b[A"
          ]
        },
        {
          "output_type": "stream",
          "name": "stdout",
          "text": [
            "\r0.00104 0.00000"
          ]
        },
        {
          "output_type": "stream",
          "name": "stderr",
          "text": [
            "\n",
            "Iteration:  94%|█████████▍| 188/200 [02:30<00:08,  1.35it/s]\u001b[A"
          ]
        },
        {
          "output_type": "stream",
          "name": "stdout",
          "text": [
            "\r0.00481 0.00000"
          ]
        },
        {
          "output_type": "stream",
          "name": "stderr",
          "text": [
            "\n",
            "Iteration:  94%|█████████▍| 189/200 [02:30<00:08,  1.35it/s]\u001b[A"
          ]
        },
        {
          "output_type": "stream",
          "name": "stdout",
          "text": [
            "\r0.00100 0.00000"
          ]
        },
        {
          "output_type": "stream",
          "name": "stderr",
          "text": [
            "\n",
            "Iteration:  95%|█████████▌| 190/200 [02:31<00:07,  1.35it/s]\u001b[A"
          ]
        },
        {
          "output_type": "stream",
          "name": "stdout",
          "text": [
            "\r0.17786 0.00000"
          ]
        },
        {
          "output_type": "stream",
          "name": "stderr",
          "text": [
            "\n",
            "Iteration:  96%|█████████▌| 191/200 [02:32<00:06,  1.35it/s]\u001b[A"
          ]
        },
        {
          "output_type": "stream",
          "name": "stdout",
          "text": [
            "\r0.03418 0.00000"
          ]
        },
        {
          "output_type": "stream",
          "name": "stderr",
          "text": [
            "\n",
            "Iteration:  96%|█████████▌| 192/200 [02:33<00:05,  1.35it/s]\u001b[A"
          ]
        },
        {
          "output_type": "stream",
          "name": "stdout",
          "text": [
            "\r0.00119 0.00000"
          ]
        },
        {
          "output_type": "stream",
          "name": "stderr",
          "text": [
            "\n",
            "Iteration:  96%|█████████▋| 193/200 [02:33<00:05,  1.35it/s]\u001b[A"
          ]
        },
        {
          "output_type": "stream",
          "name": "stdout",
          "text": [
            "\r0.31589 0.00000"
          ]
        },
        {
          "output_type": "stream",
          "name": "stderr",
          "text": [
            "\n",
            "Iteration:  97%|█████████▋| 194/200 [02:34<00:04,  1.35it/s]\u001b[A"
          ]
        },
        {
          "output_type": "stream",
          "name": "stdout",
          "text": [
            "\r0.00103 0.00000"
          ]
        },
        {
          "output_type": "stream",
          "name": "stderr",
          "text": [
            "\n",
            "Iteration:  98%|█████████▊| 195/200 [02:35<00:03,  1.35it/s]\u001b[A"
          ]
        },
        {
          "output_type": "stream",
          "name": "stdout",
          "text": [
            "\r0.00143 0.00000"
          ]
        },
        {
          "output_type": "stream",
          "name": "stderr",
          "text": [
            "\n",
            "Iteration:  98%|█████████▊| 196/200 [02:36<00:02,  1.35it/s]\u001b[A"
          ]
        },
        {
          "output_type": "stream",
          "name": "stdout",
          "text": [
            "\r0.16384 0.00000"
          ]
        },
        {
          "output_type": "stream",
          "name": "stderr",
          "text": [
            "\n",
            "Iteration:  98%|█████████▊| 197/200 [02:36<00:02,  1.35it/s]\u001b[A"
          ]
        },
        {
          "output_type": "stream",
          "name": "stdout",
          "text": [
            "\r0.00230 0.00000"
          ]
        },
        {
          "output_type": "stream",
          "name": "stderr",
          "text": [
            "\n",
            "Iteration:  99%|█████████▉| 198/200 [02:37<00:01,  1.35it/s]\u001b[A"
          ]
        },
        {
          "output_type": "stream",
          "name": "stdout",
          "text": [
            "\r0.00229 0.00000"
          ]
        },
        {
          "output_type": "stream",
          "name": "stderr",
          "text": [
            "\n",
            "Iteration: 100%|█████████▉| 199/200 [02:38<00:00,  1.35it/s]\u001b[A"
          ]
        },
        {
          "output_type": "stream",
          "name": "stdout",
          "text": [
            "\r0.00126 0.00000"
          ]
        },
        {
          "output_type": "stream",
          "name": "stderr",
          "text": [
            "INFO:root:Creating features from dataset file at ./drive/MyDrive/tvd5455/VvsNV/common_data/\n",
            "INFO:root:Saving features into cached file ./drive/MyDrive/tvd5455/VvsNV/Relations/processed_data/cached_dev_roberta-large_128_both\n",
            "INFO:root:***** Running evaluation  *****\n",
            "INFO:root:  Num examples = 800\n",
            "INFO:root:  Batch size = 128\n"
          ]
        },
        {
          "output_type": "stream",
          "name": "stdout",
          "text": [
            "0.32917 0.00000"
          ]
        },
        {
          "output_type": "stream",
          "name": "stderr",
          "text": [
            "INFO:root:***** Eval results  *****\n",
            "INFO:root:  f1 = 0.49523809523809526\n",
            "INFO:root:  fn = 18\n",
            "INFO:root:  fp = 35\n",
            "INFO:root:  mcc = 0.4678298615151711\n",
            "INFO:root:  rmse = 0.44667408\n",
            "INFO:root:  tn = 721\n",
            "INFO:root:  tp = 26\n"
          ]
        },
        {
          "output_type": "stream",
          "name": "stdout",
          "text": [
            "\r0.96448 0.00000"
          ]
        },
        {
          "output_type": "stream",
          "name": "stderr",
          "text": [
            "/usr/local/lib/python3.7/dist-packages/torch/optim/lr_scheduler.py:247: UserWarning: To get the last learning rate computed by the scheduler, please use `get_last_lr()`.\n",
            "  warnings.warn(\"To get the last learning rate computed by the scheduler, \"\n",
            "INFO:root:Saving model checkpoint to ./drive/MyDrive/tvd5455/VvsNV/Relations/outputs_roberta/checkpoint-400\n",
            "\n",
            "Iteration: 100%|██████████| 200/200 [02:54<00:00,  1.15it/s]\n",
            "Epoch:  50%|█████     | 2/4 [05:49<05:49, 174.92s/it]INFO:root:\n",
            "\n",
            "\n",
            "\n",
            "Iteration:   0%|          | 0/200 [00:00<?, ?it/s]\u001b[A"
          ]
        },
        {
          "output_type": "stream",
          "name": "stdout",
          "text": [
            "\r0.00129 0.00000"
          ]
        },
        {
          "output_type": "stream",
          "name": "stderr",
          "text": [
            "\n",
            "Iteration:   0%|          | 1/200 [00:00<02:29,  1.33it/s]\u001b[A"
          ]
        },
        {
          "output_type": "stream",
          "name": "stdout",
          "text": [
            "\r0.64626 0.00000"
          ]
        },
        {
          "output_type": "stream",
          "name": "stderr",
          "text": [
            "\n",
            "Iteration:   1%|          | 2/200 [00:01<02:28,  1.33it/s]\u001b[A"
          ]
        },
        {
          "output_type": "stream",
          "name": "stdout",
          "text": [
            "\r0.00070 0.00000"
          ]
        },
        {
          "output_type": "stream",
          "name": "stderr",
          "text": [
            "\n",
            "Iteration:   2%|▏         | 3/200 [00:02<02:26,  1.35it/s]\u001b[A"
          ]
        },
        {
          "output_type": "stream",
          "name": "stdout",
          "text": [
            "\r0.00127 0.00000"
          ]
        },
        {
          "output_type": "stream",
          "name": "stderr",
          "text": [
            "\n",
            "Iteration:   2%|▏         | 4/200 [00:02<02:25,  1.35it/s]\u001b[A"
          ]
        },
        {
          "output_type": "stream",
          "name": "stdout",
          "text": [
            "\r0.00198 0.00000"
          ]
        },
        {
          "output_type": "stream",
          "name": "stderr",
          "text": [
            "\n",
            "Iteration:   2%|▎         | 5/200 [00:03<02:24,  1.35it/s]\u001b[A"
          ]
        },
        {
          "output_type": "stream",
          "name": "stdout",
          "text": [
            "\r0.00086 0.00000"
          ]
        },
        {
          "output_type": "stream",
          "name": "stderr",
          "text": [
            "\n",
            "Iteration:   3%|▎         | 6/200 [00:04<02:23,  1.36it/s]\u001b[A"
          ]
        },
        {
          "output_type": "stream",
          "name": "stdout",
          "text": [
            "\r0.00102 0.00000"
          ]
        },
        {
          "output_type": "stream",
          "name": "stderr",
          "text": [
            "\n",
            "Iteration:   4%|▎         | 7/200 [00:05<02:22,  1.35it/s]\u001b[A"
          ]
        },
        {
          "output_type": "stream",
          "name": "stdout",
          "text": [
            "\r0.00143 0.00000"
          ]
        },
        {
          "output_type": "stream",
          "name": "stderr",
          "text": [
            "\n",
            "Iteration:   4%|▍         | 8/200 [00:05<02:22,  1.35it/s]\u001b[A"
          ]
        },
        {
          "output_type": "stream",
          "name": "stdout",
          "text": [
            "\r0.00091 0.00000"
          ]
        },
        {
          "output_type": "stream",
          "name": "stderr",
          "text": [
            "\n",
            "Iteration:   4%|▍         | 9/200 [00:06<02:21,  1.35it/s]\u001b[A"
          ]
        },
        {
          "output_type": "stream",
          "name": "stdout",
          "text": [
            "\r0.00068 0.00000"
          ]
        },
        {
          "output_type": "stream",
          "name": "stderr",
          "text": [
            "\n",
            "Iteration:   5%|▌         | 10/200 [00:07<02:20,  1.35it/s]\u001b[A"
          ]
        },
        {
          "output_type": "stream",
          "name": "stdout",
          "text": [
            "\r0.00059 0.00000"
          ]
        },
        {
          "output_type": "stream",
          "name": "stderr",
          "text": [
            "\n",
            "Iteration:   6%|▌         | 11/200 [00:08<02:19,  1.35it/s]\u001b[A"
          ]
        },
        {
          "output_type": "stream",
          "name": "stdout",
          "text": [
            "\r0.00064 0.00000"
          ]
        },
        {
          "output_type": "stream",
          "name": "stderr",
          "text": [
            "\n",
            "Iteration:   6%|▌         | 12/200 [00:08<02:18,  1.35it/s]\u001b[A"
          ]
        },
        {
          "output_type": "stream",
          "name": "stdout",
          "text": [
            "\r0.00047 0.00000"
          ]
        },
        {
          "output_type": "stream",
          "name": "stderr",
          "text": [
            "\n",
            "Iteration:   6%|▋         | 13/200 [00:09<02:18,  1.35it/s]\u001b[A"
          ]
        },
        {
          "output_type": "stream",
          "name": "stdout",
          "text": [
            "\r0.00057 0.00000"
          ]
        },
        {
          "output_type": "stream",
          "name": "stderr",
          "text": [
            "\n",
            "Iteration:   7%|▋         | 14/200 [00:10<02:17,  1.36it/s]\u001b[A"
          ]
        },
        {
          "output_type": "stream",
          "name": "stdout",
          "text": [
            "\r0.00052 0.00000"
          ]
        },
        {
          "output_type": "stream",
          "name": "stderr",
          "text": [
            "\n",
            "Iteration:   8%|▊         | 15/200 [00:11<02:16,  1.35it/s]\u001b[A"
          ]
        },
        {
          "output_type": "stream",
          "name": "stdout",
          "text": [
            "\r0.00048 0.00000"
          ]
        },
        {
          "output_type": "stream",
          "name": "stderr",
          "text": [
            "\n",
            "Iteration:   8%|▊         | 16/200 [00:11<02:15,  1.35it/s]\u001b[A"
          ]
        },
        {
          "output_type": "stream",
          "name": "stdout",
          "text": [
            "\r0.00036 0.00000"
          ]
        },
        {
          "output_type": "stream",
          "name": "stderr",
          "text": [
            "\n",
            "Iteration:   8%|▊         | 17/200 [00:12<02:15,  1.35it/s]\u001b[A"
          ]
        },
        {
          "output_type": "stream",
          "name": "stdout",
          "text": [
            "\r0.00057 0.00000"
          ]
        },
        {
          "output_type": "stream",
          "name": "stderr",
          "text": [
            "\n",
            "Iteration:   9%|▉         | 18/200 [00:13<02:14,  1.35it/s]\u001b[A"
          ]
        },
        {
          "output_type": "stream",
          "name": "stdout",
          "text": [
            "\r0.00029 0.00000"
          ]
        },
        {
          "output_type": "stream",
          "name": "stderr",
          "text": [
            "\n",
            "Iteration:  10%|▉         | 19/200 [00:14<02:13,  1.35it/s]\u001b[A"
          ]
        },
        {
          "output_type": "stream",
          "name": "stdout",
          "text": [
            "\r0.00068 0.00000"
          ]
        },
        {
          "output_type": "stream",
          "name": "stderr",
          "text": [
            "\n",
            "Iteration:  10%|█         | 20/200 [00:14<02:12,  1.35it/s]\u001b[A"
          ]
        },
        {
          "output_type": "stream",
          "name": "stdout",
          "text": [
            "\r0.00027 0.00000"
          ]
        },
        {
          "output_type": "stream",
          "name": "stderr",
          "text": [
            "\n",
            "Iteration:  10%|█         | 21/200 [00:15<02:11,  1.36it/s]\u001b[A"
          ]
        },
        {
          "output_type": "stream",
          "name": "stdout",
          "text": [
            "\r0.00039 0.00000"
          ]
        },
        {
          "output_type": "stream",
          "name": "stderr",
          "text": [
            "\n",
            "Iteration:  11%|█         | 22/200 [00:16<02:11,  1.35it/s]\u001b[A"
          ]
        },
        {
          "output_type": "stream",
          "name": "stdout",
          "text": [
            "\r0.00039 0.00000"
          ]
        },
        {
          "output_type": "stream",
          "name": "stderr",
          "text": [
            "\n",
            "Iteration:  12%|█▏        | 23/200 [00:17<02:10,  1.35it/s]\u001b[A"
          ]
        },
        {
          "output_type": "stream",
          "name": "stdout",
          "text": [
            "\r0.00037 0.00000"
          ]
        },
        {
          "output_type": "stream",
          "name": "stderr",
          "text": [
            "\n",
            "Iteration:  12%|█▏        | 24/200 [00:17<02:10,  1.35it/s]\u001b[A"
          ]
        },
        {
          "output_type": "stream",
          "name": "stdout",
          "text": [
            "\r0.00067 0.00000"
          ]
        },
        {
          "output_type": "stream",
          "name": "stderr",
          "text": [
            "\n",
            "Iteration:  12%|█▎        | 25/200 [00:18<02:09,  1.35it/s]\u001b[A"
          ]
        },
        {
          "output_type": "stream",
          "name": "stdout",
          "text": [
            "\r0.00033 0.00000"
          ]
        },
        {
          "output_type": "stream",
          "name": "stderr",
          "text": [
            "\n",
            "Iteration:  13%|█▎        | 26/200 [00:19<02:08,  1.35it/s]\u001b[A"
          ]
        },
        {
          "output_type": "stream",
          "name": "stdout",
          "text": [
            "\r0.00033 0.00000"
          ]
        },
        {
          "output_type": "stream",
          "name": "stderr",
          "text": [
            "\n",
            "Iteration:  14%|█▎        | 27/200 [00:19<02:07,  1.35it/s]\u001b[A"
          ]
        },
        {
          "output_type": "stream",
          "name": "stdout",
          "text": [
            "\r0.00028 0.00000"
          ]
        },
        {
          "output_type": "stream",
          "name": "stderr",
          "text": [
            "\n",
            "Iteration:  14%|█▍        | 28/200 [00:20<02:07,  1.35it/s]\u001b[A"
          ]
        },
        {
          "output_type": "stream",
          "name": "stdout",
          "text": [
            "\r0.00027 0.00000"
          ]
        },
        {
          "output_type": "stream",
          "name": "stderr",
          "text": [
            "\n",
            "Iteration:  14%|█▍        | 29/200 [00:21<02:06,  1.35it/s]\u001b[A"
          ]
        },
        {
          "output_type": "stream",
          "name": "stdout",
          "text": [
            "\r0.00028 0.00000"
          ]
        },
        {
          "output_type": "stream",
          "name": "stderr",
          "text": [
            "\n",
            "Iteration:  15%|█▌        | 30/200 [00:22<02:05,  1.35it/s]\u001b[A"
          ]
        },
        {
          "output_type": "stream",
          "name": "stdout",
          "text": [
            "\r0.00025 0.00000"
          ]
        },
        {
          "output_type": "stream",
          "name": "stderr",
          "text": [
            "\n",
            "Iteration:  16%|█▌        | 31/200 [00:22<02:05,  1.35it/s]\u001b[A"
          ]
        },
        {
          "output_type": "stream",
          "name": "stdout",
          "text": [
            "\r0.00019 0.00000"
          ]
        },
        {
          "output_type": "stream",
          "name": "stderr",
          "text": [
            "\n",
            "Iteration:  16%|█▌        | 32/200 [00:23<02:04,  1.35it/s]\u001b[A"
          ]
        },
        {
          "output_type": "stream",
          "name": "stdout",
          "text": [
            "\r0.00031 0.00000"
          ]
        },
        {
          "output_type": "stream",
          "name": "stderr",
          "text": [
            "\n",
            "Iteration:  16%|█▋        | 33/200 [00:24<02:04,  1.35it/s]\u001b[A"
          ]
        },
        {
          "output_type": "stream",
          "name": "stdout",
          "text": [
            "\r0.27589 0.00000"
          ]
        },
        {
          "output_type": "stream",
          "name": "stderr",
          "text": [
            "\n",
            "Iteration:  17%|█▋        | 34/200 [00:25<02:03,  1.34it/s]\u001b[A"
          ]
        },
        {
          "output_type": "stream",
          "name": "stdout",
          "text": [
            "\r0.40563 0.00000"
          ]
        },
        {
          "output_type": "stream",
          "name": "stderr",
          "text": [
            "\n",
            "Iteration:  18%|█▊        | 35/200 [00:25<02:02,  1.34it/s]\u001b[A"
          ]
        },
        {
          "output_type": "stream",
          "name": "stdout",
          "text": [
            "\r0.00022 0.00000"
          ]
        },
        {
          "output_type": "stream",
          "name": "stderr",
          "text": [
            "\n",
            "Iteration:  18%|█▊        | 36/200 [00:26<02:01,  1.35it/s]\u001b[A"
          ]
        },
        {
          "output_type": "stream",
          "name": "stdout",
          "text": [
            "\r0.00028 0.00000"
          ]
        },
        {
          "output_type": "stream",
          "name": "stderr",
          "text": [
            "\n",
            "Iteration:  18%|█▊        | 37/200 [00:27<02:01,  1.35it/s]\u001b[A"
          ]
        },
        {
          "output_type": "stream",
          "name": "stdout",
          "text": [
            "\r0.00027 0.00000"
          ]
        },
        {
          "output_type": "stream",
          "name": "stderr",
          "text": [
            "\n",
            "Iteration:  19%|█▉        | 38/200 [00:28<02:00,  1.34it/s]\u001b[A"
          ]
        },
        {
          "output_type": "stream",
          "name": "stdout",
          "text": [
            "\r0.00049 0.00000"
          ]
        },
        {
          "output_type": "stream",
          "name": "stderr",
          "text": [
            "\n",
            "Iteration:  20%|█▉        | 39/200 [00:28<01:59,  1.35it/s]\u001b[A"
          ]
        },
        {
          "output_type": "stream",
          "name": "stdout",
          "text": [
            "\r0.11626 0.00000"
          ]
        },
        {
          "output_type": "stream",
          "name": "stderr",
          "text": [
            "\n",
            "Iteration:  20%|██        | 40/200 [00:29<01:58,  1.35it/s]\u001b[A"
          ]
        },
        {
          "output_type": "stream",
          "name": "stdout",
          "text": [
            "\r0.00034 0.00000"
          ]
        },
        {
          "output_type": "stream",
          "name": "stderr",
          "text": [
            "\n",
            "Iteration:  20%|██        | 41/200 [00:30<01:57,  1.35it/s]\u001b[A"
          ]
        },
        {
          "output_type": "stream",
          "name": "stdout",
          "text": [
            "\r0.00031 0.00000"
          ]
        },
        {
          "output_type": "stream",
          "name": "stderr",
          "text": [
            "\n",
            "Iteration:  21%|██        | 42/200 [00:31<01:56,  1.35it/s]\u001b[A"
          ]
        },
        {
          "output_type": "stream",
          "name": "stdout",
          "text": [
            "\r0.00056 0.00000"
          ]
        },
        {
          "output_type": "stream",
          "name": "stderr",
          "text": [
            "\n",
            "Iteration:  22%|██▏       | 43/200 [00:31<01:55,  1.35it/s]\u001b[A"
          ]
        },
        {
          "output_type": "stream",
          "name": "stdout",
          "text": [
            "\r0.00045 0.00000"
          ]
        },
        {
          "output_type": "stream",
          "name": "stderr",
          "text": [
            "\n",
            "Iteration:  22%|██▏       | 44/200 [00:32<01:55,  1.35it/s]\u001b[A"
          ]
        },
        {
          "output_type": "stream",
          "name": "stdout",
          "text": [
            "\r0.00098 0.00000"
          ]
        },
        {
          "output_type": "stream",
          "name": "stderr",
          "text": [
            "\n",
            "Iteration:  22%|██▎       | 45/200 [00:33<01:54,  1.36it/s]\u001b[A"
          ]
        },
        {
          "output_type": "stream",
          "name": "stdout",
          "text": [
            "\r0.00256 0.00000"
          ]
        },
        {
          "output_type": "stream",
          "name": "stderr",
          "text": [
            "\n",
            "Iteration:  23%|██▎       | 46/200 [00:34<01:53,  1.35it/s]\u001b[A"
          ]
        },
        {
          "output_type": "stream",
          "name": "stdout",
          "text": [
            "\r0.52541 0.00000"
          ]
        },
        {
          "output_type": "stream",
          "name": "stderr",
          "text": [
            "\n",
            "Iteration:  24%|██▎       | 47/200 [00:34<01:53,  1.35it/s]\u001b[A"
          ]
        },
        {
          "output_type": "stream",
          "name": "stdout",
          "text": [
            "\r0.00056 0.00000"
          ]
        },
        {
          "output_type": "stream",
          "name": "stderr",
          "text": [
            "\n",
            "Iteration:  24%|██▍       | 48/200 [00:35<01:52,  1.35it/s]\u001b[A"
          ]
        },
        {
          "output_type": "stream",
          "name": "stdout",
          "text": [
            "\r0.00063 0.00000"
          ]
        },
        {
          "output_type": "stream",
          "name": "stderr",
          "text": [
            "\n",
            "Iteration:  24%|██▍       | 49/200 [00:36<01:51,  1.36it/s]\u001b[A"
          ]
        },
        {
          "output_type": "stream",
          "name": "stdout",
          "text": [
            "\r0.00017 0.00000"
          ]
        },
        {
          "output_type": "stream",
          "name": "stderr",
          "text": [
            "\n",
            "Iteration:  25%|██▌       | 50/200 [00:36<01:50,  1.36it/s]\u001b[A"
          ]
        },
        {
          "output_type": "stream",
          "name": "stdout",
          "text": [
            "\r0.00022 0.00000"
          ]
        },
        {
          "output_type": "stream",
          "name": "stderr",
          "text": [
            "\n",
            "Iteration:  26%|██▌       | 51/200 [00:37<01:49,  1.36it/s]\u001b[A"
          ]
        },
        {
          "output_type": "stream",
          "name": "stdout",
          "text": [
            "\r0.51186 0.00000"
          ]
        },
        {
          "output_type": "stream",
          "name": "stderr",
          "text": [
            "\n",
            "Iteration:  26%|██▌       | 52/200 [00:38<01:50,  1.34it/s]\u001b[A"
          ]
        },
        {
          "output_type": "stream",
          "name": "stdout",
          "text": [
            "\r0.00020 0.00000"
          ]
        },
        {
          "output_type": "stream",
          "name": "stderr",
          "text": [
            "\n",
            "Iteration:  26%|██▋       | 53/200 [00:39<01:48,  1.35it/s]\u001b[A"
          ]
        },
        {
          "output_type": "stream",
          "name": "stdout",
          "text": [
            "\r0.00022 0.00000"
          ]
        },
        {
          "output_type": "stream",
          "name": "stderr",
          "text": [
            "\n",
            "Iteration:  27%|██▋       | 54/200 [00:39<01:48,  1.35it/s]\u001b[A"
          ]
        },
        {
          "output_type": "stream",
          "name": "stdout",
          "text": [
            "\r0.00018 0.00000"
          ]
        },
        {
          "output_type": "stream",
          "name": "stderr",
          "text": [
            "\n",
            "Iteration:  28%|██▊       | 55/200 [00:40<01:47,  1.35it/s]\u001b[A"
          ]
        },
        {
          "output_type": "stream",
          "name": "stdout",
          "text": [
            "\r0.00020 0.00000"
          ]
        },
        {
          "output_type": "stream",
          "name": "stderr",
          "text": [
            "\n",
            "Iteration:  28%|██▊       | 56/200 [00:41<01:47,  1.34it/s]\u001b[A"
          ]
        },
        {
          "output_type": "stream",
          "name": "stdout",
          "text": [
            "\r0.38548 0.00000"
          ]
        },
        {
          "output_type": "stream",
          "name": "stderr",
          "text": [
            "\n",
            "Iteration:  28%|██▊       | 57/200 [00:42<01:46,  1.34it/s]\u001b[A"
          ]
        },
        {
          "output_type": "stream",
          "name": "stdout",
          "text": [
            "\r0.00026 0.00000"
          ]
        },
        {
          "output_type": "stream",
          "name": "stderr",
          "text": [
            "\n",
            "Iteration:  29%|██▉       | 58/200 [00:42<01:45,  1.34it/s]\u001b[A"
          ]
        },
        {
          "output_type": "stream",
          "name": "stdout",
          "text": [
            "\r0.00025 0.00000"
          ]
        },
        {
          "output_type": "stream",
          "name": "stderr",
          "text": [
            "\n",
            "Iteration:  30%|██▉       | 59/200 [00:43<01:44,  1.35it/s]\u001b[A"
          ]
        },
        {
          "output_type": "stream",
          "name": "stdout",
          "text": [
            "\r0.33160 0.00000"
          ]
        },
        {
          "output_type": "stream",
          "name": "stderr",
          "text": [
            "\n",
            "Iteration:  30%|███       | 60/200 [00:44<01:45,  1.33it/s]\u001b[A"
          ]
        },
        {
          "output_type": "stream",
          "name": "stdout",
          "text": [
            "\r0.00023 0.00000"
          ]
        },
        {
          "output_type": "stream",
          "name": "stderr",
          "text": [
            "\n",
            "Iteration:  30%|███       | 61/200 [00:45<01:43,  1.34it/s]\u001b[A"
          ]
        },
        {
          "output_type": "stream",
          "name": "stdout",
          "text": [
            "\r0.00032 0.00000"
          ]
        },
        {
          "output_type": "stream",
          "name": "stderr",
          "text": [
            "\n",
            "Iteration:  31%|███       | 62/200 [00:45<01:43,  1.34it/s]\u001b[A"
          ]
        },
        {
          "output_type": "stream",
          "name": "stdout",
          "text": [
            "\r0.00031 0.00000"
          ]
        },
        {
          "output_type": "stream",
          "name": "stderr",
          "text": [
            "\n",
            "Iteration:  32%|███▏      | 63/200 [00:46<01:41,  1.34it/s]\u001b[A"
          ]
        },
        {
          "output_type": "stream",
          "name": "stdout",
          "text": [
            "\r0.00036 0.00000"
          ]
        },
        {
          "output_type": "stream",
          "name": "stderr",
          "text": [
            "\n",
            "Iteration:  32%|███▏      | 64/200 [00:47<01:40,  1.35it/s]\u001b[A"
          ]
        },
        {
          "output_type": "stream",
          "name": "stdout",
          "text": [
            "\r0.00066 0.00000"
          ]
        },
        {
          "output_type": "stream",
          "name": "stderr",
          "text": [
            "\n",
            "Iteration:  32%|███▎      | 65/200 [00:48<01:40,  1.35it/s]\u001b[A"
          ]
        },
        {
          "output_type": "stream",
          "name": "stdout",
          "text": [
            "\r0.00040 0.00000"
          ]
        },
        {
          "output_type": "stream",
          "name": "stderr",
          "text": [
            "\n",
            "Iteration:  33%|███▎      | 66/200 [00:48<01:39,  1.35it/s]\u001b[A"
          ]
        },
        {
          "output_type": "stream",
          "name": "stdout",
          "text": [
            "\r0.00039 0.00000"
          ]
        },
        {
          "output_type": "stream",
          "name": "stderr",
          "text": [
            "\n",
            "Iteration:  34%|███▎      | 67/200 [00:49<01:39,  1.34it/s]\u001b[A"
          ]
        },
        {
          "output_type": "stream",
          "name": "stdout",
          "text": [
            "\r0.00030 0.00000"
          ]
        },
        {
          "output_type": "stream",
          "name": "stderr",
          "text": [
            "\n",
            "Iteration:  34%|███▍      | 68/200 [00:50<01:38,  1.34it/s]\u001b[A"
          ]
        },
        {
          "output_type": "stream",
          "name": "stdout",
          "text": [
            "\r0.00044 0.00000"
          ]
        },
        {
          "output_type": "stream",
          "name": "stderr",
          "text": [
            "\n",
            "Iteration:  34%|███▍      | 69/200 [00:51<01:37,  1.34it/s]\u001b[A"
          ]
        },
        {
          "output_type": "stream",
          "name": "stdout",
          "text": [
            "\r0.00077 0.00000"
          ]
        },
        {
          "output_type": "stream",
          "name": "stderr",
          "text": [
            "\n",
            "Iteration:  35%|███▌      | 70/200 [00:51<01:36,  1.34it/s]\u001b[A"
          ]
        },
        {
          "output_type": "stream",
          "name": "stdout",
          "text": [
            "\r0.00162 0.00000"
          ]
        },
        {
          "output_type": "stream",
          "name": "stderr",
          "text": [
            "\n",
            "Iteration:  36%|███▌      | 71/200 [00:52<01:36,  1.34it/s]\u001b[A"
          ]
        },
        {
          "output_type": "stream",
          "name": "stdout",
          "text": [
            "\r0.00047 0.00000"
          ]
        },
        {
          "output_type": "stream",
          "name": "stderr",
          "text": [
            "\n",
            "Iteration:  36%|███▌      | 72/200 [00:53<01:35,  1.34it/s]\u001b[A"
          ]
        },
        {
          "output_type": "stream",
          "name": "stdout",
          "text": [
            "\r0.00049 0.00000"
          ]
        },
        {
          "output_type": "stream",
          "name": "stderr",
          "text": [
            "\n",
            "Iteration:  36%|███▋      | 73/200 [00:54<01:34,  1.34it/s]\u001b[A"
          ]
        },
        {
          "output_type": "stream",
          "name": "stdout",
          "text": [
            "\r0.01819 0.00000"
          ]
        },
        {
          "output_type": "stream",
          "name": "stderr",
          "text": [
            "\n",
            "Iteration:  37%|███▋      | 74/200 [00:54<01:34,  1.34it/s]\u001b[A"
          ]
        },
        {
          "output_type": "stream",
          "name": "stdout",
          "text": [
            "\r0.00026 0.00000"
          ]
        },
        {
          "output_type": "stream",
          "name": "stderr",
          "text": [
            "\n",
            "Iteration:  38%|███▊      | 75/200 [00:55<01:33,  1.34it/s]\u001b[A"
          ]
        },
        {
          "output_type": "stream",
          "name": "stdout",
          "text": [
            "\r0.00042 0.00000"
          ]
        },
        {
          "output_type": "stream",
          "name": "stderr",
          "text": [
            "\n",
            "Iteration:  38%|███▊      | 76/200 [00:56<01:32,  1.34it/s]\u001b[A"
          ]
        },
        {
          "output_type": "stream",
          "name": "stdout",
          "text": [
            "\r0.00042 0.00000"
          ]
        },
        {
          "output_type": "stream",
          "name": "stderr",
          "text": [
            "\n",
            "Iteration:  38%|███▊      | 77/200 [00:57<01:31,  1.34it/s]\u001b[A"
          ]
        },
        {
          "output_type": "stream",
          "name": "stdout",
          "text": [
            "\r0.00137 0.00000"
          ]
        },
        {
          "output_type": "stream",
          "name": "stderr",
          "text": [
            "\n",
            "Iteration:  39%|███▉      | 78/200 [00:57<01:30,  1.34it/s]\u001b[A"
          ]
        },
        {
          "output_type": "stream",
          "name": "stdout",
          "text": [
            "\r0.00035 0.00000"
          ]
        },
        {
          "output_type": "stream",
          "name": "stderr",
          "text": [
            "\n",
            "Iteration:  40%|███▉      | 79/200 [00:58<01:29,  1.34it/s]\u001b[A"
          ]
        },
        {
          "output_type": "stream",
          "name": "stdout",
          "text": [
            "\r0.50746 0.00000"
          ]
        },
        {
          "output_type": "stream",
          "name": "stderr",
          "text": [
            "\n",
            "Iteration:  40%|████      | 80/200 [00:59<01:29,  1.35it/s]\u001b[A"
          ]
        },
        {
          "output_type": "stream",
          "name": "stdout",
          "text": [
            "\r0.00031 0.00000"
          ]
        },
        {
          "output_type": "stream",
          "name": "stderr",
          "text": [
            "\n",
            "Iteration:  40%|████      | 81/200 [01:00<01:28,  1.35it/s]\u001b[A"
          ]
        },
        {
          "output_type": "stream",
          "name": "stdout",
          "text": [
            "\r0.00033 0.00000"
          ]
        },
        {
          "output_type": "stream",
          "name": "stderr",
          "text": [
            "\n",
            "Iteration:  41%|████      | 82/200 [01:00<01:27,  1.35it/s]\u001b[A"
          ]
        },
        {
          "output_type": "stream",
          "name": "stdout",
          "text": [
            "\r0.00044 0.00000"
          ]
        },
        {
          "output_type": "stream",
          "name": "stderr",
          "text": [
            "\n",
            "Iteration:  42%|████▏     | 83/200 [01:01<01:26,  1.35it/s]\u001b[A"
          ]
        },
        {
          "output_type": "stream",
          "name": "stdout",
          "text": [
            "\r0.04442 0.00000"
          ]
        },
        {
          "output_type": "stream",
          "name": "stderr",
          "text": [
            "\n",
            "Iteration:  42%|████▏     | 84/200 [01:02<01:25,  1.35it/s]\u001b[A"
          ]
        },
        {
          "output_type": "stream",
          "name": "stdout",
          "text": [
            "\r0.00044 0.00000"
          ]
        },
        {
          "output_type": "stream",
          "name": "stderr",
          "text": [
            "\n",
            "Iteration:  42%|████▎     | 85/200 [01:03<01:25,  1.35it/s]\u001b[A"
          ]
        },
        {
          "output_type": "stream",
          "name": "stdout",
          "text": [
            "\r0.00039 0.00000"
          ]
        },
        {
          "output_type": "stream",
          "name": "stderr",
          "text": [
            "\n",
            "Iteration:  43%|████▎     | 86/200 [01:03<01:24,  1.35it/s]\u001b[A"
          ]
        },
        {
          "output_type": "stream",
          "name": "stdout",
          "text": [
            "\r0.00094 0.00000"
          ]
        },
        {
          "output_type": "stream",
          "name": "stderr",
          "text": [
            "\n",
            "Iteration:  44%|████▎     | 87/200 [01:04<01:23,  1.35it/s]\u001b[A"
          ]
        },
        {
          "output_type": "stream",
          "name": "stdout",
          "text": [
            "\r0.00037 0.00000"
          ]
        },
        {
          "output_type": "stream",
          "name": "stderr",
          "text": [
            "\n",
            "Iteration:  44%|████▍     | 88/200 [01:05<01:22,  1.35it/s]\u001b[A"
          ]
        },
        {
          "output_type": "stream",
          "name": "stdout",
          "text": [
            "\r0.00063 0.00000"
          ]
        },
        {
          "output_type": "stream",
          "name": "stderr",
          "text": [
            "\n",
            "Iteration:  44%|████▍     | 89/200 [01:06<01:22,  1.35it/s]\u001b[A"
          ]
        },
        {
          "output_type": "stream",
          "name": "stdout",
          "text": [
            "\r0.00071 0.00000"
          ]
        },
        {
          "output_type": "stream",
          "name": "stderr",
          "text": [
            "\n",
            "Iteration:  45%|████▌     | 90/200 [01:06<01:21,  1.35it/s]\u001b[A"
          ]
        },
        {
          "output_type": "stream",
          "name": "stdout",
          "text": [
            "\r0.00117 0.00000"
          ]
        },
        {
          "output_type": "stream",
          "name": "stderr",
          "text": [
            "\n",
            "Iteration:  46%|████▌     | 91/200 [01:07<01:20,  1.36it/s]\u001b[A"
          ]
        },
        {
          "output_type": "stream",
          "name": "stdout",
          "text": [
            "\r0.00087 0.00000"
          ]
        },
        {
          "output_type": "stream",
          "name": "stderr",
          "text": [
            "\n",
            "Iteration:  46%|████▌     | 92/200 [01:08<01:19,  1.36it/s]\u001b[A"
          ]
        },
        {
          "output_type": "stream",
          "name": "stdout",
          "text": [
            "\r0.00136 0.00000"
          ]
        },
        {
          "output_type": "stream",
          "name": "stderr",
          "text": [
            "\n",
            "Iteration:  46%|████▋     | 93/200 [01:08<01:19,  1.35it/s]\u001b[A"
          ]
        },
        {
          "output_type": "stream",
          "name": "stdout",
          "text": [
            "\r0.00105 0.00000"
          ]
        },
        {
          "output_type": "stream",
          "name": "stderr",
          "text": [
            "\n",
            "Iteration:  47%|████▋     | 94/200 [01:09<01:18,  1.35it/s]\u001b[A"
          ]
        },
        {
          "output_type": "stream",
          "name": "stdout",
          "text": [
            "\r0.00074 0.00000"
          ]
        },
        {
          "output_type": "stream",
          "name": "stderr",
          "text": [
            "\n",
            "Iteration:  48%|████▊     | 95/200 [01:10<01:17,  1.36it/s]\u001b[A"
          ]
        },
        {
          "output_type": "stream",
          "name": "stdout",
          "text": [
            "\r0.00046 0.00000"
          ]
        },
        {
          "output_type": "stream",
          "name": "stderr",
          "text": [
            "\n",
            "Iteration:  48%|████▊     | 96/200 [01:11<01:16,  1.35it/s]\u001b[A"
          ]
        },
        {
          "output_type": "stream",
          "name": "stdout",
          "text": [
            "\r0.00037 0.00000"
          ]
        },
        {
          "output_type": "stream",
          "name": "stderr",
          "text": [
            "\n",
            "Iteration:  48%|████▊     | 97/200 [01:11<01:16,  1.35it/s]\u001b[A"
          ]
        },
        {
          "output_type": "stream",
          "name": "stdout",
          "text": [
            "\r0.00057 0.00000"
          ]
        },
        {
          "output_type": "stream",
          "name": "stderr",
          "text": [
            "\n",
            "Iteration:  49%|████▉     | 98/200 [01:12<01:15,  1.35it/s]\u001b[A"
          ]
        },
        {
          "output_type": "stream",
          "name": "stdout",
          "text": [
            "\r0.00050 0.00000"
          ]
        },
        {
          "output_type": "stream",
          "name": "stderr",
          "text": [
            "\n",
            "Iteration:  50%|████▉     | 99/200 [01:13<01:14,  1.35it/s]\u001b[A"
          ]
        },
        {
          "output_type": "stream",
          "name": "stdout",
          "text": [
            "\r0.00054 0.00000"
          ]
        },
        {
          "output_type": "stream",
          "name": "stderr",
          "text": [
            "INFO:root:Creating features from dataset file at ./drive/MyDrive/tvd5455/VvsNV/common_data/\n",
            "INFO:root:Saving features into cached file ./drive/MyDrive/tvd5455/VvsNV/Relations/processed_data/cached_dev_roberta-large_128_both\n",
            "INFO:root:***** Running evaluation  *****\n",
            "INFO:root:  Num examples = 800\n",
            "INFO:root:  Batch size = 128\n"
          ]
        },
        {
          "output_type": "stream",
          "name": "stdout",
          "text": [
            "0.39047 0.00000"
          ]
        },
        {
          "output_type": "stream",
          "name": "stderr",
          "text": [
            "INFO:root:***** Eval results  *****\n",
            "INFO:root:  f1 = 0.48598130841121495\n",
            "INFO:root:  fn = 18\n",
            "INFO:root:  fp = 37\n",
            "INFO:root:  mcc = 0.4587291039934635\n",
            "INFO:root:  rmse = 0.4593018\n",
            "INFO:root:  tn = 719\n",
            "INFO:root:  tp = 26\n",
            "/usr/local/lib/python3.7/dist-packages/torch/optim/lr_scheduler.py:247: UserWarning: To get the last learning rate computed by the scheduler, please use `get_last_lr()`.\n",
            "  warnings.warn(\"To get the last learning rate computed by the scheduler, \"\n",
            "\n",
            "Iteration:  50%|█████     | 100/200 [01:24<06:17,  3.77s/it]\u001b[A"
          ]
        },
        {
          "output_type": "stream",
          "name": "stdout",
          "text": [
            "0.00063 0.00000"
          ]
        },
        {
          "output_type": "stream",
          "name": "stderr",
          "text": [
            "\n",
            "Iteration:  50%|█████     | 101/200 [01:24<04:43,  2.86s/it]\u001b[A"
          ]
        },
        {
          "output_type": "stream",
          "name": "stdout",
          "text": [
            "\r0.00049 0.00000"
          ]
        },
        {
          "output_type": "stream",
          "name": "stderr",
          "text": [
            "\n",
            "Iteration:  51%|█████     | 102/200 [01:25<03:38,  2.23s/it]\u001b[A"
          ]
        },
        {
          "output_type": "stream",
          "name": "stdout",
          "text": [
            "\r0.00035 0.00000"
          ]
        },
        {
          "output_type": "stream",
          "name": "stderr",
          "text": [
            "\n",
            "Iteration:  52%|█████▏    | 103/200 [01:26<02:52,  1.78s/it]\u001b[A"
          ]
        },
        {
          "output_type": "stream",
          "name": "stdout",
          "text": [
            "\r0.00054 0.00000"
          ]
        },
        {
          "output_type": "stream",
          "name": "stderr",
          "text": [
            "\n",
            "Iteration:  52%|█████▏    | 104/200 [01:27<02:20,  1.47s/it]\u001b[A"
          ]
        },
        {
          "output_type": "stream",
          "name": "stdout",
          "text": [
            "\r0.00052 0.00000"
          ]
        },
        {
          "output_type": "stream",
          "name": "stderr",
          "text": [
            "\n",
            "Iteration:  52%|█████▎    | 105/200 [01:27<01:58,  1.25s/it]\u001b[A"
          ]
        },
        {
          "output_type": "stream",
          "name": "stdout",
          "text": [
            "\r0.00059 0.00000"
          ]
        },
        {
          "output_type": "stream",
          "name": "stderr",
          "text": [
            "\n",
            "Iteration:  53%|█████▎    | 106/200 [01:28<01:42,  1.10s/it]\u001b[A"
          ]
        },
        {
          "output_type": "stream",
          "name": "stdout",
          "text": [
            "\r0.00045 0.00000"
          ]
        },
        {
          "output_type": "stream",
          "name": "stderr",
          "text": [
            "\n",
            "Iteration:  54%|█████▎    | 107/200 [01:29<01:31,  1.01it/s]\u001b[A"
          ]
        },
        {
          "output_type": "stream",
          "name": "stdout",
          "text": [
            "\r0.00051 0.00000"
          ]
        },
        {
          "output_type": "stream",
          "name": "stderr",
          "text": [
            "\n",
            "Iteration:  54%|█████▍    | 108/200 [01:30<01:23,  1.10it/s]\u001b[A"
          ]
        },
        {
          "output_type": "stream",
          "name": "stdout",
          "text": [
            "\r0.00047 0.00000"
          ]
        },
        {
          "output_type": "stream",
          "name": "stderr",
          "text": [
            "\n",
            "Iteration:  55%|█████▍    | 109/200 [01:30<01:18,  1.16it/s]\u001b[A"
          ]
        },
        {
          "output_type": "stream",
          "name": "stdout",
          "text": [
            "\r0.00031 0.00000"
          ]
        },
        {
          "output_type": "stream",
          "name": "stderr",
          "text": [
            "\n",
            "Iteration:  55%|█████▌    | 110/200 [01:31<01:14,  1.21it/s]\u001b[A"
          ]
        },
        {
          "output_type": "stream",
          "name": "stdout",
          "text": [
            "\r0.00045 0.00000"
          ]
        },
        {
          "output_type": "stream",
          "name": "stderr",
          "text": [
            "\n",
            "Iteration:  56%|█████▌    | 111/200 [01:32<01:11,  1.25it/s]\u001b[A"
          ]
        },
        {
          "output_type": "stream",
          "name": "stdout",
          "text": [
            "\r0.42627 0.00000"
          ]
        },
        {
          "output_type": "stream",
          "name": "stderr",
          "text": [
            "\n",
            "Iteration:  56%|█████▌    | 112/200 [01:33<01:09,  1.27it/s]\u001b[A"
          ]
        },
        {
          "output_type": "stream",
          "name": "stdout",
          "text": [
            "\r0.00029 0.00000"
          ]
        },
        {
          "output_type": "stream",
          "name": "stderr",
          "text": [
            "\n",
            "Iteration:  56%|█████▋    | 113/200 [01:33<01:07,  1.29it/s]\u001b[A"
          ]
        },
        {
          "output_type": "stream",
          "name": "stdout",
          "text": [
            "\r0.82172 0.00000"
          ]
        },
        {
          "output_type": "stream",
          "name": "stderr",
          "text": [
            "\n",
            "Iteration:  57%|█████▋    | 114/200 [01:34<01:05,  1.31it/s]\u001b[A"
          ]
        },
        {
          "output_type": "stream",
          "name": "stdout",
          "text": [
            "\r0.00063 0.00000"
          ]
        },
        {
          "output_type": "stream",
          "name": "stderr",
          "text": [
            "\n",
            "Iteration:  57%|█████▊    | 115/200 [01:35<01:04,  1.32it/s]\u001b[A"
          ]
        },
        {
          "output_type": "stream",
          "name": "stdout",
          "text": [
            "\r0.45559 0.00000"
          ]
        },
        {
          "output_type": "stream",
          "name": "stderr",
          "text": [
            "\n",
            "Iteration:  58%|█████▊    | 116/200 [01:36<01:03,  1.33it/s]\u001b[A"
          ]
        },
        {
          "output_type": "stream",
          "name": "stdout",
          "text": [
            "\r0.00065 0.00000"
          ]
        },
        {
          "output_type": "stream",
          "name": "stderr",
          "text": [
            "\n",
            "Iteration:  58%|█████▊    | 117/200 [01:36<01:02,  1.34it/s]\u001b[A"
          ]
        },
        {
          "output_type": "stream",
          "name": "stdout",
          "text": [
            "\r0.00074 0.00000"
          ]
        },
        {
          "output_type": "stream",
          "name": "stderr",
          "text": [
            "\n",
            "Iteration:  59%|█████▉    | 118/200 [01:37<01:01,  1.34it/s]\u001b[A"
          ]
        },
        {
          "output_type": "stream",
          "name": "stdout",
          "text": [
            "\r0.64787 0.00000"
          ]
        },
        {
          "output_type": "stream",
          "name": "stderr",
          "text": [
            "\n",
            "Iteration:  60%|█████▉    | 119/200 [01:38<01:00,  1.34it/s]\u001b[A"
          ]
        },
        {
          "output_type": "stream",
          "name": "stdout",
          "text": [
            "\r0.33406 0.00000"
          ]
        },
        {
          "output_type": "stream",
          "name": "stderr",
          "text": [
            "\n",
            "Iteration:  60%|██████    | 120/200 [01:39<00:59,  1.34it/s]\u001b[A"
          ]
        },
        {
          "output_type": "stream",
          "name": "stdout",
          "text": [
            "\r0.02097 0.00000"
          ]
        },
        {
          "output_type": "stream",
          "name": "stderr",
          "text": [
            "\n",
            "Iteration:  60%|██████    | 121/200 [01:39<00:58,  1.34it/s]\u001b[A"
          ]
        },
        {
          "output_type": "stream",
          "name": "stdout",
          "text": [
            "\r0.00148 0.00000"
          ]
        },
        {
          "output_type": "stream",
          "name": "stderr",
          "text": [
            "\n",
            "Iteration:  61%|██████    | 122/200 [01:40<00:58,  1.34it/s]\u001b[A"
          ]
        },
        {
          "output_type": "stream",
          "name": "stdout",
          "text": [
            "\r0.03745 0.00000"
          ]
        },
        {
          "output_type": "stream",
          "name": "stderr",
          "text": [
            "\n",
            "Iteration:  62%|██████▏   | 123/200 [01:41<00:57,  1.34it/s]\u001b[A"
          ]
        },
        {
          "output_type": "stream",
          "name": "stdout",
          "text": [
            "\r0.00447 0.00000"
          ]
        },
        {
          "output_type": "stream",
          "name": "stderr",
          "text": [
            "\n",
            "Iteration:  62%|██████▏   | 124/200 [01:42<00:56,  1.34it/s]\u001b[A"
          ]
        },
        {
          "output_type": "stream",
          "name": "stdout",
          "text": [
            "\r0.00388 0.00000"
          ]
        },
        {
          "output_type": "stream",
          "name": "stderr",
          "text": [
            "\n",
            "Iteration:  62%|██████▎   | 125/200 [01:42<00:55,  1.34it/s]\u001b[A"
          ]
        },
        {
          "output_type": "stream",
          "name": "stdout",
          "text": [
            "\r0.00316 0.00000"
          ]
        },
        {
          "output_type": "stream",
          "name": "stderr",
          "text": [
            "\n",
            "Iteration:  63%|██████▎   | 126/200 [01:43<00:54,  1.35it/s]\u001b[A"
          ]
        },
        {
          "output_type": "stream",
          "name": "stdout",
          "text": [
            "\r0.00126 0.00000"
          ]
        },
        {
          "output_type": "stream",
          "name": "stderr",
          "text": [
            "\n",
            "Iteration:  64%|██████▎   | 127/200 [01:44<00:54,  1.35it/s]\u001b[A"
          ]
        },
        {
          "output_type": "stream",
          "name": "stdout",
          "text": [
            "\r0.24514 0.00000"
          ]
        },
        {
          "output_type": "stream",
          "name": "stderr",
          "text": [
            "\n",
            "Iteration:  64%|██████▍   | 128/200 [01:45<00:53,  1.35it/s]\u001b[A"
          ]
        },
        {
          "output_type": "stream",
          "name": "stdout",
          "text": [
            "\r0.00222 0.00000"
          ]
        },
        {
          "output_type": "stream",
          "name": "stderr",
          "text": [
            "\n",
            "Iteration:  64%|██████▍   | 129/200 [01:45<00:52,  1.35it/s]\u001b[A"
          ]
        },
        {
          "output_type": "stream",
          "name": "stdout",
          "text": [
            "\r0.00256 0.00000"
          ]
        },
        {
          "output_type": "stream",
          "name": "stderr",
          "text": [
            "\n",
            "Iteration:  65%|██████▌   | 130/200 [01:46<00:51,  1.35it/s]\u001b[A"
          ]
        },
        {
          "output_type": "stream",
          "name": "stdout",
          "text": [
            "\r0.34536 0.00000"
          ]
        },
        {
          "output_type": "stream",
          "name": "stderr",
          "text": [
            "\n",
            "Iteration:  66%|██████▌   | 131/200 [01:47<00:51,  1.35it/s]\u001b[A"
          ]
        },
        {
          "output_type": "stream",
          "name": "stdout",
          "text": [
            "\r0.00117 0.00000"
          ]
        },
        {
          "output_type": "stream",
          "name": "stderr",
          "text": [
            "\n",
            "Iteration:  66%|██████▌   | 132/200 [01:47<00:50,  1.35it/s]\u001b[A"
          ]
        },
        {
          "output_type": "stream",
          "name": "stdout",
          "text": [
            "\r0.00329 0.00000"
          ]
        },
        {
          "output_type": "stream",
          "name": "stderr",
          "text": [
            "\n",
            "Iteration:  66%|██████▋   | 133/200 [01:48<00:49,  1.35it/s]\u001b[A"
          ]
        },
        {
          "output_type": "stream",
          "name": "stdout",
          "text": [
            "\r0.00133 0.00000"
          ]
        },
        {
          "output_type": "stream",
          "name": "stderr",
          "text": [
            "\n",
            "Iteration:  67%|██████▋   | 134/200 [01:49<00:48,  1.35it/s]\u001b[A"
          ]
        },
        {
          "output_type": "stream",
          "name": "stdout",
          "text": [
            "\r0.00945 0.00000"
          ]
        },
        {
          "output_type": "stream",
          "name": "stderr",
          "text": [
            "\n",
            "Iteration:  68%|██████▊   | 135/200 [01:50<00:48,  1.35it/s]\u001b[A"
          ]
        },
        {
          "output_type": "stream",
          "name": "stdout",
          "text": [
            "\r0.00245 0.00000"
          ]
        },
        {
          "output_type": "stream",
          "name": "stderr",
          "text": [
            "\n",
            "Iteration:  68%|██████▊   | 136/200 [01:50<00:47,  1.35it/s]\u001b[A"
          ]
        },
        {
          "output_type": "stream",
          "name": "stdout",
          "text": [
            "\r0.00131 0.00000"
          ]
        },
        {
          "output_type": "stream",
          "name": "stderr",
          "text": [
            "\n",
            "Iteration:  68%|██████▊   | 137/200 [01:51<00:46,  1.35it/s]\u001b[A"
          ]
        },
        {
          "output_type": "stream",
          "name": "stdout",
          "text": [
            "\r0.00205 0.00000"
          ]
        },
        {
          "output_type": "stream",
          "name": "stderr",
          "text": [
            "\n",
            "Iteration:  69%|██████▉   | 138/200 [01:52<00:45,  1.35it/s]\u001b[A"
          ]
        },
        {
          "output_type": "stream",
          "name": "stdout",
          "text": [
            "\r0.00206 0.00000"
          ]
        },
        {
          "output_type": "stream",
          "name": "stderr",
          "text": [
            "\n",
            "Iteration:  70%|██████▉   | 139/200 [01:53<00:45,  1.35it/s]\u001b[A"
          ]
        },
        {
          "output_type": "stream",
          "name": "stdout",
          "text": [
            "\r0.00163 0.00000"
          ]
        },
        {
          "output_type": "stream",
          "name": "stderr",
          "text": [
            "\n",
            "Iteration:  70%|███████   | 140/200 [01:53<00:44,  1.35it/s]\u001b[A"
          ]
        },
        {
          "output_type": "stream",
          "name": "stdout",
          "text": [
            "\r0.00177 0.00000"
          ]
        },
        {
          "output_type": "stream",
          "name": "stderr",
          "text": [
            "\n",
            "Iteration:  70%|███████   | 141/200 [01:54<00:43,  1.35it/s]\u001b[A"
          ]
        },
        {
          "output_type": "stream",
          "name": "stdout",
          "text": [
            "\r0.00155 0.00000"
          ]
        },
        {
          "output_type": "stream",
          "name": "stderr",
          "text": [
            "\n",
            "Iteration:  71%|███████   | 142/200 [01:55<00:42,  1.35it/s]\u001b[A"
          ]
        },
        {
          "output_type": "stream",
          "name": "stdout",
          "text": [
            "\r0.27071 0.00000"
          ]
        },
        {
          "output_type": "stream",
          "name": "stderr",
          "text": [
            "\n",
            "Iteration:  72%|███████▏  | 143/200 [01:56<00:42,  1.35it/s]\u001b[A"
          ]
        },
        {
          "output_type": "stream",
          "name": "stdout",
          "text": [
            "\r0.00083 0.00000"
          ]
        },
        {
          "output_type": "stream",
          "name": "stderr",
          "text": [
            "\n",
            "Iteration:  72%|███████▏  | 144/200 [01:56<00:41,  1.35it/s]\u001b[A"
          ]
        },
        {
          "output_type": "stream",
          "name": "stdout",
          "text": [
            "\r0.00164 0.00000"
          ]
        },
        {
          "output_type": "stream",
          "name": "stderr",
          "text": [
            "\n",
            "Iteration:  72%|███████▎  | 145/200 [01:57<00:40,  1.36it/s]\u001b[A"
          ]
        },
        {
          "output_type": "stream",
          "name": "stdout",
          "text": [
            "\r0.00144 0.00000"
          ]
        },
        {
          "output_type": "stream",
          "name": "stderr",
          "text": [
            "\n",
            "Iteration:  73%|███████▎  | 146/200 [01:58<00:39,  1.36it/s]\u001b[A"
          ]
        },
        {
          "output_type": "stream",
          "name": "stdout",
          "text": [
            "\r0.00115 0.00000"
          ]
        },
        {
          "output_type": "stream",
          "name": "stderr",
          "text": [
            "\n",
            "Iteration:  74%|███████▎  | 147/200 [01:59<00:38,  1.36it/s]\u001b[A"
          ]
        },
        {
          "output_type": "stream",
          "name": "stdout",
          "text": [
            "\r0.00121 0.00000"
          ]
        },
        {
          "output_type": "stream",
          "name": "stderr",
          "text": [
            "\n",
            "Iteration:  74%|███████▍  | 148/200 [01:59<00:38,  1.36it/s]\u001b[A"
          ]
        },
        {
          "output_type": "stream",
          "name": "stdout",
          "text": [
            "\r0.00126 0.00000"
          ]
        },
        {
          "output_type": "stream",
          "name": "stderr",
          "text": [
            "\n",
            "Iteration:  74%|███████▍  | 149/200 [02:00<00:37,  1.35it/s]\u001b[A"
          ]
        },
        {
          "output_type": "stream",
          "name": "stdout",
          "text": [
            "\r0.00161 0.00000"
          ]
        },
        {
          "output_type": "stream",
          "name": "stderr",
          "text": [
            "\n",
            "Iteration:  75%|███████▌  | 150/200 [02:01<00:36,  1.35it/s]\u001b[A"
          ]
        },
        {
          "output_type": "stream",
          "name": "stdout",
          "text": [
            "\r0.11482 0.00000"
          ]
        },
        {
          "output_type": "stream",
          "name": "stderr",
          "text": [
            "\n",
            "Iteration:  76%|███████▌  | 151/200 [02:02<00:36,  1.35it/s]\u001b[A"
          ]
        },
        {
          "output_type": "stream",
          "name": "stdout",
          "text": [
            "\r0.00070 0.00000"
          ]
        },
        {
          "output_type": "stream",
          "name": "stderr",
          "text": [
            "\n",
            "Iteration:  76%|███████▌  | 152/200 [02:02<00:35,  1.35it/s]\u001b[A"
          ]
        },
        {
          "output_type": "stream",
          "name": "stdout",
          "text": [
            "\r0.00141 0.00000"
          ]
        },
        {
          "output_type": "stream",
          "name": "stderr",
          "text": [
            "\n",
            "Iteration:  76%|███████▋  | 153/200 [02:03<00:34,  1.35it/s]\u001b[A"
          ]
        },
        {
          "output_type": "stream",
          "name": "stdout",
          "text": [
            "\r0.00096 0.00000"
          ]
        },
        {
          "output_type": "stream",
          "name": "stderr",
          "text": [
            "\n",
            "Iteration:  77%|███████▋  | 154/200 [02:04<00:34,  1.35it/s]\u001b[A"
          ]
        },
        {
          "output_type": "stream",
          "name": "stdout",
          "text": [
            "\r0.00074 0.00000"
          ]
        },
        {
          "output_type": "stream",
          "name": "stderr",
          "text": [
            "\n",
            "Iteration:  78%|███████▊  | 155/200 [02:04<00:33,  1.35it/s]\u001b[A"
          ]
        },
        {
          "output_type": "stream",
          "name": "stdout",
          "text": [
            "\r0.00104 0.00000"
          ]
        },
        {
          "output_type": "stream",
          "name": "stderr",
          "text": [
            "\n",
            "Iteration:  78%|███████▊  | 156/200 [02:05<00:32,  1.35it/s]\u001b[A"
          ]
        },
        {
          "output_type": "stream",
          "name": "stdout",
          "text": [
            "\r0.00112 0.00000"
          ]
        },
        {
          "output_type": "stream",
          "name": "stderr",
          "text": [
            "\n",
            "Iteration:  78%|███████▊  | 157/200 [02:06<00:31,  1.35it/s]\u001b[A"
          ]
        },
        {
          "output_type": "stream",
          "name": "stdout",
          "text": [
            "\r0.00121 0.00000"
          ]
        },
        {
          "output_type": "stream",
          "name": "stderr",
          "text": [
            "\n",
            "Iteration:  79%|███████▉  | 158/200 [02:07<00:31,  1.35it/s]\u001b[A"
          ]
        },
        {
          "output_type": "stream",
          "name": "stdout",
          "text": [
            "\r0.00033 0.00000"
          ]
        },
        {
          "output_type": "stream",
          "name": "stderr",
          "text": [
            "\n",
            "Iteration:  80%|███████▉  | 159/200 [02:07<00:30,  1.35it/s]\u001b[A"
          ]
        },
        {
          "output_type": "stream",
          "name": "stdout",
          "text": [
            "\r0.00040 0.00000"
          ]
        },
        {
          "output_type": "stream",
          "name": "stderr",
          "text": [
            "\n",
            "Iteration:  80%|████████  | 160/200 [02:08<00:29,  1.35it/s]\u001b[A"
          ]
        },
        {
          "output_type": "stream",
          "name": "stdout",
          "text": [
            "\r0.00034 0.00000"
          ]
        },
        {
          "output_type": "stream",
          "name": "stderr",
          "text": [
            "\n",
            "Iteration:  80%|████████  | 161/200 [02:09<00:28,  1.35it/s]\u001b[A"
          ]
        },
        {
          "output_type": "stream",
          "name": "stdout",
          "text": [
            "\r0.00062 0.00000"
          ]
        },
        {
          "output_type": "stream",
          "name": "stderr",
          "text": [
            "\n",
            "Iteration:  81%|████████  | 162/200 [02:10<00:28,  1.36it/s]\u001b[A"
          ]
        },
        {
          "output_type": "stream",
          "name": "stdout",
          "text": [
            "\r0.00046 0.00000"
          ]
        },
        {
          "output_type": "stream",
          "name": "stderr",
          "text": [
            "\n",
            "Iteration:  82%|████████▏ | 163/200 [02:10<00:27,  1.36it/s]\u001b[A"
          ]
        },
        {
          "output_type": "stream",
          "name": "stdout",
          "text": [
            "\r0.00085 0.00000"
          ]
        },
        {
          "output_type": "stream",
          "name": "stderr",
          "text": [
            "\n",
            "Iteration:  82%|████████▏ | 164/200 [02:11<00:26,  1.36it/s]\u001b[A"
          ]
        },
        {
          "output_type": "stream",
          "name": "stdout",
          "text": [
            "\r0.00050 0.00000"
          ]
        },
        {
          "output_type": "stream",
          "name": "stderr",
          "text": [
            "\n",
            "Iteration:  82%|████████▎ | 165/200 [02:12<00:25,  1.36it/s]\u001b[A"
          ]
        },
        {
          "output_type": "stream",
          "name": "stdout",
          "text": [
            "\r0.00056 0.00000"
          ]
        },
        {
          "output_type": "stream",
          "name": "stderr",
          "text": [
            "\n",
            "Iteration:  83%|████████▎ | 166/200 [02:13<00:25,  1.36it/s]\u001b[A"
          ]
        },
        {
          "output_type": "stream",
          "name": "stdout",
          "text": [
            "\r0.00044 0.00000"
          ]
        },
        {
          "output_type": "stream",
          "name": "stderr",
          "text": [
            "\n",
            "Iteration:  84%|████████▎ | 167/200 [02:13<00:24,  1.35it/s]\u001b[A"
          ]
        },
        {
          "output_type": "stream",
          "name": "stdout",
          "text": [
            "\r0.00034 0.00000"
          ]
        },
        {
          "output_type": "stream",
          "name": "stderr",
          "text": [
            "\n",
            "Iteration:  84%|████████▍ | 168/200 [02:14<00:23,  1.35it/s]\u001b[A"
          ]
        },
        {
          "output_type": "stream",
          "name": "stdout",
          "text": [
            "\r0.00163 0.00000"
          ]
        },
        {
          "output_type": "stream",
          "name": "stderr",
          "text": [
            "\n",
            "Iteration:  84%|████████▍ | 169/200 [02:15<00:23,  1.35it/s]\u001b[A"
          ]
        },
        {
          "output_type": "stream",
          "name": "stdout",
          "text": [
            "\r0.00035 0.00000"
          ]
        },
        {
          "output_type": "stream",
          "name": "stderr",
          "text": [
            "\n",
            "Iteration:  85%|████████▌ | 170/200 [02:16<00:22,  1.35it/s]\u001b[A"
          ]
        },
        {
          "output_type": "stream",
          "name": "stdout",
          "text": [
            "\r0.00040 0.00000"
          ]
        },
        {
          "output_type": "stream",
          "name": "stderr",
          "text": [
            "\n",
            "Iteration:  86%|████████▌ | 171/200 [02:16<00:21,  1.35it/s]\u001b[A"
          ]
        },
        {
          "output_type": "stream",
          "name": "stdout",
          "text": [
            "\r0.00035 0.00000"
          ]
        },
        {
          "output_type": "stream",
          "name": "stderr",
          "text": [
            "\n",
            "Iteration:  86%|████████▌ | 172/200 [02:17<00:20,  1.35it/s]\u001b[A"
          ]
        },
        {
          "output_type": "stream",
          "name": "stdout",
          "text": [
            "\r0.00028 0.00000"
          ]
        },
        {
          "output_type": "stream",
          "name": "stderr",
          "text": [
            "\n",
            "Iteration:  86%|████████▋ | 173/200 [02:18<00:19,  1.36it/s]\u001b[A"
          ]
        },
        {
          "output_type": "stream",
          "name": "stdout",
          "text": [
            "\r0.00045 0.00000"
          ]
        },
        {
          "output_type": "stream",
          "name": "stderr",
          "text": [
            "\n",
            "Iteration:  87%|████████▋ | 174/200 [02:19<00:19,  1.35it/s]\u001b[A"
          ]
        },
        {
          "output_type": "stream",
          "name": "stdout",
          "text": [
            "\r0.43301 0.00000"
          ]
        },
        {
          "output_type": "stream",
          "name": "stderr",
          "text": [
            "\n",
            "Iteration:  88%|████████▊ | 175/200 [02:19<00:18,  1.34it/s]\u001b[A"
          ]
        },
        {
          "output_type": "stream",
          "name": "stdout",
          "text": [
            "\r0.00065 0.00000"
          ]
        },
        {
          "output_type": "stream",
          "name": "stderr",
          "text": [
            "\n",
            "Iteration:  88%|████████▊ | 176/200 [02:20<00:17,  1.35it/s]\u001b[A"
          ]
        },
        {
          "output_type": "stream",
          "name": "stdout",
          "text": [
            "\r0.44557 0.00000"
          ]
        },
        {
          "output_type": "stream",
          "name": "stderr",
          "text": [
            "\n",
            "Iteration:  88%|████████▊ | 177/200 [02:21<00:17,  1.35it/s]\u001b[A"
          ]
        },
        {
          "output_type": "stream",
          "name": "stdout",
          "text": [
            "\r0.00046 0.00000"
          ]
        },
        {
          "output_type": "stream",
          "name": "stderr",
          "text": [
            "\n",
            "Iteration:  89%|████████▉ | 178/200 [02:21<00:16,  1.35it/s]\u001b[A"
          ]
        },
        {
          "output_type": "stream",
          "name": "stdout",
          "text": [
            "\r0.00115 0.00000"
          ]
        },
        {
          "output_type": "stream",
          "name": "stderr",
          "text": [
            "\n",
            "Iteration:  90%|████████▉ | 179/200 [02:22<00:15,  1.35it/s]\u001b[A"
          ]
        },
        {
          "output_type": "stream",
          "name": "stdout",
          "text": [
            "\r0.00055 0.00000"
          ]
        },
        {
          "output_type": "stream",
          "name": "stderr",
          "text": [
            "\n",
            "Iteration:  90%|█████████ | 180/200 [02:23<00:14,  1.35it/s]\u001b[A"
          ]
        },
        {
          "output_type": "stream",
          "name": "stdout",
          "text": [
            "\r0.00119 0.00000"
          ]
        },
        {
          "output_type": "stream",
          "name": "stderr",
          "text": [
            "\n",
            "Iteration:  90%|█████████ | 181/200 [02:24<00:14,  1.35it/s]\u001b[A"
          ]
        },
        {
          "output_type": "stream",
          "name": "stdout",
          "text": [
            "\r0.00065 0.00000"
          ]
        },
        {
          "output_type": "stream",
          "name": "stderr",
          "text": [
            "\n",
            "Iteration:  91%|█████████ | 182/200 [02:24<00:13,  1.36it/s]\u001b[A"
          ]
        },
        {
          "output_type": "stream",
          "name": "stdout",
          "text": [
            "\r0.01674 0.00000"
          ]
        },
        {
          "output_type": "stream",
          "name": "stderr",
          "text": [
            "\n",
            "Iteration:  92%|█████████▏| 183/200 [02:25<00:12,  1.35it/s]\u001b[A"
          ]
        },
        {
          "output_type": "stream",
          "name": "stdout",
          "text": [
            "\r0.00124 0.00000"
          ]
        },
        {
          "output_type": "stream",
          "name": "stderr",
          "text": [
            "\n",
            "Iteration:  92%|█████████▏| 184/200 [02:26<00:11,  1.35it/s]\u001b[A"
          ]
        },
        {
          "output_type": "stream",
          "name": "stdout",
          "text": [
            "\r0.00168 0.00000"
          ]
        },
        {
          "output_type": "stream",
          "name": "stderr",
          "text": [
            "\n",
            "Iteration:  92%|█████████▎| 185/200 [02:27<00:11,  1.35it/s]\u001b[A"
          ]
        },
        {
          "output_type": "stream",
          "name": "stdout",
          "text": [
            "\r0.00065 0.00000"
          ]
        },
        {
          "output_type": "stream",
          "name": "stderr",
          "text": [
            "\n",
            "Iteration:  93%|█████████▎| 186/200 [02:27<00:10,  1.35it/s]\u001b[A"
          ]
        },
        {
          "output_type": "stream",
          "name": "stdout",
          "text": [
            "\r0.00037 0.00000"
          ]
        },
        {
          "output_type": "stream",
          "name": "stderr",
          "text": [
            "\n",
            "Iteration:  94%|█████████▎| 187/200 [02:28<00:09,  1.35it/s]\u001b[A"
          ]
        },
        {
          "output_type": "stream",
          "name": "stdout",
          "text": [
            "\r0.00070 0.00000"
          ]
        },
        {
          "output_type": "stream",
          "name": "stderr",
          "text": [
            "\n",
            "Iteration:  94%|█████████▍| 188/200 [02:29<00:08,  1.35it/s]\u001b[A"
          ]
        },
        {
          "output_type": "stream",
          "name": "stdout",
          "text": [
            "\r0.00069 0.00000"
          ]
        },
        {
          "output_type": "stream",
          "name": "stderr",
          "text": [
            "\n",
            "Iteration:  94%|█████████▍| 189/200 [02:30<00:08,  1.35it/s]\u001b[A"
          ]
        },
        {
          "output_type": "stream",
          "name": "stdout",
          "text": [
            "\r0.00040 0.00000"
          ]
        },
        {
          "output_type": "stream",
          "name": "stderr",
          "text": [
            "\n",
            "Iteration:  95%|█████████▌| 190/200 [02:30<00:07,  1.35it/s]\u001b[A"
          ]
        },
        {
          "output_type": "stream",
          "name": "stdout",
          "text": [
            "\r0.00069 0.00000"
          ]
        },
        {
          "output_type": "stream",
          "name": "stderr",
          "text": [
            "\n",
            "Iteration:  96%|█████████▌| 191/200 [02:31<00:06,  1.35it/s]\u001b[A"
          ]
        },
        {
          "output_type": "stream",
          "name": "stdout",
          "text": [
            "\r0.00072 0.00000"
          ]
        },
        {
          "output_type": "stream",
          "name": "stderr",
          "text": [
            "\n",
            "Iteration:  96%|█████████▌| 192/200 [02:32<00:05,  1.35it/s]\u001b[A"
          ]
        },
        {
          "output_type": "stream",
          "name": "stdout",
          "text": [
            "\r0.00084 0.00000"
          ]
        },
        {
          "output_type": "stream",
          "name": "stderr",
          "text": [
            "\n",
            "Iteration:  96%|█████████▋| 193/200 [02:33<00:05,  1.36it/s]\u001b[A"
          ]
        },
        {
          "output_type": "stream",
          "name": "stdout",
          "text": [
            "\r0.00032 0.00000"
          ]
        },
        {
          "output_type": "stream",
          "name": "stderr",
          "text": [
            "\n",
            "Iteration:  97%|█████████▋| 194/200 [02:33<00:04,  1.36it/s]\u001b[A"
          ]
        },
        {
          "output_type": "stream",
          "name": "stdout",
          "text": [
            "\r0.00047 0.00000"
          ]
        },
        {
          "output_type": "stream",
          "name": "stderr",
          "text": [
            "\n",
            "Iteration:  98%|█████████▊| 195/200 [02:34<00:03,  1.36it/s]\u001b[A"
          ]
        },
        {
          "output_type": "stream",
          "name": "stdout",
          "text": [
            "\r0.00076 0.00000"
          ]
        },
        {
          "output_type": "stream",
          "name": "stderr",
          "text": [
            "\n",
            "Iteration:  98%|█████████▊| 196/200 [02:35<00:02,  1.36it/s]\u001b[A"
          ]
        },
        {
          "output_type": "stream",
          "name": "stdout",
          "text": [
            "\r0.00043 0.00000"
          ]
        },
        {
          "output_type": "stream",
          "name": "stderr",
          "text": [
            "\n",
            "Iteration:  98%|█████████▊| 197/200 [02:36<00:02,  1.35it/s]\u001b[A"
          ]
        },
        {
          "output_type": "stream",
          "name": "stdout",
          "text": [
            "\r0.00047 0.00000"
          ]
        },
        {
          "output_type": "stream",
          "name": "stderr",
          "text": [
            "\n",
            "Iteration:  99%|█████████▉| 198/200 [02:36<00:01,  1.35it/s]\u001b[A"
          ]
        },
        {
          "output_type": "stream",
          "name": "stdout",
          "text": [
            "\r0.00047 0.00000"
          ]
        },
        {
          "output_type": "stream",
          "name": "stderr",
          "text": [
            "\n",
            "Iteration: 100%|█████████▉| 199/200 [02:37<00:00,  1.35it/s]\u001b[A"
          ]
        },
        {
          "output_type": "stream",
          "name": "stdout",
          "text": [
            "\r0.00039 0.00000"
          ]
        },
        {
          "output_type": "stream",
          "name": "stderr",
          "text": [
            "INFO:root:Creating features from dataset file at ./drive/MyDrive/tvd5455/VvsNV/common_data/\n",
            "INFO:root:Saving features into cached file ./drive/MyDrive/tvd5455/VvsNV/Relations/processed_data/cached_dev_roberta-large_128_both\n",
            "INFO:root:***** Running evaluation  *****\n",
            "INFO:root:  Num examples = 800\n",
            "INFO:root:  Batch size = 128\n"
          ]
        },
        {
          "output_type": "stream",
          "name": "stdout",
          "text": [
            "0.36849 0.00000"
          ]
        },
        {
          "output_type": "stream",
          "name": "stderr",
          "text": [
            "INFO:root:***** Eval results  *****\n",
            "INFO:root:  f1 = 0.48421052631578954\n",
            "INFO:root:  fn = 21\n",
            "INFO:root:  fp = 28\n",
            "INFO:root:  mcc = 0.45323204841967\n",
            "INFO:root:  rmse = 0.4444275\n",
            "INFO:root:  tn = 728\n",
            "INFO:root:  tp = 23\n"
          ]
        },
        {
          "output_type": "stream",
          "name": "stdout",
          "text": [
            "\r1.12435 0.00000"
          ]
        },
        {
          "output_type": "stream",
          "name": "stderr",
          "text": [
            "/usr/local/lib/python3.7/dist-packages/torch/optim/lr_scheduler.py:247: UserWarning: To get the last learning rate computed by the scheduler, please use `get_last_lr()`.\n",
            "  warnings.warn(\"To get the last learning rate computed by the scheduler, \"\n",
            "INFO:root:Saving model checkpoint to ./drive/MyDrive/tvd5455/VvsNV/Relations/outputs_roberta/checkpoint-600\n",
            "\n",
            "Iteration: 100%|██████████| 200/200 [02:53<00:00,  1.15it/s]\n",
            "Epoch:  75%|███████▌  | 3/4 [08:43<02:54, 174.31s/it]INFO:root:\n",
            "\n",
            "\n",
            "\n",
            "Iteration:   0%|          | 0/200 [00:00<?, ?it/s]\u001b[A"
          ]
        },
        {
          "output_type": "stream",
          "name": "stdout",
          "text": [
            "\r0.00029 0.00000"
          ]
        },
        {
          "output_type": "stream",
          "name": "stderr",
          "text": [
            "\n",
            "Iteration:   0%|          | 1/200 [00:00<02:30,  1.33it/s]\u001b[A"
          ]
        },
        {
          "output_type": "stream",
          "name": "stdout",
          "text": [
            "\r0.00056 0.00000"
          ]
        },
        {
          "output_type": "stream",
          "name": "stderr",
          "text": [
            "\n",
            "Iteration:   1%|          | 2/200 [00:01<02:27,  1.34it/s]\u001b[A"
          ]
        },
        {
          "output_type": "stream",
          "name": "stdout",
          "text": [
            "\r0.00041 0.00000"
          ]
        },
        {
          "output_type": "stream",
          "name": "stderr",
          "text": [
            "\n",
            "Iteration:   2%|▏         | 3/200 [00:02<02:26,  1.35it/s]\u001b[A"
          ]
        },
        {
          "output_type": "stream",
          "name": "stdout",
          "text": [
            "\r0.00035 0.00000"
          ]
        },
        {
          "output_type": "stream",
          "name": "stderr",
          "text": [
            "\n",
            "Iteration:   2%|▏         | 4/200 [00:02<02:25,  1.35it/s]\u001b[A"
          ]
        },
        {
          "output_type": "stream",
          "name": "stdout",
          "text": [
            "\r0.00041 0.00000"
          ]
        },
        {
          "output_type": "stream",
          "name": "stderr",
          "text": [
            "\n",
            "Iteration:   2%|▎         | 5/200 [00:03<02:24,  1.35it/s]\u001b[A"
          ]
        },
        {
          "output_type": "stream",
          "name": "stdout",
          "text": [
            "\r0.44366 0.00000"
          ]
        },
        {
          "output_type": "stream",
          "name": "stderr",
          "text": [
            "\n",
            "Iteration:   3%|▎         | 6/200 [00:04<02:23,  1.35it/s]\u001b[A"
          ]
        },
        {
          "output_type": "stream",
          "name": "stdout",
          "text": [
            "\r0.00038 0.00000"
          ]
        },
        {
          "output_type": "stream",
          "name": "stderr",
          "text": [
            "\n",
            "Iteration:   4%|▎         | 7/200 [00:05<02:22,  1.35it/s]\u001b[A"
          ]
        },
        {
          "output_type": "stream",
          "name": "stdout",
          "text": [
            "\r0.00037 0.00000"
          ]
        },
        {
          "output_type": "stream",
          "name": "stderr",
          "text": [
            "\n",
            "Iteration:   4%|▍         | 8/200 [00:05<02:21,  1.35it/s]\u001b[A"
          ]
        },
        {
          "output_type": "stream",
          "name": "stdout",
          "text": [
            "\r0.00035 0.00000"
          ]
        },
        {
          "output_type": "stream",
          "name": "stderr",
          "text": [
            "\n",
            "Iteration:   4%|▍         | 9/200 [00:06<02:21,  1.35it/s]\u001b[A"
          ]
        },
        {
          "output_type": "stream",
          "name": "stdout",
          "text": [
            "\r0.00043 0.00000"
          ]
        },
        {
          "output_type": "stream",
          "name": "stderr",
          "text": [
            "\n",
            "Iteration:   5%|▌         | 10/200 [00:07<02:20,  1.35it/s]\u001b[A"
          ]
        },
        {
          "output_type": "stream",
          "name": "stdout",
          "text": [
            "\r0.00026 0.00000"
          ]
        },
        {
          "output_type": "stream",
          "name": "stderr",
          "text": [
            "\n",
            "Iteration:   6%|▌         | 11/200 [00:08<02:19,  1.35it/s]\u001b[A"
          ]
        },
        {
          "output_type": "stream",
          "name": "stdout",
          "text": [
            "\r0.00034 0.00000"
          ]
        },
        {
          "output_type": "stream",
          "name": "stderr",
          "text": [
            "\n",
            "Iteration:   6%|▌         | 12/200 [00:08<02:19,  1.35it/s]\u001b[A"
          ]
        },
        {
          "output_type": "stream",
          "name": "stdout",
          "text": [
            "\r0.00043 0.00000"
          ]
        },
        {
          "output_type": "stream",
          "name": "stderr",
          "text": [
            "\n",
            "Iteration:   6%|▋         | 13/200 [00:09<02:18,  1.35it/s]\u001b[A"
          ]
        },
        {
          "output_type": "stream",
          "name": "stdout",
          "text": [
            "\r0.00020 0.00000"
          ]
        },
        {
          "output_type": "stream",
          "name": "stderr",
          "text": [
            "\n",
            "Iteration:   7%|▋         | 14/200 [00:10<02:18,  1.34it/s]\u001b[A"
          ]
        },
        {
          "output_type": "stream",
          "name": "stdout",
          "text": [
            "\r0.00037 0.00000"
          ]
        },
        {
          "output_type": "stream",
          "name": "stderr",
          "text": [
            "\n",
            "Iteration:   8%|▊         | 15/200 [00:11<02:18,  1.34it/s]\u001b[A"
          ]
        },
        {
          "output_type": "stream",
          "name": "stdout",
          "text": [
            "\r0.00036 0.00000"
          ]
        },
        {
          "output_type": "stream",
          "name": "stderr",
          "text": [
            "\n",
            "Iteration:   8%|▊         | 16/200 [00:11<02:17,  1.33it/s]\u001b[A"
          ]
        },
        {
          "output_type": "stream",
          "name": "stdout",
          "text": [
            "\r0.00040 0.00000"
          ]
        },
        {
          "output_type": "stream",
          "name": "stderr",
          "text": [
            "\n",
            "Iteration:   8%|▊         | 17/200 [00:12<02:16,  1.34it/s]\u001b[A"
          ]
        },
        {
          "output_type": "stream",
          "name": "stdout",
          "text": [
            "\r0.00037 0.00000"
          ]
        },
        {
          "output_type": "stream",
          "name": "stderr",
          "text": [
            "\n",
            "Iteration:   9%|▉         | 18/200 [00:13<02:15,  1.34it/s]\u001b[A"
          ]
        },
        {
          "output_type": "stream",
          "name": "stdout",
          "text": [
            "\r0.00040 0.00000"
          ]
        },
        {
          "output_type": "stream",
          "name": "stderr",
          "text": [
            "\n",
            "Iteration:  10%|▉         | 19/200 [00:14<02:14,  1.34it/s]\u001b[A"
          ]
        },
        {
          "output_type": "stream",
          "name": "stdout",
          "text": [
            "\r0.00042 0.00000"
          ]
        },
        {
          "output_type": "stream",
          "name": "stderr",
          "text": [
            "\n",
            "Iteration:  10%|█         | 20/200 [00:14<02:13,  1.34it/s]\u001b[A"
          ]
        },
        {
          "output_type": "stream",
          "name": "stdout",
          "text": [
            "\r0.00037 0.00000"
          ]
        },
        {
          "output_type": "stream",
          "name": "stderr",
          "text": [
            "\n",
            "Iteration:  10%|█         | 21/200 [00:15<02:12,  1.35it/s]\u001b[A"
          ]
        },
        {
          "output_type": "stream",
          "name": "stdout",
          "text": [
            "\r0.00101 0.00000"
          ]
        },
        {
          "output_type": "stream",
          "name": "stderr",
          "text": [
            "\n",
            "Iteration:  11%|█         | 22/200 [00:16<02:11,  1.35it/s]\u001b[A"
          ]
        },
        {
          "output_type": "stream",
          "name": "stdout",
          "text": [
            "\r0.00032 0.00000"
          ]
        },
        {
          "output_type": "stream",
          "name": "stderr",
          "text": [
            "\n",
            "Iteration:  12%|█▏        | 23/200 [00:17<02:11,  1.35it/s]\u001b[A"
          ]
        },
        {
          "output_type": "stream",
          "name": "stdout",
          "text": [
            "\r0.00034 0.00000"
          ]
        },
        {
          "output_type": "stream",
          "name": "stderr",
          "text": [
            "\n",
            "Iteration:  12%|█▏        | 24/200 [00:17<02:10,  1.34it/s]\u001b[A"
          ]
        },
        {
          "output_type": "stream",
          "name": "stdout",
          "text": [
            "\r0.00028 0.00000"
          ]
        },
        {
          "output_type": "stream",
          "name": "stderr",
          "text": [
            "\n",
            "Iteration:  12%|█▎        | 25/200 [00:18<02:09,  1.35it/s]\u001b[A"
          ]
        },
        {
          "output_type": "stream",
          "name": "stdout",
          "text": [
            "\r0.00019 0.00000"
          ]
        },
        {
          "output_type": "stream",
          "name": "stderr",
          "text": [
            "\n",
            "Iteration:  13%|█▎        | 26/200 [00:19<02:09,  1.35it/s]\u001b[A"
          ]
        },
        {
          "output_type": "stream",
          "name": "stdout",
          "text": [
            "\r0.00036 0.00000"
          ]
        },
        {
          "output_type": "stream",
          "name": "stderr",
          "text": [
            "\n",
            "Iteration:  14%|█▎        | 27/200 [00:20<02:08,  1.35it/s]\u001b[A"
          ]
        },
        {
          "output_type": "stream",
          "name": "stdout",
          "text": [
            "\r0.00029 0.00000"
          ]
        },
        {
          "output_type": "stream",
          "name": "stderr",
          "text": [
            "\n",
            "Iteration:  14%|█▍        | 28/200 [00:20<02:07,  1.35it/s]\u001b[A"
          ]
        },
        {
          "output_type": "stream",
          "name": "stdout",
          "text": [
            "\r0.00029 0.00000"
          ]
        },
        {
          "output_type": "stream",
          "name": "stderr",
          "text": [
            "\n",
            "Iteration:  14%|█▍        | 29/200 [00:21<02:06,  1.35it/s]\u001b[A"
          ]
        },
        {
          "output_type": "stream",
          "name": "stdout",
          "text": [
            "\r0.00023 0.00000"
          ]
        },
        {
          "output_type": "stream",
          "name": "stderr",
          "text": [
            "\n",
            "Iteration:  15%|█▌        | 30/200 [00:22<02:05,  1.35it/s]\u001b[A"
          ]
        },
        {
          "output_type": "stream",
          "name": "stdout",
          "text": [
            "\r0.00032 0.00000"
          ]
        },
        {
          "output_type": "stream",
          "name": "stderr",
          "text": [
            "\n",
            "Iteration:  16%|█▌        | 31/200 [00:23<02:04,  1.35it/s]\u001b[A"
          ]
        },
        {
          "output_type": "stream",
          "name": "stdout",
          "text": [
            "\r0.80492 0.00000"
          ]
        },
        {
          "output_type": "stream",
          "name": "stderr",
          "text": [
            "\n",
            "Iteration:  16%|█▌        | 32/200 [00:23<02:04,  1.35it/s]\u001b[A"
          ]
        },
        {
          "output_type": "stream",
          "name": "stdout",
          "text": [
            "\r0.00906 0.00000"
          ]
        },
        {
          "output_type": "stream",
          "name": "stderr",
          "text": [
            "\n",
            "Iteration:  16%|█▋        | 33/200 [00:24<02:03,  1.35it/s]\u001b[A"
          ]
        },
        {
          "output_type": "stream",
          "name": "stdout",
          "text": [
            "\r0.00025 0.00000"
          ]
        },
        {
          "output_type": "stream",
          "name": "stderr",
          "text": [
            "\n",
            "Iteration:  17%|█▋        | 34/200 [00:25<02:02,  1.35it/s]\u001b[A"
          ]
        },
        {
          "output_type": "stream",
          "name": "stdout",
          "text": [
            "\r0.00033 0.00000"
          ]
        },
        {
          "output_type": "stream",
          "name": "stderr",
          "text": [
            "\n",
            "Iteration:  18%|█▊        | 35/200 [00:25<02:02,  1.35it/s]\u001b[A"
          ]
        },
        {
          "output_type": "stream",
          "name": "stdout",
          "text": [
            "\r0.00032 0.00000"
          ]
        },
        {
          "output_type": "stream",
          "name": "stderr",
          "text": [
            "\n",
            "Iteration:  18%|█▊        | 36/200 [00:26<02:01,  1.35it/s]\u001b[A"
          ]
        },
        {
          "output_type": "stream",
          "name": "stdout",
          "text": [
            "\r0.00030 0.00000"
          ]
        },
        {
          "output_type": "stream",
          "name": "stderr",
          "text": [
            "\n",
            "Iteration:  18%|█▊        | 37/200 [00:27<02:00,  1.35it/s]\u001b[A"
          ]
        },
        {
          "output_type": "stream",
          "name": "stdout",
          "text": [
            "\r0.00031 0.00000"
          ]
        },
        {
          "output_type": "stream",
          "name": "stderr",
          "text": [
            "\n",
            "Iteration:  19%|█▉        | 38/200 [00:28<01:59,  1.36it/s]\u001b[A"
          ]
        },
        {
          "output_type": "stream",
          "name": "stdout",
          "text": [
            "\r0.00029 0.00000"
          ]
        },
        {
          "output_type": "stream",
          "name": "stderr",
          "text": [
            "\n",
            "Iteration:  20%|█▉        | 39/200 [00:28<01:58,  1.35it/s]\u001b[A"
          ]
        },
        {
          "output_type": "stream",
          "name": "stdout",
          "text": [
            "\r0.00029 0.00000"
          ]
        },
        {
          "output_type": "stream",
          "name": "stderr",
          "text": [
            "\n",
            "Iteration:  20%|██        | 40/200 [00:29<01:58,  1.35it/s]\u001b[A"
          ]
        },
        {
          "output_type": "stream",
          "name": "stdout",
          "text": [
            "\r0.00040 0.00000"
          ]
        },
        {
          "output_type": "stream",
          "name": "stderr",
          "text": [
            "\n",
            "Iteration:  20%|██        | 41/200 [00:30<01:57,  1.35it/s]\u001b[A"
          ]
        },
        {
          "output_type": "stream",
          "name": "stdout",
          "text": [
            "\r0.00029 0.00000"
          ]
        },
        {
          "output_type": "stream",
          "name": "stderr",
          "text": [
            "\n",
            "Iteration:  21%|██        | 42/200 [00:31<01:57,  1.35it/s]\u001b[A"
          ]
        },
        {
          "output_type": "stream",
          "name": "stdout",
          "text": [
            "\r0.00037 0.00000"
          ]
        },
        {
          "output_type": "stream",
          "name": "stderr",
          "text": [
            "\n",
            "Iteration:  22%|██▏       | 43/200 [00:31<01:56,  1.35it/s]\u001b[A"
          ]
        },
        {
          "output_type": "stream",
          "name": "stdout",
          "text": [
            "\r0.00028 0.00000"
          ]
        },
        {
          "output_type": "stream",
          "name": "stderr",
          "text": [
            "\n",
            "Iteration:  22%|██▏       | 44/200 [00:32<01:55,  1.35it/s]\u001b[A"
          ]
        },
        {
          "output_type": "stream",
          "name": "stdout",
          "text": [
            "\r0.00027 0.00000"
          ]
        },
        {
          "output_type": "stream",
          "name": "stderr",
          "text": [
            "\n",
            "Iteration:  22%|██▎       | 45/200 [00:33<01:54,  1.35it/s]\u001b[A"
          ]
        },
        {
          "output_type": "stream",
          "name": "stdout",
          "text": [
            "\r0.36686 0.00000"
          ]
        },
        {
          "output_type": "stream",
          "name": "stderr",
          "text": [
            "\n",
            "Iteration:  23%|██▎       | 46/200 [00:34<01:54,  1.35it/s]\u001b[A"
          ]
        },
        {
          "output_type": "stream",
          "name": "stdout",
          "text": [
            "\r0.00157 0.00000"
          ]
        },
        {
          "output_type": "stream",
          "name": "stderr",
          "text": [
            "\n",
            "Iteration:  24%|██▎       | 47/200 [00:34<01:53,  1.35it/s]\u001b[A"
          ]
        },
        {
          "output_type": "stream",
          "name": "stdout",
          "text": [
            "\r0.00042 0.00000"
          ]
        },
        {
          "output_type": "stream",
          "name": "stderr",
          "text": [
            "\n",
            "Iteration:  24%|██▍       | 48/200 [00:35<01:52,  1.35it/s]\u001b[A"
          ]
        },
        {
          "output_type": "stream",
          "name": "stdout",
          "text": [
            "\r0.00032 0.00000"
          ]
        },
        {
          "output_type": "stream",
          "name": "stderr",
          "text": [
            "\n",
            "Iteration:  24%|██▍       | 49/200 [00:36<01:51,  1.35it/s]\u001b[A"
          ]
        },
        {
          "output_type": "stream",
          "name": "stdout",
          "text": [
            "\r0.00051 0.00000"
          ]
        },
        {
          "output_type": "stream",
          "name": "stderr",
          "text": [
            "\n",
            "Iteration:  25%|██▌       | 50/200 [00:37<01:50,  1.35it/s]\u001b[A"
          ]
        },
        {
          "output_type": "stream",
          "name": "stdout",
          "text": [
            "\r0.00050 0.00000"
          ]
        },
        {
          "output_type": "stream",
          "name": "stderr",
          "text": [
            "\n",
            "Iteration:  26%|██▌       | 51/200 [00:37<01:49,  1.36it/s]\u001b[A"
          ]
        },
        {
          "output_type": "stream",
          "name": "stdout",
          "text": [
            "\r0.00026 0.00000"
          ]
        },
        {
          "output_type": "stream",
          "name": "stderr",
          "text": [
            "\n",
            "Iteration:  26%|██▌       | 52/200 [00:38<01:49,  1.36it/s]\u001b[A"
          ]
        },
        {
          "output_type": "stream",
          "name": "stdout",
          "text": [
            "\r0.00041 0.00000"
          ]
        },
        {
          "output_type": "stream",
          "name": "stderr",
          "text": [
            "\n",
            "Iteration:  26%|██▋       | 53/200 [00:39<01:48,  1.36it/s]\u001b[A"
          ]
        },
        {
          "output_type": "stream",
          "name": "stdout",
          "text": [
            "\r0.00024 0.00000"
          ]
        },
        {
          "output_type": "stream",
          "name": "stderr",
          "text": [
            "\n",
            "Iteration:  27%|██▋       | 54/200 [00:40<01:47,  1.35it/s]\u001b[A"
          ]
        },
        {
          "output_type": "stream",
          "name": "stdout",
          "text": [
            "\r0.00025 0.00000"
          ]
        },
        {
          "output_type": "stream",
          "name": "stderr",
          "text": [
            "\n",
            "Iteration:  28%|██▊       | 55/200 [00:40<01:47,  1.36it/s]\u001b[A"
          ]
        },
        {
          "output_type": "stream",
          "name": "stdout",
          "text": [
            "\r0.00024 0.00000"
          ]
        },
        {
          "output_type": "stream",
          "name": "stderr",
          "text": [
            "\n",
            "Iteration:  28%|██▊       | 56/200 [00:41<01:46,  1.35it/s]\u001b[A"
          ]
        },
        {
          "output_type": "stream",
          "name": "stdout",
          "text": [
            "\r0.00014 0.00000"
          ]
        },
        {
          "output_type": "stream",
          "name": "stderr",
          "text": [
            "\n",
            "Iteration:  28%|██▊       | 57/200 [00:42<01:45,  1.35it/s]\u001b[A"
          ]
        },
        {
          "output_type": "stream",
          "name": "stdout",
          "text": [
            "\r0.00022 0.00000"
          ]
        },
        {
          "output_type": "stream",
          "name": "stderr",
          "text": [
            "\n",
            "Iteration:  29%|██▉       | 58/200 [00:42<01:44,  1.35it/s]\u001b[A"
          ]
        },
        {
          "output_type": "stream",
          "name": "stdout",
          "text": [
            "\r0.00032 0.00000"
          ]
        },
        {
          "output_type": "stream",
          "name": "stderr",
          "text": [
            "\n",
            "Iteration:  30%|██▉       | 59/200 [00:43<01:43,  1.36it/s]\u001b[A"
          ]
        },
        {
          "output_type": "stream",
          "name": "stdout",
          "text": [
            "\r0.00043 0.00000"
          ]
        },
        {
          "output_type": "stream",
          "name": "stderr",
          "text": [
            "\n",
            "Iteration:  30%|███       | 60/200 [00:44<01:43,  1.35it/s]\u001b[A"
          ]
        },
        {
          "output_type": "stream",
          "name": "stdout",
          "text": [
            "\r0.00023 0.00000"
          ]
        },
        {
          "output_type": "stream",
          "name": "stderr",
          "text": [
            "\n",
            "Iteration:  30%|███       | 61/200 [00:45<01:42,  1.36it/s]\u001b[A"
          ]
        },
        {
          "output_type": "stream",
          "name": "stdout",
          "text": [
            "\r0.00017 0.00000"
          ]
        },
        {
          "output_type": "stream",
          "name": "stderr",
          "text": [
            "\n",
            "Iteration:  31%|███       | 62/200 [00:45<01:41,  1.36it/s]\u001b[A"
          ]
        },
        {
          "output_type": "stream",
          "name": "stdout",
          "text": [
            "\r0.00023 0.00000"
          ]
        },
        {
          "output_type": "stream",
          "name": "stderr",
          "text": [
            "\n",
            "Iteration:  32%|███▏      | 63/200 [00:46<01:41,  1.36it/s]\u001b[A"
          ]
        },
        {
          "output_type": "stream",
          "name": "stdout",
          "text": [
            "\r0.00018 0.00000"
          ]
        },
        {
          "output_type": "stream",
          "name": "stderr",
          "text": [
            "\n",
            "Iteration:  32%|███▏      | 64/200 [00:47<01:40,  1.35it/s]\u001b[A"
          ]
        },
        {
          "output_type": "stream",
          "name": "stdout",
          "text": [
            "\r0.00025 0.00000"
          ]
        },
        {
          "output_type": "stream",
          "name": "stderr",
          "text": [
            "\n",
            "Iteration:  32%|███▎      | 65/200 [00:48<01:39,  1.35it/s]\u001b[A"
          ]
        },
        {
          "output_type": "stream",
          "name": "stdout",
          "text": [
            "\r0.00014 0.00000"
          ]
        },
        {
          "output_type": "stream",
          "name": "stderr",
          "text": [
            "\n",
            "Iteration:  33%|███▎      | 66/200 [00:48<01:39,  1.35it/s]\u001b[A"
          ]
        },
        {
          "output_type": "stream",
          "name": "stdout",
          "text": [
            "\r0.00032 0.00000"
          ]
        },
        {
          "output_type": "stream",
          "name": "stderr",
          "text": [
            "\n",
            "Iteration:  34%|███▎      | 67/200 [00:49<01:38,  1.35it/s]\u001b[A"
          ]
        },
        {
          "output_type": "stream",
          "name": "stdout",
          "text": [
            "\r0.00021 0.00000"
          ]
        },
        {
          "output_type": "stream",
          "name": "stderr",
          "text": [
            "\n",
            "Iteration:  34%|███▍      | 68/200 [00:50<01:37,  1.35it/s]\u001b[A"
          ]
        },
        {
          "output_type": "stream",
          "name": "stdout",
          "text": [
            "\r0.00034 0.00000"
          ]
        },
        {
          "output_type": "stream",
          "name": "stderr",
          "text": [
            "\n",
            "Iteration:  34%|███▍      | 69/200 [00:51<01:36,  1.35it/s]\u001b[A"
          ]
        },
        {
          "output_type": "stream",
          "name": "stdout",
          "text": [
            "\r0.00017 0.00000"
          ]
        },
        {
          "output_type": "stream",
          "name": "stderr",
          "text": [
            "\n",
            "Iteration:  35%|███▌      | 70/200 [00:51<01:36,  1.35it/s]\u001b[A"
          ]
        },
        {
          "output_type": "stream",
          "name": "stdout",
          "text": [
            "\r0.00023 0.00000"
          ]
        },
        {
          "output_type": "stream",
          "name": "stderr",
          "text": [
            "\n",
            "Iteration:  36%|███▌      | 71/200 [00:52<01:35,  1.35it/s]\u001b[A"
          ]
        },
        {
          "output_type": "stream",
          "name": "stdout",
          "text": [
            "\r0.00026 0.00000"
          ]
        },
        {
          "output_type": "stream",
          "name": "stderr",
          "text": [
            "\n",
            "Iteration:  36%|███▌      | 72/200 [00:53<01:34,  1.35it/s]\u001b[A"
          ]
        },
        {
          "output_type": "stream",
          "name": "stdout",
          "text": [
            "\r0.00025 0.00000"
          ]
        },
        {
          "output_type": "stream",
          "name": "stderr",
          "text": [
            "\n",
            "Iteration:  36%|███▋      | 73/200 [00:54<01:33,  1.35it/s]\u001b[A"
          ]
        },
        {
          "output_type": "stream",
          "name": "stdout",
          "text": [
            "\r0.00023 0.00000"
          ]
        },
        {
          "output_type": "stream",
          "name": "stderr",
          "text": [
            "\n",
            "Iteration:  37%|███▋      | 74/200 [00:54<01:33,  1.35it/s]\u001b[A"
          ]
        },
        {
          "output_type": "stream",
          "name": "stdout",
          "text": [
            "\r0.00035 0.00000"
          ]
        },
        {
          "output_type": "stream",
          "name": "stderr",
          "text": [
            "\n",
            "Iteration:  38%|███▊      | 75/200 [00:55<01:32,  1.35it/s]\u001b[A"
          ]
        },
        {
          "output_type": "stream",
          "name": "stdout",
          "text": [
            "\r0.00018 0.00000"
          ]
        },
        {
          "output_type": "stream",
          "name": "stderr",
          "text": [
            "\n",
            "Iteration:  38%|███▊      | 76/200 [00:56<01:31,  1.35it/s]\u001b[A"
          ]
        },
        {
          "output_type": "stream",
          "name": "stdout",
          "text": [
            "\r0.00026 0.00000"
          ]
        },
        {
          "output_type": "stream",
          "name": "stderr",
          "text": [
            "\n",
            "Iteration:  38%|███▊      | 77/200 [00:57<01:30,  1.35it/s]\u001b[A"
          ]
        },
        {
          "output_type": "stream",
          "name": "stdout",
          "text": [
            "\r0.00018 0.00000"
          ]
        },
        {
          "output_type": "stream",
          "name": "stderr",
          "text": [
            "\n",
            "Iteration:  39%|███▉      | 78/200 [00:57<01:30,  1.35it/s]\u001b[A"
          ]
        },
        {
          "output_type": "stream",
          "name": "stdout",
          "text": [
            "\r0.00017 0.00000"
          ]
        },
        {
          "output_type": "stream",
          "name": "stderr",
          "text": [
            "\n",
            "Iteration:  40%|███▉      | 79/200 [00:58<01:29,  1.35it/s]\u001b[A"
          ]
        },
        {
          "output_type": "stream",
          "name": "stdout",
          "text": [
            "\r0.00018 0.00000"
          ]
        },
        {
          "output_type": "stream",
          "name": "stderr",
          "text": [
            "\n",
            "Iteration:  40%|████      | 80/200 [00:59<01:28,  1.36it/s]\u001b[A"
          ]
        },
        {
          "output_type": "stream",
          "name": "stdout",
          "text": [
            "\r0.00019 0.00000"
          ]
        },
        {
          "output_type": "stream",
          "name": "stderr",
          "text": [
            "\n",
            "Iteration:  40%|████      | 81/200 [00:59<01:27,  1.36it/s]\u001b[A"
          ]
        },
        {
          "output_type": "stream",
          "name": "stdout",
          "text": [
            "\r0.00014 0.00000"
          ]
        },
        {
          "output_type": "stream",
          "name": "stderr",
          "text": [
            "\n",
            "Iteration:  41%|████      | 82/200 [01:00<01:27,  1.35it/s]\u001b[A"
          ]
        },
        {
          "output_type": "stream",
          "name": "stdout",
          "text": [
            "\r0.00016 0.00000"
          ]
        },
        {
          "output_type": "stream",
          "name": "stderr",
          "text": [
            "\n",
            "Iteration:  42%|████▏     | 83/200 [01:01<01:26,  1.36it/s]\u001b[A"
          ]
        },
        {
          "output_type": "stream",
          "name": "stdout",
          "text": [
            "\r0.36035 0.00000"
          ]
        },
        {
          "output_type": "stream",
          "name": "stderr",
          "text": [
            "\n",
            "Iteration:  42%|████▏     | 84/200 [01:02<01:25,  1.35it/s]\u001b[A"
          ]
        },
        {
          "output_type": "stream",
          "name": "stdout",
          "text": [
            "\r0.00023 0.00000"
          ]
        },
        {
          "output_type": "stream",
          "name": "stderr",
          "text": [
            "\n",
            "Iteration:  42%|████▎     | 85/200 [01:02<01:25,  1.35it/s]\u001b[A"
          ]
        },
        {
          "output_type": "stream",
          "name": "stdout",
          "text": [
            "\r0.00015 0.00000"
          ]
        },
        {
          "output_type": "stream",
          "name": "stderr",
          "text": [
            "\n",
            "Iteration:  43%|████▎     | 86/200 [01:03<01:24,  1.35it/s]\u001b[A"
          ]
        },
        {
          "output_type": "stream",
          "name": "stdout",
          "text": [
            "\r0.00013 0.00000"
          ]
        },
        {
          "output_type": "stream",
          "name": "stderr",
          "text": [
            "\n",
            "Iteration:  44%|████▎     | 87/200 [01:04<01:23,  1.35it/s]\u001b[A"
          ]
        },
        {
          "output_type": "stream",
          "name": "stdout",
          "text": [
            "\r0.00020 0.00000"
          ]
        },
        {
          "output_type": "stream",
          "name": "stderr",
          "text": [
            "\n",
            "Iteration:  44%|████▍     | 88/200 [01:05<01:22,  1.35it/s]\u001b[A"
          ]
        },
        {
          "output_type": "stream",
          "name": "stdout",
          "text": [
            "\r0.00015 0.00000"
          ]
        },
        {
          "output_type": "stream",
          "name": "stderr",
          "text": [
            "\n",
            "Iteration:  44%|████▍     | 89/200 [01:05<01:22,  1.35it/s]\u001b[A"
          ]
        },
        {
          "output_type": "stream",
          "name": "stdout",
          "text": [
            "\r0.00020 0.00000"
          ]
        },
        {
          "output_type": "stream",
          "name": "stderr",
          "text": [
            "\n",
            "Iteration:  45%|████▌     | 90/200 [01:06<01:21,  1.35it/s]\u001b[A"
          ]
        },
        {
          "output_type": "stream",
          "name": "stdout",
          "text": [
            "\r0.00014 0.00000"
          ]
        },
        {
          "output_type": "stream",
          "name": "stderr",
          "text": [
            "\n",
            "Iteration:  46%|████▌     | 91/200 [01:07<01:20,  1.35it/s]\u001b[A"
          ]
        },
        {
          "output_type": "stream",
          "name": "stdout",
          "text": [
            "\r0.00023 0.00000"
          ]
        },
        {
          "output_type": "stream",
          "name": "stderr",
          "text": [
            "\n",
            "Iteration:  46%|████▌     | 92/200 [01:08<01:19,  1.36it/s]\u001b[A"
          ]
        },
        {
          "output_type": "stream",
          "name": "stdout",
          "text": [
            "\r0.00027 0.00000"
          ]
        },
        {
          "output_type": "stream",
          "name": "stderr",
          "text": [
            "\n",
            "Iteration:  46%|████▋     | 93/200 [01:08<01:18,  1.36it/s]\u001b[A"
          ]
        },
        {
          "output_type": "stream",
          "name": "stdout",
          "text": [
            "\r0.00014 0.00000"
          ]
        },
        {
          "output_type": "stream",
          "name": "stderr",
          "text": [
            "\n",
            "Iteration:  47%|████▋     | 94/200 [01:09<01:18,  1.36it/s]\u001b[A"
          ]
        },
        {
          "output_type": "stream",
          "name": "stdout",
          "text": [
            "\r0.00024 0.00000"
          ]
        },
        {
          "output_type": "stream",
          "name": "stderr",
          "text": [
            "\n",
            "Iteration:  48%|████▊     | 95/200 [01:10<01:17,  1.36it/s]\u001b[A"
          ]
        },
        {
          "output_type": "stream",
          "name": "stdout",
          "text": [
            "\r0.00017 0.00000"
          ]
        },
        {
          "output_type": "stream",
          "name": "stderr",
          "text": [
            "\n",
            "Iteration:  48%|████▊     | 96/200 [01:11<01:16,  1.36it/s]\u001b[A"
          ]
        },
        {
          "output_type": "stream",
          "name": "stdout",
          "text": [
            "\r0.00018 0.00000"
          ]
        },
        {
          "output_type": "stream",
          "name": "stderr",
          "text": [
            "\n",
            "Iteration:  48%|████▊     | 97/200 [01:11<01:15,  1.36it/s]\u001b[A"
          ]
        },
        {
          "output_type": "stream",
          "name": "stdout",
          "text": [
            "\r0.00019 0.00000"
          ]
        },
        {
          "output_type": "stream",
          "name": "stderr",
          "text": [
            "\n",
            "Iteration:  49%|████▉     | 98/200 [01:12<01:15,  1.35it/s]\u001b[A"
          ]
        },
        {
          "output_type": "stream",
          "name": "stdout",
          "text": [
            "\r0.00057 0.00000"
          ]
        },
        {
          "output_type": "stream",
          "name": "stderr",
          "text": [
            "\n",
            "Iteration:  50%|████▉     | 99/200 [01:13<01:14,  1.35it/s]\u001b[A"
          ]
        },
        {
          "output_type": "stream",
          "name": "stdout",
          "text": [
            "\r0.00023 0.00000"
          ]
        },
        {
          "output_type": "stream",
          "name": "stderr",
          "text": [
            "INFO:root:Creating features from dataset file at ./drive/MyDrive/tvd5455/VvsNV/common_data/\n",
            "INFO:root:Saving features into cached file ./drive/MyDrive/tvd5455/VvsNV/Relations/processed_data/cached_dev_roberta-large_128_both\n",
            "INFO:root:***** Running evaluation  *****\n",
            "INFO:root:  Num examples = 800\n",
            "INFO:root:  Batch size = 128\n"
          ]
        },
        {
          "output_type": "stream",
          "name": "stdout",
          "text": [
            "0.39430 0.00000"
          ]
        },
        {
          "output_type": "stream",
          "name": "stderr",
          "text": [
            "INFO:root:***** Eval results  *****\n",
            "INFO:root:  f1 = 0.46153846153846156\n",
            "INFO:root:  fn = 26\n",
            "INFO:root:  fp = 16\n",
            "INFO:root:  mcc = 0.4384128500983266\n",
            "INFO:root:  rmse = 0.4658305\n",
            "INFO:root:  tn = 740\n",
            "INFO:root:  tp = 18\n",
            "/usr/local/lib/python3.7/dist-packages/torch/optim/lr_scheduler.py:247: UserWarning: To get the last learning rate computed by the scheduler, please use `get_last_lr()`.\n",
            "  warnings.warn(\"To get the last learning rate computed by the scheduler, \"\n",
            "\n",
            "Iteration:  50%|█████     | 100/200 [01:24<06:17,  3.78s/it]\u001b[A"
          ]
        },
        {
          "output_type": "stream",
          "name": "stdout",
          "text": [
            "0.00027 0.00000"
          ]
        },
        {
          "output_type": "stream",
          "name": "stderr",
          "text": [
            "\n",
            "Iteration:  50%|█████     | 101/200 [01:24<04:43,  2.87s/it]\u001b[A"
          ]
        },
        {
          "output_type": "stream",
          "name": "stdout",
          "text": [
            "\r0.00015 0.00000"
          ]
        },
        {
          "output_type": "stream",
          "name": "stderr",
          "text": [
            "\n",
            "Iteration:  51%|█████     | 102/200 [01:25<03:38,  2.23s/it]\u001b[A"
          ]
        },
        {
          "output_type": "stream",
          "name": "stdout",
          "text": [
            "\r0.00014 0.00000"
          ]
        },
        {
          "output_type": "stream",
          "name": "stderr",
          "text": [
            "\n",
            "Iteration:  52%|█████▏    | 103/200 [01:26<02:52,  1.78s/it]\u001b[A"
          ]
        },
        {
          "output_type": "stream",
          "name": "stdout",
          "text": [
            "\r0.00012 0.00000"
          ]
        },
        {
          "output_type": "stream",
          "name": "stderr",
          "text": [
            "\n",
            "Iteration:  52%|█████▏    | 104/200 [01:27<02:20,  1.47s/it]\u001b[A"
          ]
        },
        {
          "output_type": "stream",
          "name": "stdout",
          "text": [
            "\r0.00012 0.00000"
          ]
        },
        {
          "output_type": "stream",
          "name": "stderr",
          "text": [
            "\n",
            "Iteration:  52%|█████▎    | 105/200 [01:27<01:58,  1.25s/it]\u001b[A"
          ]
        },
        {
          "output_type": "stream",
          "name": "stdout",
          "text": [
            "\r0.00028 0.00000"
          ]
        },
        {
          "output_type": "stream",
          "name": "stderr",
          "text": [
            "\n",
            "Iteration:  53%|█████▎    | 106/200 [01:28<01:42,  1.09s/it]\u001b[A"
          ]
        },
        {
          "output_type": "stream",
          "name": "stdout",
          "text": [
            "\r0.00034 0.00000"
          ]
        },
        {
          "output_type": "stream",
          "name": "stderr",
          "text": [
            "\n",
            "Iteration:  54%|█████▎    | 107/200 [01:29<01:31,  1.01it/s]\u001b[A"
          ]
        },
        {
          "output_type": "stream",
          "name": "stdout",
          "text": [
            "\r0.00017 0.00000"
          ]
        },
        {
          "output_type": "stream",
          "name": "stderr",
          "text": [
            "\n",
            "Iteration:  54%|█████▍    | 108/200 [01:30<01:23,  1.10it/s]\u001b[A"
          ]
        },
        {
          "output_type": "stream",
          "name": "stdout",
          "text": [
            "\r0.00019 0.00000"
          ]
        },
        {
          "output_type": "stream",
          "name": "stderr",
          "text": [
            "\n",
            "Iteration:  55%|█████▍    | 109/200 [01:30<01:18,  1.16it/s]\u001b[A"
          ]
        },
        {
          "output_type": "stream",
          "name": "stdout",
          "text": [
            "\r0.00021 0.00000"
          ]
        },
        {
          "output_type": "stream",
          "name": "stderr",
          "text": [
            "\n",
            "Iteration:  55%|█████▌    | 110/200 [01:31<01:14,  1.21it/s]\u001b[A"
          ]
        },
        {
          "output_type": "stream",
          "name": "stdout",
          "text": [
            "\r0.00223 0.00000"
          ]
        },
        {
          "output_type": "stream",
          "name": "stderr",
          "text": [
            "\n",
            "Iteration:  56%|█████▌    | 111/200 [01:32<01:11,  1.25it/s]\u001b[A"
          ]
        },
        {
          "output_type": "stream",
          "name": "stdout",
          "text": [
            "\r0.00013 0.00000"
          ]
        },
        {
          "output_type": "stream",
          "name": "stderr",
          "text": [
            "\n",
            "Iteration:  56%|█████▌    | 112/200 [01:33<01:09,  1.27it/s]\u001b[A"
          ]
        },
        {
          "output_type": "stream",
          "name": "stdout",
          "text": [
            "\r0.00008 0.00000"
          ]
        },
        {
          "output_type": "stream",
          "name": "stderr",
          "text": [
            "\n",
            "Iteration:  56%|█████▋    | 113/200 [01:33<01:07,  1.30it/s]\u001b[A"
          ]
        },
        {
          "output_type": "stream",
          "name": "stdout",
          "text": [
            "\r0.00013 0.00000"
          ]
        },
        {
          "output_type": "stream",
          "name": "stderr",
          "text": [
            "\n",
            "Iteration:  57%|█████▋    | 114/200 [01:34<01:05,  1.31it/s]\u001b[A"
          ]
        },
        {
          "output_type": "stream",
          "name": "stdout",
          "text": [
            "\r0.00016 0.00000"
          ]
        },
        {
          "output_type": "stream",
          "name": "stderr",
          "text": [
            "\n",
            "Iteration:  57%|█████▊    | 115/200 [01:35<01:04,  1.32it/s]\u001b[A"
          ]
        },
        {
          "output_type": "stream",
          "name": "stdout",
          "text": [
            "\r0.00013 0.00000"
          ]
        },
        {
          "output_type": "stream",
          "name": "stderr",
          "text": [
            "\n",
            "Iteration:  58%|█████▊    | 116/200 [01:35<01:02,  1.33it/s]\u001b[A"
          ]
        },
        {
          "output_type": "stream",
          "name": "stdout",
          "text": [
            "\r0.00011 0.00000"
          ]
        },
        {
          "output_type": "stream",
          "name": "stderr",
          "text": [
            "\n",
            "Iteration:  58%|█████▊    | 117/200 [01:36<01:01,  1.34it/s]\u001b[A"
          ]
        },
        {
          "output_type": "stream",
          "name": "stdout",
          "text": [
            "\r0.00014 0.00000"
          ]
        },
        {
          "output_type": "stream",
          "name": "stderr",
          "text": [
            "\n",
            "Iteration:  59%|█████▉    | 118/200 [01:37<01:00,  1.34it/s]\u001b[A"
          ]
        },
        {
          "output_type": "stream",
          "name": "stdout",
          "text": [
            "\r0.00014 0.00000"
          ]
        },
        {
          "output_type": "stream",
          "name": "stderr",
          "text": [
            "\n",
            "Iteration:  60%|█████▉    | 119/200 [01:38<01:00,  1.34it/s]\u001b[A"
          ]
        },
        {
          "output_type": "stream",
          "name": "stdout",
          "text": [
            "\r0.00011 0.00000"
          ]
        },
        {
          "output_type": "stream",
          "name": "stderr",
          "text": [
            "\n",
            "Iteration:  60%|██████    | 120/200 [01:38<00:59,  1.35it/s]\u001b[A"
          ]
        },
        {
          "output_type": "stream",
          "name": "stdout",
          "text": [
            "\r0.00014 0.00000"
          ]
        },
        {
          "output_type": "stream",
          "name": "stderr",
          "text": [
            "\n",
            "Iteration:  60%|██████    | 121/200 [01:39<00:58,  1.35it/s]\u001b[A"
          ]
        },
        {
          "output_type": "stream",
          "name": "stdout",
          "text": [
            "\r0.00006 0.00000"
          ]
        },
        {
          "output_type": "stream",
          "name": "stderr",
          "text": [
            "\n",
            "Iteration:  61%|██████    | 122/200 [01:40<00:57,  1.35it/s]\u001b[A"
          ]
        },
        {
          "output_type": "stream",
          "name": "stdout",
          "text": [
            "\r0.00014 0.00000"
          ]
        },
        {
          "output_type": "stream",
          "name": "stderr",
          "text": [
            "\n",
            "Iteration:  62%|██████▏   | 123/200 [01:41<00:56,  1.35it/s]\u001b[A"
          ]
        },
        {
          "output_type": "stream",
          "name": "stdout",
          "text": [
            "\r0.00012 0.00000"
          ]
        },
        {
          "output_type": "stream",
          "name": "stderr",
          "text": [
            "\n",
            "Iteration:  62%|██████▏   | 124/200 [01:41<00:56,  1.35it/s]\u001b[A"
          ]
        },
        {
          "output_type": "stream",
          "name": "stdout",
          "text": [
            "\r0.00012 0.00000"
          ]
        },
        {
          "output_type": "stream",
          "name": "stderr",
          "text": [
            "\n",
            "Iteration:  62%|██████▎   | 125/200 [01:42<00:55,  1.35it/s]\u001b[A"
          ]
        },
        {
          "output_type": "stream",
          "name": "stdout",
          "text": [
            "\r0.00014 0.00000"
          ]
        },
        {
          "output_type": "stream",
          "name": "stderr",
          "text": [
            "\n",
            "Iteration:  63%|██████▎   | 126/200 [01:43<00:54,  1.35it/s]\u001b[A"
          ]
        },
        {
          "output_type": "stream",
          "name": "stdout",
          "text": [
            "\r0.00017 0.00000"
          ]
        },
        {
          "output_type": "stream",
          "name": "stderr",
          "text": [
            "\n",
            "Iteration:  64%|██████▎   | 127/200 [01:44<00:53,  1.35it/s]\u001b[A"
          ]
        },
        {
          "output_type": "stream",
          "name": "stdout",
          "text": [
            "\r0.00014 0.00000"
          ]
        },
        {
          "output_type": "stream",
          "name": "stderr",
          "text": [
            "\n",
            "Iteration:  64%|██████▍   | 128/200 [01:44<00:53,  1.35it/s]\u001b[A"
          ]
        },
        {
          "output_type": "stream",
          "name": "stdout",
          "text": [
            "\r0.00014 0.00000"
          ]
        },
        {
          "output_type": "stream",
          "name": "stderr",
          "text": [
            "\n",
            "Iteration:  64%|██████▍   | 129/200 [01:45<00:52,  1.35it/s]\u001b[A"
          ]
        },
        {
          "output_type": "stream",
          "name": "stdout",
          "text": [
            "\r0.00010 0.00000"
          ]
        },
        {
          "output_type": "stream",
          "name": "stderr",
          "text": [
            "\n",
            "Iteration:  65%|██████▌   | 130/200 [01:46<00:51,  1.35it/s]\u001b[A"
          ]
        },
        {
          "output_type": "stream",
          "name": "stdout",
          "text": [
            "\r0.00011 0.00000"
          ]
        },
        {
          "output_type": "stream",
          "name": "stderr",
          "text": [
            "\n",
            "Iteration:  66%|██████▌   | 131/200 [01:47<00:50,  1.35it/s]\u001b[A"
          ]
        },
        {
          "output_type": "stream",
          "name": "stdout",
          "text": [
            "\r0.00008 0.00000"
          ]
        },
        {
          "output_type": "stream",
          "name": "stderr",
          "text": [
            "\n",
            "Iteration:  66%|██████▌   | 132/200 [01:47<00:50,  1.36it/s]\u001b[A"
          ]
        },
        {
          "output_type": "stream",
          "name": "stdout",
          "text": [
            "\r0.00010 0.00000"
          ]
        },
        {
          "output_type": "stream",
          "name": "stderr",
          "text": [
            "\n",
            "Iteration:  66%|██████▋   | 133/200 [01:48<00:49,  1.36it/s]\u001b[A"
          ]
        },
        {
          "output_type": "stream",
          "name": "stdout",
          "text": [
            "\r0.35947 0.00000"
          ]
        },
        {
          "output_type": "stream",
          "name": "stderr",
          "text": [
            "\n",
            "Iteration:  67%|██████▋   | 134/200 [01:49<00:48,  1.35it/s]\u001b[A"
          ]
        },
        {
          "output_type": "stream",
          "name": "stdout",
          "text": [
            "\r0.00011 0.00000"
          ]
        },
        {
          "output_type": "stream",
          "name": "stderr",
          "text": [
            "\n",
            "Iteration:  68%|██████▊   | 135/200 [01:50<00:48,  1.35it/s]\u001b[A"
          ]
        },
        {
          "output_type": "stream",
          "name": "stdout",
          "text": [
            "\r0.00015 0.00000"
          ]
        },
        {
          "output_type": "stream",
          "name": "stderr",
          "text": [
            "\n",
            "Iteration:  68%|██████▊   | 136/200 [01:50<00:47,  1.35it/s]\u001b[A"
          ]
        },
        {
          "output_type": "stream",
          "name": "stdout",
          "text": [
            "\r0.00015 0.00000"
          ]
        },
        {
          "output_type": "stream",
          "name": "stderr",
          "text": [
            "\n",
            "Iteration:  68%|██████▊   | 137/200 [01:51<00:46,  1.35it/s]\u001b[A"
          ]
        },
        {
          "output_type": "stream",
          "name": "stdout",
          "text": [
            "\r0.00016 0.00000"
          ]
        },
        {
          "output_type": "stream",
          "name": "stderr",
          "text": [
            "\n",
            "Iteration:  69%|██████▉   | 138/200 [01:52<00:45,  1.36it/s]\u001b[A"
          ]
        },
        {
          "output_type": "stream",
          "name": "stdout",
          "text": [
            "\r0.00010 0.00000"
          ]
        },
        {
          "output_type": "stream",
          "name": "stderr",
          "text": [
            "\n",
            "Iteration:  70%|██████▉   | 139/200 [01:52<00:44,  1.36it/s]\u001b[A"
          ]
        },
        {
          "output_type": "stream",
          "name": "stdout",
          "text": [
            "\r0.00015 0.00000"
          ]
        },
        {
          "output_type": "stream",
          "name": "stderr",
          "text": [
            "\n",
            "Iteration:  70%|███████   | 140/200 [01:53<00:44,  1.36it/s]\u001b[A"
          ]
        },
        {
          "output_type": "stream",
          "name": "stdout",
          "text": [
            "\r0.00007 0.00000"
          ]
        },
        {
          "output_type": "stream",
          "name": "stderr",
          "text": [
            "\n",
            "Iteration:  70%|███████   | 141/200 [01:54<00:43,  1.36it/s]\u001b[A"
          ]
        },
        {
          "output_type": "stream",
          "name": "stdout",
          "text": [
            "\r0.00015 0.00000"
          ]
        },
        {
          "output_type": "stream",
          "name": "stderr",
          "text": [
            "\n",
            "Iteration:  71%|███████   | 142/200 [01:55<00:42,  1.36it/s]\u001b[A"
          ]
        },
        {
          "output_type": "stream",
          "name": "stdout",
          "text": [
            "\r0.00013 0.00000"
          ]
        },
        {
          "output_type": "stream",
          "name": "stderr",
          "text": [
            "\n",
            "Iteration:  72%|███████▏  | 143/200 [01:55<00:42,  1.36it/s]\u001b[A"
          ]
        },
        {
          "output_type": "stream",
          "name": "stdout",
          "text": [
            "\r0.00015 0.00000"
          ]
        },
        {
          "output_type": "stream",
          "name": "stderr",
          "text": [
            "\n",
            "Iteration:  72%|███████▏  | 144/200 [01:56<00:41,  1.36it/s]\u001b[A"
          ]
        },
        {
          "output_type": "stream",
          "name": "stdout",
          "text": [
            "\r0.00010 0.00000"
          ]
        },
        {
          "output_type": "stream",
          "name": "stderr",
          "text": [
            "\n",
            "Iteration:  72%|███████▎  | 145/200 [01:57<00:40,  1.36it/s]\u001b[A"
          ]
        },
        {
          "output_type": "stream",
          "name": "stdout",
          "text": [
            "\r0.00011 0.00000"
          ]
        },
        {
          "output_type": "stream",
          "name": "stderr",
          "text": [
            "\n",
            "Iteration:  73%|███████▎  | 146/200 [01:58<00:39,  1.36it/s]\u001b[A"
          ]
        },
        {
          "output_type": "stream",
          "name": "stdout",
          "text": [
            "\r0.00011 0.00000"
          ]
        },
        {
          "output_type": "stream",
          "name": "stderr",
          "text": [
            "\n",
            "Iteration:  74%|███████▎  | 147/200 [01:58<00:39,  1.36it/s]\u001b[A"
          ]
        },
        {
          "output_type": "stream",
          "name": "stdout",
          "text": [
            "\r0.00011 0.00000"
          ]
        },
        {
          "output_type": "stream",
          "name": "stderr",
          "text": [
            "\n",
            "Iteration:  74%|███████▍  | 148/200 [01:59<00:38,  1.36it/s]\u001b[A"
          ]
        },
        {
          "output_type": "stream",
          "name": "stdout",
          "text": [
            "\r0.00011 0.00000"
          ]
        },
        {
          "output_type": "stream",
          "name": "stderr",
          "text": [
            "\n",
            "Iteration:  74%|███████▍  | 149/200 [02:00<00:37,  1.36it/s]\u001b[A"
          ]
        },
        {
          "output_type": "stream",
          "name": "stdout",
          "text": [
            "\r0.00632 0.00000"
          ]
        },
        {
          "output_type": "stream",
          "name": "stderr",
          "text": [
            "\n",
            "Iteration:  75%|███████▌  | 150/200 [02:01<00:36,  1.35it/s]\u001b[A"
          ]
        },
        {
          "output_type": "stream",
          "name": "stdout",
          "text": [
            "\r0.00013 0.00000"
          ]
        },
        {
          "output_type": "stream",
          "name": "stderr",
          "text": [
            "\n",
            "Iteration:  76%|███████▌  | 151/200 [02:01<00:36,  1.35it/s]\u001b[A"
          ]
        },
        {
          "output_type": "stream",
          "name": "stdout",
          "text": [
            "\r0.00016 0.00000"
          ]
        },
        {
          "output_type": "stream",
          "name": "stderr",
          "text": [
            "\n",
            "Iteration:  76%|███████▌  | 152/200 [02:02<00:35,  1.35it/s]\u001b[A"
          ]
        },
        {
          "output_type": "stream",
          "name": "stdout",
          "text": [
            "\r0.53904 0.00000"
          ]
        },
        {
          "output_type": "stream",
          "name": "stderr",
          "text": [
            "\n",
            "Iteration:  76%|███████▋  | 153/200 [02:03<00:34,  1.35it/s]\u001b[A"
          ]
        },
        {
          "output_type": "stream",
          "name": "stdout",
          "text": [
            "\r0.00022 0.00000"
          ]
        },
        {
          "output_type": "stream",
          "name": "stderr",
          "text": [
            "\n",
            "Iteration:  77%|███████▋  | 154/200 [02:04<00:33,  1.35it/s]\u001b[A"
          ]
        },
        {
          "output_type": "stream",
          "name": "stdout",
          "text": [
            "\r0.00023 0.00000"
          ]
        },
        {
          "output_type": "stream",
          "name": "stderr",
          "text": [
            "\n",
            "Iteration:  78%|███████▊  | 155/200 [02:04<00:33,  1.36it/s]\u001b[A"
          ]
        },
        {
          "output_type": "stream",
          "name": "stdout",
          "text": [
            "\r0.00026 0.00000"
          ]
        },
        {
          "output_type": "stream",
          "name": "stderr",
          "text": [
            "\n",
            "Iteration:  78%|███████▊  | 156/200 [02:05<00:32,  1.35it/s]\u001b[A"
          ]
        },
        {
          "output_type": "stream",
          "name": "stdout",
          "text": [
            "\r0.00019 0.00000"
          ]
        },
        {
          "output_type": "stream",
          "name": "stderr",
          "text": [
            "\n",
            "Iteration:  78%|███████▊  | 157/200 [02:06<00:31,  1.35it/s]\u001b[A"
          ]
        },
        {
          "output_type": "stream",
          "name": "stdout",
          "text": [
            "\r0.00010 0.00000"
          ]
        },
        {
          "output_type": "stream",
          "name": "stderr",
          "text": [
            "\n",
            "Iteration:  79%|███████▉  | 158/200 [02:06<00:31,  1.35it/s]\u001b[A"
          ]
        },
        {
          "output_type": "stream",
          "name": "stdout",
          "text": [
            "\r0.00018 0.00000"
          ]
        },
        {
          "output_type": "stream",
          "name": "stderr",
          "text": [
            "\n",
            "Iteration:  80%|███████▉  | 159/200 [02:07<00:30,  1.35it/s]\u001b[A"
          ]
        },
        {
          "output_type": "stream",
          "name": "stdout",
          "text": [
            "\r0.00019 0.00000"
          ]
        },
        {
          "output_type": "stream",
          "name": "stderr",
          "text": [
            "\n",
            "Iteration:  80%|████████  | 160/200 [02:08<00:29,  1.36it/s]\u001b[A"
          ]
        },
        {
          "output_type": "stream",
          "name": "stdout",
          "text": [
            "\r0.36570 0.00000"
          ]
        },
        {
          "output_type": "stream",
          "name": "stderr",
          "text": [
            "\n",
            "Iteration:  80%|████████  | 161/200 [02:09<00:28,  1.35it/s]\u001b[A"
          ]
        },
        {
          "output_type": "stream",
          "name": "stdout",
          "text": [
            "\r0.66415 0.00000"
          ]
        },
        {
          "output_type": "stream",
          "name": "stderr",
          "text": [
            "\n",
            "Iteration:  81%|████████  | 162/200 [02:09<00:28,  1.35it/s]\u001b[A"
          ]
        },
        {
          "output_type": "stream",
          "name": "stdout",
          "text": [
            "\r0.13353 0.00000"
          ]
        },
        {
          "output_type": "stream",
          "name": "stderr",
          "text": [
            "\n",
            "Iteration:  82%|████████▏ | 163/200 [02:10<00:27,  1.35it/s]\u001b[A"
          ]
        },
        {
          "output_type": "stream",
          "name": "stdout",
          "text": [
            "\r0.00237 0.00000"
          ]
        },
        {
          "output_type": "stream",
          "name": "stderr",
          "text": [
            "\n",
            "Iteration:  82%|████████▏ | 164/200 [02:11<00:26,  1.35it/s]\u001b[A"
          ]
        },
        {
          "output_type": "stream",
          "name": "stdout",
          "text": [
            "\r0.00023 0.00000"
          ]
        },
        {
          "output_type": "stream",
          "name": "stderr",
          "text": [
            "\n",
            "Iteration:  82%|████████▎ | 165/200 [02:12<00:25,  1.35it/s]\u001b[A"
          ]
        },
        {
          "output_type": "stream",
          "name": "stdout",
          "text": [
            "\r0.00023 0.00000"
          ]
        },
        {
          "output_type": "stream",
          "name": "stderr",
          "text": [
            "\n",
            "Iteration:  83%|████████▎ | 166/200 [02:12<00:25,  1.35it/s]\u001b[A"
          ]
        },
        {
          "output_type": "stream",
          "name": "stdout",
          "text": [
            "\r0.00024 0.00000"
          ]
        },
        {
          "output_type": "stream",
          "name": "stderr",
          "text": [
            "\n",
            "Iteration:  84%|████████▎ | 167/200 [02:13<00:24,  1.35it/s]\u001b[A"
          ]
        },
        {
          "output_type": "stream",
          "name": "stdout",
          "text": [
            "\r0.00021 0.00000"
          ]
        },
        {
          "output_type": "stream",
          "name": "stderr",
          "text": [
            "\n",
            "Iteration:  84%|████████▍ | 168/200 [02:14<00:23,  1.35it/s]\u001b[A"
          ]
        },
        {
          "output_type": "stream",
          "name": "stdout",
          "text": [
            "\r0.00024 0.00000"
          ]
        },
        {
          "output_type": "stream",
          "name": "stderr",
          "text": [
            "\n",
            "Iteration:  84%|████████▍ | 169/200 [02:15<00:22,  1.35it/s]\u001b[A"
          ]
        },
        {
          "output_type": "stream",
          "name": "stdout",
          "text": [
            "\r0.00017 0.00000"
          ]
        },
        {
          "output_type": "stream",
          "name": "stderr",
          "text": [
            "\n",
            "Iteration:  85%|████████▌ | 170/200 [02:15<00:22,  1.35it/s]\u001b[A"
          ]
        },
        {
          "output_type": "stream",
          "name": "stdout",
          "text": [
            "\r0.00021 0.00000"
          ]
        },
        {
          "output_type": "stream",
          "name": "stderr",
          "text": [
            "\n",
            "Iteration:  86%|████████▌ | 171/200 [02:16<00:21,  1.35it/s]\u001b[A"
          ]
        },
        {
          "output_type": "stream",
          "name": "stdout",
          "text": [
            "\r0.00019 0.00000"
          ]
        },
        {
          "output_type": "stream",
          "name": "stderr",
          "text": [
            "\n",
            "Iteration:  86%|████████▌ | 172/200 [02:17<00:20,  1.35it/s]\u001b[A"
          ]
        },
        {
          "output_type": "stream",
          "name": "stdout",
          "text": [
            "\r0.00020 0.00000"
          ]
        },
        {
          "output_type": "stream",
          "name": "stderr",
          "text": [
            "\n",
            "Iteration:  86%|████████▋ | 173/200 [02:18<00:19,  1.35it/s]\u001b[A"
          ]
        },
        {
          "output_type": "stream",
          "name": "stdout",
          "text": [
            "\r0.00022 0.00000"
          ]
        },
        {
          "output_type": "stream",
          "name": "stderr",
          "text": [
            "\n",
            "Iteration:  87%|████████▋ | 174/200 [02:18<00:19,  1.35it/s]\u001b[A"
          ]
        },
        {
          "output_type": "stream",
          "name": "stdout",
          "text": [
            "\r0.00024 0.00000"
          ]
        },
        {
          "output_type": "stream",
          "name": "stderr",
          "text": [
            "\n",
            "Iteration:  88%|████████▊ | 175/200 [02:19<00:18,  1.35it/s]\u001b[A"
          ]
        },
        {
          "output_type": "stream",
          "name": "stdout",
          "text": [
            "\r0.74490 0.00000"
          ]
        },
        {
          "output_type": "stream",
          "name": "stderr",
          "text": [
            "\n",
            "Iteration:  88%|████████▊ | 176/200 [02:20<00:17,  1.35it/s]\u001b[A"
          ]
        },
        {
          "output_type": "stream",
          "name": "stdout",
          "text": [
            "\r0.00019 0.00000"
          ]
        },
        {
          "output_type": "stream",
          "name": "stderr",
          "text": [
            "\n",
            "Iteration:  88%|████████▊ | 177/200 [02:21<00:17,  1.35it/s]\u001b[A"
          ]
        },
        {
          "output_type": "stream",
          "name": "stdout",
          "text": [
            "\r0.00019 0.00000"
          ]
        },
        {
          "output_type": "stream",
          "name": "stderr",
          "text": [
            "\n",
            "Iteration:  89%|████████▉ | 178/200 [02:21<00:16,  1.35it/s]\u001b[A"
          ]
        },
        {
          "output_type": "stream",
          "name": "stdout",
          "text": [
            "\r0.18538 0.00000"
          ]
        },
        {
          "output_type": "stream",
          "name": "stderr",
          "text": [
            "\n",
            "Iteration:  90%|████████▉ | 179/200 [02:22<00:15,  1.35it/s]\u001b[A"
          ]
        },
        {
          "output_type": "stream",
          "name": "stdout",
          "text": [
            "\r0.10421 0.00000"
          ]
        },
        {
          "output_type": "stream",
          "name": "stderr",
          "text": [
            "\n",
            "Iteration:  90%|█████████ | 180/200 [02:23<00:14,  1.34it/s]\u001b[A"
          ]
        },
        {
          "output_type": "stream",
          "name": "stdout",
          "text": [
            "\r0.00028 0.00000"
          ]
        },
        {
          "output_type": "stream",
          "name": "stderr",
          "text": [
            "\n",
            "Iteration:  90%|█████████ | 181/200 [02:24<00:14,  1.35it/s]\u001b[A"
          ]
        },
        {
          "output_type": "stream",
          "name": "stdout",
          "text": [
            "\r0.00042 0.00000"
          ]
        },
        {
          "output_type": "stream",
          "name": "stderr",
          "text": [
            "\n",
            "Iteration:  91%|█████████ | 182/200 [02:24<00:13,  1.35it/s]\u001b[A"
          ]
        },
        {
          "output_type": "stream",
          "name": "stdout",
          "text": [
            "\r0.00019 0.00000"
          ]
        },
        {
          "output_type": "stream",
          "name": "stderr",
          "text": [
            "\n",
            "Iteration:  92%|█████████▏| 183/200 [02:25<00:12,  1.34it/s]\u001b[A"
          ]
        },
        {
          "output_type": "stream",
          "name": "stdout",
          "text": [
            "\r0.00029 0.00000"
          ]
        },
        {
          "output_type": "stream",
          "name": "stderr",
          "text": [
            "\n",
            "Iteration:  92%|█████████▏| 184/200 [02:26<00:11,  1.35it/s]\u001b[A"
          ]
        },
        {
          "output_type": "stream",
          "name": "stdout",
          "text": [
            "\r0.00026 0.00000"
          ]
        },
        {
          "output_type": "stream",
          "name": "stderr",
          "text": [
            "\n",
            "Iteration:  92%|█████████▎| 185/200 [02:26<00:11,  1.35it/s]\u001b[A"
          ]
        },
        {
          "output_type": "stream",
          "name": "stdout",
          "text": [
            "\r0.00025 0.00000"
          ]
        },
        {
          "output_type": "stream",
          "name": "stderr",
          "text": [
            "\n",
            "Iteration:  93%|█████████▎| 186/200 [02:27<00:10,  1.35it/s]\u001b[A"
          ]
        },
        {
          "output_type": "stream",
          "name": "stdout",
          "text": [
            "\r0.00026 0.00000"
          ]
        },
        {
          "output_type": "stream",
          "name": "stderr",
          "text": [
            "\n",
            "Iteration:  94%|█████████▎| 187/200 [02:28<00:09,  1.35it/s]\u001b[A"
          ]
        },
        {
          "output_type": "stream",
          "name": "stdout",
          "text": [
            "\r0.00030 0.00000"
          ]
        },
        {
          "output_type": "stream",
          "name": "stderr",
          "text": [
            "\n",
            "Iteration:  94%|█████████▍| 188/200 [02:29<00:08,  1.35it/s]\u001b[A"
          ]
        },
        {
          "output_type": "stream",
          "name": "stdout",
          "text": [
            "\r0.00026 0.00000"
          ]
        },
        {
          "output_type": "stream",
          "name": "stderr",
          "text": [
            "\n",
            "Iteration:  94%|█████████▍| 189/200 [02:29<00:08,  1.35it/s]\u001b[A"
          ]
        },
        {
          "output_type": "stream",
          "name": "stdout",
          "text": [
            "\r0.00037 0.00000"
          ]
        },
        {
          "output_type": "stream",
          "name": "stderr",
          "text": [
            "\n",
            "Iteration:  95%|█████████▌| 190/200 [02:30<00:07,  1.35it/s]\u001b[A"
          ]
        },
        {
          "output_type": "stream",
          "name": "stdout",
          "text": [
            "\r0.00037 0.00000"
          ]
        },
        {
          "output_type": "stream",
          "name": "stderr",
          "text": [
            "\n",
            "Iteration:  96%|█████████▌| 191/200 [02:31<00:06,  1.35it/s]\u001b[A"
          ]
        },
        {
          "output_type": "stream",
          "name": "stdout",
          "text": [
            "\r0.00049 0.00000"
          ]
        },
        {
          "output_type": "stream",
          "name": "stderr",
          "text": [
            "\n",
            "Iteration:  96%|█████████▌| 192/200 [02:32<00:05,  1.35it/s]\u001b[A"
          ]
        },
        {
          "output_type": "stream",
          "name": "stdout",
          "text": [
            "\r0.00037 0.00000"
          ]
        },
        {
          "output_type": "stream",
          "name": "stderr",
          "text": [
            "\n",
            "Iteration:  96%|█████████▋| 193/200 [02:32<00:05,  1.35it/s]\u001b[A"
          ]
        },
        {
          "output_type": "stream",
          "name": "stdout",
          "text": [
            "\r0.42382 0.00000"
          ]
        },
        {
          "output_type": "stream",
          "name": "stderr",
          "text": [
            "\n",
            "Iteration:  97%|█████████▋| 194/200 [02:33<00:04,  1.35it/s]\u001b[A"
          ]
        },
        {
          "output_type": "stream",
          "name": "stdout",
          "text": [
            "\r0.00087 0.00000"
          ]
        },
        {
          "output_type": "stream",
          "name": "stderr",
          "text": [
            "\n",
            "Iteration:  98%|█████████▊| 195/200 [02:34<00:03,  1.35it/s]\u001b[A"
          ]
        },
        {
          "output_type": "stream",
          "name": "stdout",
          "text": [
            "\r0.00142 0.00000"
          ]
        },
        {
          "output_type": "stream",
          "name": "stderr",
          "text": [
            "\n",
            "Iteration:  98%|█████████▊| 196/200 [02:35<00:02,  1.35it/s]\u001b[A"
          ]
        },
        {
          "output_type": "stream",
          "name": "stdout",
          "text": [
            "\r0.00028 0.00000"
          ]
        },
        {
          "output_type": "stream",
          "name": "stderr",
          "text": [
            "\n",
            "Iteration:  98%|█████████▊| 197/200 [02:35<00:02,  1.35it/s]\u001b[A"
          ]
        },
        {
          "output_type": "stream",
          "name": "stdout",
          "text": [
            "\r0.00027 0.00000"
          ]
        },
        {
          "output_type": "stream",
          "name": "stderr",
          "text": [
            "\n",
            "Iteration:  99%|█████████▉| 198/200 [02:36<00:01,  1.35it/s]\u001b[A"
          ]
        },
        {
          "output_type": "stream",
          "name": "stdout",
          "text": [
            "\r0.00047 0.00000"
          ]
        },
        {
          "output_type": "stream",
          "name": "stderr",
          "text": [
            "\n",
            "Iteration: 100%|█████████▉| 199/200 [02:37<00:00,  1.35it/s]\u001b[A"
          ]
        },
        {
          "output_type": "stream",
          "name": "stdout",
          "text": [
            "\r0.00019 0.00000"
          ]
        },
        {
          "output_type": "stream",
          "name": "stderr",
          "text": [
            "INFO:root:Creating features from dataset file at ./drive/MyDrive/tvd5455/VvsNV/common_data/\n",
            "INFO:root:Saving features into cached file ./drive/MyDrive/tvd5455/VvsNV/Relations/processed_data/cached_dev_roberta-large_128_both\n",
            "INFO:root:***** Running evaluation  *****\n",
            "INFO:root:  Num examples = 800\n",
            "INFO:root:  Batch size = 128\n"
          ]
        },
        {
          "output_type": "stream",
          "name": "stdout",
          "text": [
            "0.44066 0.00000"
          ]
        },
        {
          "output_type": "stream",
          "name": "stderr",
          "text": [
            "INFO:root:***** Eval results  *****\n",
            "INFO:root:  f1 = 0.39999999999999997\n",
            "INFO:root:  fn = 27\n",
            "INFO:root:  fp = 24\n",
            "INFO:root:  mcc = 0.3666356669338706\n",
            "INFO:root:  rmse = 0.4598583\n",
            "INFO:root:  tn = 732\n",
            "INFO:root:  tp = 17\n"
          ]
        },
        {
          "output_type": "stream",
          "name": "stdout",
          "text": [
            "\r1.31272 0.00000"
          ]
        },
        {
          "output_type": "stream",
          "name": "stderr",
          "text": [
            "/usr/local/lib/python3.7/dist-packages/torch/optim/lr_scheduler.py:247: UserWarning: To get the last learning rate computed by the scheduler, please use `get_last_lr()`.\n",
            "  warnings.warn(\"To get the last learning rate computed by the scheduler, \"\n",
            "INFO:root:Saving model checkpoint to ./drive/MyDrive/tvd5455/VvsNV/Relations/outputs_roberta/checkpoint-800\n",
            "\n",
            "Iteration: 100%|██████████| 200/200 [02:54<00:00,  1.14it/s]\n",
            "Epoch: 100%|██████████| 4/4 [11:38<00:00, 174.62s/it]\n",
            "INFO:root: global_step = 800, average loss = 0.1612196562799545\n",
            "INFO:root:Saving model checkpoint to ./drive/MyDrive/tvd5455/VvsNV/Relations/outputs_roberta/\n"
          ]
        }
      ]
    },
    {
      "cell_type": "code",
      "metadata": {
        "colab": {
          "base_uri": "https://localhost:8080/"
        },
        "id": "4LQivfdsuSm-",
        "outputId": "c148c8cf-9154-41e1-d2b4-a6ec81554adc"
      },
      "source": [
        "import glob\n",
        "\n",
        "results = {}\n",
        "if args['do_eval']:\n",
        "    print ('\\n\\n')\n",
        "    checkpoints = [args['output_dir']]\n",
        "    if args['eval_all_checkpoints']:\n",
        "        # checkpoints = list(os.path.dirname(c) for c in sorted(glob.glob(args['output_dir'] + '/**/' + WEIGHTS_NAME, recursive=True)))\n",
        "        checkpoints = list(c for c in sorted(glob.glob(args['output_dir'] + '/**/' + WEIGHTS_NAME, recursive=True)))\n",
        "        logging.getLogger(\"pytorch_transformers.modeling_utils\").setLevel(logging.WARN)  # Reduce logging\n",
        "    logger.info(\"Evaluate the following checkpoints: %s\", checkpoints)\n",
        "    for checkpoint in checkpoints:\n",
        "        global_step = checkpoint.split('-')[-1] if len(checkpoints) > 1 else \"\"\n",
        "        model = ClassificationModel(base_model=base_model)\n",
        "        model.load_state_dict(torch.load(checkpoint))\n",
        "        model.to(device)\n",
        "        result, wrong_preds = evaluate(model, tokenizer, prefix=global_step, final=True)\n",
        "        result = dict((k + '_{}'.format(global_step), v) for k, v in result.items())\n",
        "        results.update(result)\n",
        "        \n",
        "print(results)\n",
        "\n",
        "eval_output_dir = args['output_dir']\n",
        "output_test_file = os.path.join(eval_output_dir, \"test_results.txt\")\n",
        "with open(output_test_file, \"w\") as writer:\n",
        "    for key in sorted(results.keys()):\n",
        "        writer.write(\"%s = %s\\n\" % (key, str(results[key])))"
      ],
      "execution_count": null,
      "outputs": [
        {
          "output_type": "stream",
          "name": "stderr",
          "text": [
            "INFO:root:Evaluate the following checkpoints: ['./drive/MyDrive/tvd5455/VvsNV/Relations/outputs_roberta/checkpoint-200/pytorch_model.bin', './drive/MyDrive/tvd5455/VvsNV/Relations/outputs_roberta/checkpoint-400/pytorch_model.bin', './drive/MyDrive/tvd5455/VvsNV/Relations/outputs_roberta/checkpoint-600/pytorch_model.bin', './drive/MyDrive/tvd5455/VvsNV/Relations/outputs_roberta/checkpoint-800/pytorch_model.bin']\n"
          ]
        },
        {
          "output_type": "stream",
          "name": "stdout",
          "text": [
            "\n",
            "\n",
            "\n"
          ]
        },
        {
          "output_type": "stream",
          "name": "stderr",
          "text": [
            "INFO:root:Creating features from dataset file at ./drive/MyDrive/tvd5455/VvsNV/common_data/\n",
            "INFO:root:Saving features into cached file ./drive/MyDrive/tvd5455/VvsNV/Relations/processed_data/cached_test_roberta-large_128_both\n",
            "INFO:root:***** Running evaluation 200/pytorch_model.bin *****\n",
            "INFO:root:  Num examples = 1000\n",
            "INFO:root:  Batch size = 128\n"
          ]
        },
        {
          "output_type": "stream",
          "name": "stdout",
          "text": [
            "0.38092 0.00000"
          ]
        },
        {
          "output_type": "stream",
          "name": "stderr",
          "text": [
            "INFO:root:***** Eval results 200/pytorch_model.bin *****\n",
            "INFO:root:  f1 = 0.5420560747663552\n",
            "INFO:root:  fn = 6\n",
            "INFO:root:  fp = 43\n",
            "INFO:root:  mcc = 0.557416815155433\n",
            "INFO:root:  rmse = 0.4328605\n",
            "INFO:root:  tn = 922\n",
            "INFO:root:  tp = 29\n",
            "INFO:root:Creating features from dataset file at ./drive/MyDrive/tvd5455/VvsNV/common_data/\n",
            "INFO:root:Saving features into cached file ./drive/MyDrive/tvd5455/VvsNV/Relations/processed_data/cached_test_roberta-large_128_both\n",
            "INFO:root:***** Running evaluation 400/pytorch_model.bin *****\n",
            "INFO:root:  Num examples = 1000\n",
            "INFO:root:  Batch size = 128\n"
          ]
        },
        {
          "output_type": "stream",
          "name": "stdout",
          "text": [
            "0.05781 0.00000"
          ]
        },
        {
          "output_type": "stream",
          "name": "stderr",
          "text": [
            "INFO:root:***** Eval results 400/pytorch_model.bin *****\n",
            "INFO:root:  f1 = 0.4883720930232558\n",
            "INFO:root:  fn = 14\n",
            "INFO:root:  fp = 30\n",
            "INFO:root:  mcc = 0.47525261556040793\n",
            "INFO:root:  rmse = 0.3647765\n",
            "INFO:root:  tn = 935\n",
            "INFO:root:  tp = 21\n"
          ]
        },
        {
          "output_type": "stream",
          "name": "stdout",
          "text": [
            "\r0.36633 0.00000"
          ]
        },
        {
          "output_type": "stream",
          "name": "stderr",
          "text": [
            "INFO:root:Creating features from dataset file at ./drive/MyDrive/tvd5455/VvsNV/common_data/\n",
            "INFO:root:Saving features into cached file ./drive/MyDrive/tvd5455/VvsNV/Relations/processed_data/cached_test_roberta-large_128_both\n",
            "INFO:root:***** Running evaluation 600/pytorch_model.bin *****\n",
            "INFO:root:  Num examples = 1000\n",
            "INFO:root:  Batch size = 128\n"
          ]
        },
        {
          "output_type": "stream",
          "name": "stdout",
          "text": [
            "0.10087 0.00000"
          ]
        },
        {
          "output_type": "stream",
          "name": "stderr",
          "text": [
            "INFO:root:***** Eval results 600/pytorch_model.bin *****\n",
            "INFO:root:  f1 = 0.4878048780487805\n",
            "INFO:root:  fn = 15\n",
            "INFO:root:  fp = 27\n",
            "INFO:root:  mcc = 0.4719123366108799\n",
            "INFO:root:  rmse = 0.34483138\n",
            "INFO:root:  tn = 938\n",
            "INFO:root:  tp = 20\n"
          ]
        },
        {
          "output_type": "stream",
          "name": "stdout",
          "text": [
            "\r0.36959 0.00000"
          ]
        },
        {
          "output_type": "stream",
          "name": "stderr",
          "text": [
            "INFO:root:Creating features from dataset file at ./drive/MyDrive/tvd5455/VvsNV/common_data/\n",
            "INFO:root:Saving features into cached file ./drive/MyDrive/tvd5455/VvsNV/Relations/processed_data/cached_test_roberta-large_128_both\n",
            "INFO:root:***** Running evaluation 800/pytorch_model.bin *****\n",
            "INFO:root:  Num examples = 1000\n",
            "INFO:root:  Batch size = 128\n"
          ]
        },
        {
          "output_type": "stream",
          "name": "stdout",
          "text": [
            "0.05224 0.00000"
          ]
        },
        {
          "output_type": "stream",
          "name": "stderr",
          "text": [
            "INFO:root:***** Eval results 800/pytorch_model.bin *****\n",
            "INFO:root:  f1 = 0.42857142857142855\n",
            "INFO:root:  fn = 20\n",
            "INFO:root:  fp = 20\n",
            "INFO:root:  mcc = 0.4078460399703923\n",
            "INFO:root:  rmse = 0.35311806\n",
            "INFO:root:  tn = 945\n",
            "INFO:root:  tp = 15\n"
          ]
        },
        {
          "output_type": "stream",
          "name": "stdout",
          "text": [
            "\r0.35635 0.00000{'mcc_200/pytorch_model.bin': 0.557416815155433, 'f1_200/pytorch_model.bin': 0.5420560747663552, 'tp_200/pytorch_model.bin': 29, 'tn_200/pytorch_model.bin': 922, 'fp_200/pytorch_model.bin': 43, 'fn_200/pytorch_model.bin': 6, 'rmse_200/pytorch_model.bin': 0.4328605, 'mcc_400/pytorch_model.bin': 0.47525261556040793, 'f1_400/pytorch_model.bin': 0.4883720930232558, 'tp_400/pytorch_model.bin': 21, 'tn_400/pytorch_model.bin': 935, 'fp_400/pytorch_model.bin': 30, 'fn_400/pytorch_model.bin': 14, 'rmse_400/pytorch_model.bin': 0.3647765, 'mcc_600/pytorch_model.bin': 0.4719123366108799, 'f1_600/pytorch_model.bin': 0.4878048780487805, 'tp_600/pytorch_model.bin': 20, 'tn_600/pytorch_model.bin': 938, 'fp_600/pytorch_model.bin': 27, 'fn_600/pytorch_model.bin': 15, 'rmse_600/pytorch_model.bin': 0.34483138, 'mcc_800/pytorch_model.bin': 0.4078460399703923, 'f1_800/pytorch_model.bin': 0.42857142857142855, 'tp_800/pytorch_model.bin': 15, 'tn_800/pytorch_model.bin': 945, 'fp_800/pytorch_model.bin': 20, 'fn_800/pytorch_model.bin': 20, 'rmse_800/pytorch_model.bin': 0.35311806}\n"
          ]
        }
      ]
    },
    {
      "cell_type": "markdown",
      "metadata": {
        "id": "HVeVutCH1Xiq"
      },
      "source": [
        "### predict.py"
      ]
    },
    {
      "cell_type": "code",
      "metadata": {
        "id": "Pj0ix0efynvv"
      },
      "source": [
        "import math\n",
        "import numpy as np\n",
        "import torch\n",
        "import json\n",
        "from torch.utils.data import (DataLoader, WeightedRandomSampler, SequentialSampler, TensorDataset)\n",
        "from torch import nn\n",
        "from torch.nn import CrossEntropyLoss, MSELoss, ReLU\n",
        "import torch.nn.functional as F\n",
        "\n",
        "from tqdm import tqdm, trange\n",
        "from tensorboardX import SummaryWriter\n",
        "import os\n",
        "from transformers import (WEIGHTS_NAME, BertConfig, BertModel, BertTokenizer,\n",
        "                                  XLMConfig, XLMModel, XLMTokenizer, \n",
        "                                  XLNetConfig, XLNetModel, XLNetTokenizer,\n",
        "                                  RobertaConfig, RobertaModel, RobertaTokenizer)\n",
        "from transformers import AdamW, get_linear_schedule_with_warmup\n",
        "\n",
        "\n",
        "def load_and_cache_examples(task, tokenizer, evaluate=False, final=False):\n",
        "    processor = processors[task]()\n",
        "    output_mode = args['output_mode']\n",
        "    \n",
        "    mode = 'df_to_label3'\n",
        "    cached_features_file = os.path.join(args['processed_data_dir'], f\"cached_{mode}_{args['model_name']}_{args['max_seq_length']}_{task}\")\n",
        "    \n",
        "    if os.path.exists(cached_features_file) and not args['reprocess_input_data']:\n",
        "        logger.info(\"Loading features from cached file %s\", cached_features_file)\n",
        "        features = torch.load(cached_features_file)\n",
        "               \n",
        "    else:\n",
        "        logger.info(\"Creating features from dataset file at %s\", args['data_dir'])\n",
        "        label_list = processor.get_labels()\n",
        "        examples = processor.get_unlabeled_examples(args['data_dir'], dimension=dimension, filename='df_to_label3.csv')\n",
        "        logger.info(f\"There are {len(examples)} examples....\")\n",
        "        logger.info(examples[0].text)\n",
        "        features = convert_examples_to_features(examples, label_list, args['max_seq_length'], tokenizer, output_mode)\n",
        "        \n",
        "        logger.info(\"Saving features into cached file %s\", cached_features_file)\n",
        "        torch.save(features, cached_features_file)\n",
        "    \n",
        "    all_input_ids = torch.tensor([f.input_ids for f in features], dtype=torch.long)\n",
        "    all_input_mask = torch.tensor([f.input_mask for f in features], dtype=torch.long)\n",
        "    all_segment_ids = torch.tensor([f.segment_ids for f in features], dtype=torch.long)\n",
        "    \n",
        "    dataset = TensorDataset(all_input_ids, all_input_mask, all_segment_ids)\n",
        "    return dataset"
      ],
      "execution_count": null,
      "outputs": []
    },
    {
      "cell_type": "code",
      "metadata": {
        "id": "yao_-zNDzQF7"
      },
      "source": [
        "processors = {\n",
        "    \"both\": BinaryClassificationProcessor\n",
        "}\n",
        "\n",
        "output_modes = {\n",
        "    \"both\": \"classification|regression\"\n",
        "}\n",
        "\n",
        "# OPTIONAL: if you want to have more information on what's happening, activate the logger as follows\n",
        "import logging\n",
        "logging.basicConfig(level=logging.INFO)\n",
        "\n",
        "\n",
        "args = {\n",
        "    'data_dir': os.path.join(HOME, 'common_data/'),\n",
        "    'processed_data_dir': os.path.join(DIMENSION_HOME, 'processed_data/'),\n",
        "    'model_type':  'roberta',\n",
        "    # 'model_name': 'roberta-large-mnli',\n",
        "    'model_name': 'roberta-large',\n",
        "    'task_name': 'both',\n",
        "    'output_dir': os.path.join(DIMENSION_HOME, 'outputs_roberta/'),\n",
        "    'cache_dir': os.path.join(DIMENSION_HOME, 'cache/'),\n",
        "    'do_train': False,\n",
        "    'do_eval': False,\n",
        "    'do_predict': True,\n",
        "    'fp16': False,\n",
        "    'fp16_opt_level': 'O1',\n",
        "    'max_seq_length': 128,\n",
        "    'output_mode': 'both',\n",
        "    'train_batch_size': 16,\n",
        "    'eval_batch_size': 150,\n",
        "\n",
        "    'gradient_accumulation_steps': 1,\n",
        "    'num_train_epochs': 4,\n",
        "    'weight_decay': 0,\n",
        "    'learning_rate': 1e-5,\n",
        "    'adam_epsilon': 1e-8,\n",
        "    'warmup_ratio': 0.06,\n",
        "    'warmup_steps': 0,\n",
        "    'max_grad_norm': 1.0,\n",
        "\n",
        "    'logging_steps': 100,\n",
        "    'evaluate_during_training': True,\n",
        "    'save_steps': 200,\n",
        "    'eval_all_checkpoints': True,\n",
        "\n",
        "    'overwrite_output_dir': True,\n",
        "    'reprocess_input_data': False,\n",
        "    'notes': 'Using Twitter disclosure dataset'\n",
        "}\n",
        "\n",
        "device = torch.device(\"cuda\" if torch.cuda.is_available() else \"cpu\")"
      ],
      "execution_count": null,
      "outputs": []
    },
    {
      "cell_type": "code",
      "metadata": {
        "colab": {
          "base_uri": "https://localhost:8080/"
        },
        "id": "D0rvb4k3QZ9c",
        "outputId": "5b40bf02-ce3f-489d-a5e2-3eceb5c9d0c9"
      },
      "source": [
        "with open(os.path.join(DIMENSION_HOME, 'args.json'), 'w') as f:\n",
        "    json.dump(args, f)\n",
        "\n",
        "\n",
        "if os.path.exists(args['output_dir']) and os.listdir(args['output_dir']) and args['do_train'] and not args['overwrite_output_dir']:\n",
        "    raise ValueError(\"Output directory ({}) already exists and is not empty. Use --overwrite_output_dir to overcome.\".format(args['output_dir']))\n",
        "\n",
        "\n",
        "\n",
        "MODEL_CLASSES = {\n",
        "    'bert': (BertConfig, BertModel, BertTokenizer),\n",
        "    'xlnet': (XLNetConfig, XLNetModel, XLNetTokenizer),\n",
        "    'xlm': (XLMConfig, XLMModel, XLMTokenizer),\n",
        "    'roberta': (RobertaConfig, RobertaModel, RobertaTokenizer)\n",
        "}\n",
        "\n",
        "config_class, model_class, tokenizer_class = MODEL_CLASSES[args['model_type']]\n",
        "\n",
        "\n",
        "config = config_class.from_pretrained(args['model_name'], num_labels=2, finetuning_task=args['task_name'])\n",
        "tokenizer = tokenizer_class.from_pretrained(args['model_name'])\n",
        "\n",
        "\n",
        "base_model = model_class.from_pretrained(args['model_name'])"
      ],
      "execution_count": null,
      "outputs": [
        {
          "output_type": "stream",
          "name": "stderr",
          "text": [
            "Some weights of the model checkpoint at roberta-large were not used when initializing RobertaModel: ['lm_head.decoder.weight', 'lm_head.layer_norm.bias', 'lm_head.dense.weight', 'lm_head.bias', 'lm_head.layer_norm.weight', 'lm_head.dense.bias']\n",
            "- This IS expected if you are initializing RobertaModel from the checkpoint of a model trained on another task or with another architecture (e.g. initializing a BertForSequenceClassification model from a BertForPreTraining model).\n",
            "- This IS NOT expected if you are initializing RobertaModel from the checkpoint of a model that you expect to be exactly identical (initializing a BertForSequenceClassification model from a BertForSequenceClassification model).\n"
          ]
        }
      ]
    },
    {
      "cell_type": "code",
      "metadata": {
        "id": "-e3cwuXGQytn"
      },
      "source": [
        "@torch.jit.script\n",
        "def mish(input):\n",
        "    return input * torch.tanh(F.softplus(input))\n",
        "  \n",
        "class Mish(nn.Module):\n",
        "    def forward(self, input):\n",
        "        return mish(input)\n",
        "\n",
        "\n",
        "class ClassificationHead(nn.Module):\n",
        "    \"\"\"Head for sentence-level classification tasks.\"\"\"\n",
        "\n",
        "    def __init__(self, hidden_size, dropout, num_labels):\n",
        "        super().__init__()\n",
        "        # self.dense = nn.Linear(hidden_size, 192)\n",
        "        self.dropout = nn.Dropout(dropout)\n",
        "        self.out_proj = nn.Linear(hidden_size, num_labels)\n",
        "\n",
        "    def forward(self, features, **kwargs):\n",
        "        x = features\n",
        "        # x = self.dropout(x)\n",
        "        # x = self.dense(x)\n",
        "        # x = torch.relu(x)\n",
        "        x = self.dropout(x)\n",
        "        x = self.out_proj(x)\n",
        "        return x\n",
        "    \n",
        "\n",
        "class ClassificationModel(nn.Module):\n",
        "    def __init__(self, base_model, base_model_output_size=1024, dropout=0.1):\n",
        "        super().__init__()\n",
        "        self.base_model = base_model\n",
        "        \n",
        "        self.dropout = nn.Dropout(dropout)\n",
        "        self._lambda = 1.0\n",
        "        self.classifier = ClassificationHead(base_model_output_size, dropout, 2)\n",
        "        self.regressor = nn.Linear(base_model_output_size, 1)\n",
        "        # for param in self.base_model.parameters():\n",
        "        #     param.requires_grad = False\n",
        "\n",
        "    def forward(self, input_ids, attention_mask, token_type_ids, binary_labels=None, level_labels=None, do_binary=True):\n",
        "        X, attention_mask = input_ids, attention_mask\n",
        "        outputs = self.base_model(X, attention_mask=attention_mask, token_type_ids=token_type_ids)\n",
        "        \n",
        "        pooled_output = outputs[1]\n",
        "\n",
        "        # pooled_output = self.dropout(pooled_output)\n",
        "        binary_logits = self.classifier(pooled_output)\n",
        "        # level_logit = self.regressor(pooled_output)\n",
        "        level_logit = None\n",
        "\n",
        "        if binary_labels is not None:\n",
        "            outputs = (binary_logits, level_logit,) + outputs[2:]  # add hidden states and attention if they are here\n",
        "            \n",
        "            binary_loss_fct = CrossEntropyLoss()\n",
        "            binary_loss = binary_loss_fct(binary_logits.view(-1, 2), binary_labels.view(-1))\n",
        "            \n",
        "            regression_loss_fct = MSELoss()\n",
        "#             regression_loss = regression_loss_fct(\n",
        "#                 level_logit[binary_labels==1, :].view(-1), \n",
        "#                 level_labels[binary_labels==1].view(-1)\n",
        "#             )\n",
        "            regression_loss = 0\n",
        "            # pdb.set_trace()\n",
        "            print(\"\\r{:.5f} {:.5f}\".format(binary_loss, regression_loss), end='')\n",
        "            loss = binary_loss + self._lambda * regression_loss\n",
        "            \n",
        "            outputs = (loss,) + outputs\n",
        "        else:\n",
        "            # level_logits = torch.clamp(level_logit, min=0, max=1)\n",
        "            outputs = (binary_logits, level_logit,) + outputs[2:]  # add hidden states and attention if they are here\n",
        "\n",
        "        return outputs  # (loss), binary_logits, level_logits, (hidden_states), (attentions)\n"
      ],
      "execution_count": null,
      "outputs": []
    },
    {
      "cell_type": "code",
      "metadata": {
        "id": "v3hWoR0d070p"
      },
      "source": [
        "# model = ClassificationModel(base_model=base_model)\n",
        "# model.to(device);\n",
        "\n",
        "task = args['task_name']\n",
        "\n",
        "if task in processors.keys() and task in output_modes.keys():\n",
        "    processor = processors[task]()\n",
        "    label_list = processor.get_labels()\n",
        "    num_labels = len(label_list)\n",
        "else:\n",
        "    raise KeyError(f'{task} not found in processors or in output_modes. Please check utils.py.')\n",
        "\n",
        "\n"
      ],
      "execution_count": null,
      "outputs": []
    },
    {
      "cell_type": "code",
      "metadata": {
        "id": "mnrCE9lD08uL"
      },
      "source": [
        "from sklearn.metrics import mean_squared_error, matthews_corrcoef, confusion_matrix, f1_score\n",
        "from scipy.stats import pearsonr\n",
        "\n",
        "\n",
        "def predict(model, tokenizer, prefix=\"\", final=False):\n",
        "    model.eval()\n",
        "    \n",
        "    # Loop to handle MNLI double evaluation (matched, mis-matched)\n",
        "    eval_output_dir = args['output_dir']\n",
        "\n",
        "    results = {}\n",
        "    EVAL_TASK = args['task_name']\n",
        "\n",
        "    eval_dataset = load_and_cache_examples(EVAL_TASK, tokenizer)\n",
        "    if not os.path.exists(eval_output_dir):\n",
        "        os.makedirs(eval_output_dir)\n",
        "\n",
        "\n",
        "    eval_sampler = SequentialSampler(eval_dataset)\n",
        "    eval_dataloader = DataLoader(eval_dataset, sampler=eval_sampler, batch_size=args['eval_batch_size'])\n",
        "\n",
        "    # Eval!\n",
        "    logger.info(\"***** Running evaluation {} *****\".format(prefix))\n",
        "    logger.info(\"  Num examples = %d\", len(eval_dataset))\n",
        "    logger.info(\"  Batch size = %d\", args['eval_batch_size'])\n",
        "    nb_eval_steps = 0\n",
        "    binary_preds = None\n",
        "    level_preds = None\n",
        "    for batch in tqdm(eval_dataloader, desc=\"Evaluating\"):\n",
        "        batch = tuple(t.to(device) for t in batch)\n",
        "\n",
        "        with torch.no_grad():\n",
        "            inputs = {'input_ids':      batch[0],\n",
        "                      'attention_mask': batch[1],\n",
        "                      'token_type_ids': batch[2] if args['model_type'] in ['bert', 'xlnet'] else None,\n",
        "                     }\n",
        "            outputs = model(**inputs)\n",
        "            binary_logits, level_logit = outputs[:3]\n",
        "        nb_eval_steps += 1\n",
        "        if binary_preds is None:\n",
        "            binary_preds = binary_logits.detach().cpu().numpy()\n",
        "            # level_preds = level_logit.detach().cpu().numpy()\n",
        "        else:\n",
        "            binary_preds = np.append(binary_preds, binary_logits.detach().cpu().numpy(), axis=0)\n",
        "            # level_preds = np.append(level_preds, level_logit.detach().cpu().numpy(), axis=0)\n",
        "    \n",
        "    binary_preds = np.argmax(binary_preds, axis=1)\n",
        "    # level_preds = np.squeeze(level_preds)\n",
        "    \n",
        "    # pdb.set_trace()\n",
        "    \n",
        "    return binary_preds, level_preds"
      ],
      "execution_count": null,
      "outputs": []
    },
    {
      "cell_type": "code",
      "metadata": {
        "colab": {
          "base_uri": "https://localhost:8080/"
        },
        "id": "qdCpGLRm1J0z",
        "outputId": "fb80b097-adbf-47f6-cfa7-366b09f01831"
      },
      "source": [
        "if args['do_predict']:\n",
        "    print ('\\n\\n')\n",
        "    global_step = 200\n",
        "    print(f\"loading model from {args['output_dir'] + '/checkpoint-{}/'.format(str(global_step)) + WEIGHTS_NAME}\")\n",
        "    checkpoint = args['output_dir'] + '/checkpoint-{}/'.format(str(global_step)) + WEIGHTS_NAME\n",
        "    model = ClassificationModel(base_model=base_model)\n",
        "    model.load_state_dict(torch.load(checkpoint))\n",
        "    model.to(device)\n",
        "    binary_preds, _ = predict(model, tokenizer, prefix=global_step)\n",
        "    \n",
        "    # pdb.set_trace()\n",
        "    import pandas as pd\n",
        "    import csv\n",
        "    df = pd.read_csv(os.path.join(HOME, 'common_data/df_to_label3_labeled.csv'), index_col=0)\n",
        "    label_name = 'Relations_binary'\n",
        "    assert label_name.split(\"_\")[0] == dimension.split(\"_\")[0]\n",
        "    df[label_name] = binary_preds\n",
        "    print(df.columns)\n",
        "    df.to_csv(os.path.join(HOME, 'common_data/df_to_label3_labeled.csv'), quoting=csv.QUOTE_NONNUMERIC)"
      ],
      "execution_count": null,
      "outputs": [
        {
          "output_type": "stream",
          "name": "stdout",
          "text": [
            "\n",
            "\n",
            "\n",
            "loading model from ./drive/MyDrive/tvd5455/VvsNV/Relations/outputs_roberta//checkpoint-200/pytorch_model.bin\n"
          ]
        },
        {
          "output_type": "stream",
          "name": "stderr",
          "text": [
            "INFO:root:Creating features from dataset file at ./drive/MyDrive/tvd5455/VvsNV/common_data/\n",
            "INFO:root:There are 891041 examples....\n",
            "INFO:root:@USER cant wait til he runs for potus and theres 6000 families with a story to tell about a loved 1 murdered during covid . andy \" the elderly slayer \" cuomo who thinks hes king\n",
            "INFO:root:Saving features into cached file ./drive/MyDrive/tvd5455/VvsNV/Relations/processed_data/cached_df_to_label3_roberta-large_128_both\n",
            "INFO:root:***** Running evaluation 200 *****\n",
            "INFO:root:  Num examples = 891041\n",
            "INFO:root:  Batch size = 150\n",
            "Evaluating: 100%|██████████| 5941/5941 [2:52:09<00:00,  1.74s/it]\n"
          ]
        },
        {
          "output_type": "stream",
          "name": "stdout",
          "text": [
            "Index(['TweetID', 'Tweet', 'ID', 'Text', 'Thoughts_binary',\n",
            "       'Information_binary', 'Feelings_binary', 'Intimacy_binary',\n",
            "       'Relations_binary'],\n",
            "      dtype='object')\n"
          ]
        }
      ]
    },
    {
      "cell_type": "code",
      "metadata": {
        "colab": {
          "base_uri": "https://localhost:8080/"
        },
        "id": "ABRSOprdGJbs",
        "outputId": "0efe4bee-7d60-4214-ae18-9bdb8b22b645"
      },
      "source": [
        "import pandas as pd\n",
        "dd = pd.read_csv(os.path.join(HOME, 'common_data/df_to_label1_labeled.csv'), index_col=0)\n",
        "print(dd.columns)\n",
        "print(dd.shape)"
      ],
      "execution_count": null,
      "outputs": [
        {
          "output_type": "stream",
          "name": "stdout",
          "text": [
            "Index(['TweetID', 'Tweet', 'ID', 'Text', 'Thoughts_binary',\n",
            "       'Information_binary', 'Feelings_binary', 'Intimacy_binary',\n",
            "       'Relations_binary'],\n",
            "      dtype='object')\n",
            "(292412, 9)\n"
          ]
        }
      ]
    }
  ]
}